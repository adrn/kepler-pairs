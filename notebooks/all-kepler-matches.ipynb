{
 "cells": [
  {
   "cell_type": "markdown",
   "metadata": {},
   "source": [
    "## Co-moving stars in Kepler"
   ]
  },
  {
   "cell_type": "markdown",
   "metadata": {},
   "source": [
    "(done in a very hacky way) (but this is probably ok because we're assuming all the stars are far away)"
   ]
  },
  {
   "cell_type": "code",
   "execution_count": 1,
   "metadata": {},
   "outputs": [],
   "source": [
    "import numpy as np\n",
    "from astropy.table import Table, unique\n",
    "from astropy import units as u\n",
    "import astropy.coordinates as coord\n",
    "from astropy.time import Time\n",
    "from astropy.io import fits\n",
    "import matplotlib.pyplot as plt\n",
    "from tqdm import tqdm\n",
    "import pandas as pd"
   ]
  },
  {
   "cell_type": "markdown",
   "metadata": {},
   "source": [
    "Load up the table of all Gaia DR2 sources within the Kepler field:"
   ]
  },
  {
   "cell_type": "code",
   "execution_count": 2,
   "metadata": {},
   "outputs": [],
   "source": [
    "gaia_table_file = '../data/gaia-kepler-dustin.fits'\n",
    "hdul = fits.open(gaia_table_file)\n",
    "gaia_src_tbl = Table(hdul[1].data)"
   ]
  },
  {
   "cell_type": "code",
   "execution_count": 3,
   "metadata": {},
   "outputs": [],
   "source": [
    "#filter = (gaia_src_tbl['phot_g_mean_mag'] >= 18.) & (gaia_src_tbl['parallax'] > 0.01)\n",
    "#gaia_src_tbl = gaia_src_tbl[filter]"
   ]
  },
  {
   "cell_type": "code",
   "execution_count": 4,
   "metadata": {},
   "outputs": [],
   "source": [
    "gaia_src_tbl = gaia_src_tbl.to_pandas()"
   ]
  },
  {
   "cell_type": "markdown",
   "metadata": {},
   "source": [
    "Now load up the Gaia-Kepler cross-match so we can add Kepler IDs to the best-match Gaia sources:"
   ]
  },
  {
   "cell_type": "code",
   "execution_count": 5,
   "metadata": {},
   "outputs": [
    {
     "name": "stdout",
     "output_type": "stream",
     "text": [
      "195830\n"
     ]
    }
   ],
   "source": [
    "kepler_table_file = '../data/kepler_dr2_1arcsec.fits'\n",
    "hdul = fits.open(kepler_table_file)\n",
    "kepler_tbl = Table(hdul[1].data)\n",
    "gaia_kepler_matches = kepler_tbl['kepid', 'kepler_gaia_ang_dist', 'source_id', 'nconfp', 'nkoi', 'planet?']\n",
    "gaia_kepler_matches = gaia_kepler_matches.to_pandas()\n",
    "print(len(gaia_kepler_matches))"
   ]
  },
  {
   "cell_type": "markdown",
   "metadata": {},
   "source": [
    "Trim off the less-good matches so that there's one unique Gaia source per Kepler target:"
   ]
  },
  {
   "cell_type": "code",
   "execution_count": 6,
   "metadata": {},
   "outputs": [
    {
     "name": "stdout",
     "output_type": "stream",
     "text": [
      "193244\n"
     ]
    }
   ],
   "source": [
    "gaia_kepler_matches.sort_values(['kepid', 'kepler_gaia_ang_dist'], inplace=True)\n",
    "gaia_kepler_matches.drop_duplicates('kepid', inplace=True)\n",
    "print(len(gaia_kepler_matches))"
   ]
  },
  {
   "cell_type": "markdown",
   "metadata": {},
   "source": [
    "And join the tables:"
   ]
  },
  {
   "cell_type": "code",
   "execution_count": 7,
   "metadata": {},
   "outputs": [
    {
     "data": {
      "text/plain": [
       "9376693"
      ]
     },
     "execution_count": 7,
     "metadata": {},
     "output_type": "execute_result"
    }
   ],
   "source": [
    "table = gaia_src_tbl.merge(gaia_kepler_matches, on='source_id', how='left')\n",
    "len(table)"
   ]
  },
  {
   "cell_type": "code",
   "execution_count": 8,
   "metadata": {},
   "outputs": [
    {
     "name": "stdout",
     "output_type": "stream",
     "text": [
      "          kepid  kepler_gaia_ang_dist            source_id  nconfp  nkoi  \\\n",
      "100000  8151284              0.108671  2105885485289168768       0     0   \n",
      "\n",
      "       planet?  \n",
      "100000    none  \n",
      "                solution_id                   designation  \\\n",
      "979714  1635721458409799680  Gaia DR2 2105885485289168768   \n",
      "\n",
      "                  source_id  random_index  ref_epoch          ra  ra_error  \\\n",
      "979714  2105885485289168768     486039161     2015.5  285.685012  0.018974   \n",
      "\n",
      "              dec  dec_error  parallax          ...           e_bp_min_rp_val  \\\n",
      "979714  44.060521   0.020247  0.654823          ...                    0.1898   \n",
      "\n",
      "        e_bp_min_rp_percentile_lower  e_bp_min_rp_percentile_upper  \\\n",
      "979714                        0.1285                        0.2864   \n",
      "\n",
      "        flame_flags  radius_val  radius_percentile_lower  \\\n",
      "979714         3503    1.370843                  1.27356   \n",
      "\n",
      "        radius_percentile_upper  lum_val  lum_percentile_lower  \\\n",
      "979714                 1.658074   2.3351              2.141423   \n",
      "\n",
      "        lum_percentile_upper  \n",
      "979714              2.528777  \n",
      "\n",
      "[1 rows x 94 columns]\n"
     ]
    }
   ],
   "source": [
    "test_id = 2105885485289168768\n",
    "print(gaia_kepler_matches[gaia_kepler_matches['source_id'] == test_id])\n",
    "print(gaia_src_tbl[gaia_src_tbl['source_id'] == test_id])"
   ]
  },
  {
   "cell_type": "markdown",
   "metadata": {},
   "source": [
    "Now load up Dustin's pairs:"
   ]
  },
  {
   "cell_type": "code",
   "execution_count": 9,
   "metadata": {},
   "outputs": [],
   "source": [
    "pairs_file = '../data/matched-pairs-dustin.fits'\n",
    "hdul = fits.open(pairs_file)\n",
    "pairs = hdul[0].data"
   ]
  },
  {
   "cell_type": "markdown",
   "metadata": {},
   "source": [
    "Define some useful functions:"
   ]
  },
  {
   "cell_type": "code",
   "execution_count": 11,
   "metadata": {},
   "outputs": [],
   "source": [
    "def ppm_check(star1, star2, sigma=5.):\n",
    "    \"\"\"\n",
    "    Returns True if the differences between parallax, pmra, and pmdec are all below \n",
    "    the sigma threshold.\n",
    "    \"\"\"\n",
    "    names = ['parallax', 'pmra', 'pmdec']\n",
    "    for name in names:\n",
    "        err = np.sqrt(star1[name+'_error']**2 + star2[name+'_error']**2)\n",
    "        if np.isnan(star1[name]) or np.isnan(star2[name]) or np.isnan(err):\n",
    "            return False\n",
    "        if (np.abs(star1[name] - star2[name])/err) >= sigma:\n",
    "            return False\n",
    "    return True"
   ]
  },
  {
   "cell_type": "code",
   "execution_count": 12,
   "metadata": {},
   "outputs": [],
   "source": [
    "def make_x(star):\n",
    "    \"\"\"\n",
    "    returns a vector of x = [parallax, pmra, pmdec]\n",
    "    \"\"\"\n",
    "    names = ['parallax', 'pmra', 'pmdec']\n",
    "    return np.array([star[n] for n in names])\n",
    "\n",
    "def make_cov(star):\n",
    "    \"\"\"\n",
    "    returns covariance matrix C corresponding to x\n",
    "    \"\"\"\n",
    "    names = ['parallax', 'pmra', 'pmdec']\n",
    "    C = np.zeros((3, 3)) # brittle\n",
    "    for i, name1 in enumerate(names):\n",
    "        err = star[name1+'_error']\n",
    "        C[i, i] = err ** 2\n",
    "        for j, name2 in enumerate(names):\n",
    "            if j >= i:\n",
    "                continue\n",
    "            corr = star[\"{0}_{1}_corr\".format(name2, name1)]\n",
    "            C[i, j] = corr * np.sqrt(C[i, i] * C[j, j])\n",
    "            C[j, i] = C[i, j]\n",
    "    return C\n",
    "\n",
    "def chisq(star1, star2):\n",
    "    \"\"\"\n",
    "    calculates chisquared for two stars based on their parallax and 2D proper motions\n",
    "    \"\"\"\n",
    "    deltax = make_x(star1) - make_x(star2)\n",
    "    cplusc = make_cov(star1) + make_cov(star2)\n",
    "    return np.dot(deltax, np.linalg.solve(cplusc, deltax))"
   ]
  },
  {
   "cell_type": "code",
   "execution_count": 13,
   "metadata": {},
   "outputs": [],
   "source": [
    "def check_with_primary(m, primary):\n",
    "    if ppm_check(primary, m):\n",
    "        return chisq(primary, m)\n",
    "    else:\n",
    "        return -1"
   ]
  },
  {
   "cell_type": "code",
   "execution_count": null,
   "metadata": {},
   "outputs": [
    {
     "name": "stderr",
     "output_type": "stream",
     "text": [
      "57327it [00:47, 1210.51it/s]"
     ]
    }
   ],
   "source": [
    "chisqs = np.zeros_like(pairs) - 1.\n",
    "\n",
    "for i,row in tqdm(enumerate(pairs)):\n",
    "    primary = table.iloc[i]\n",
    "    matches = table.iloc[row[(row > -1) & (row > i)]] # ignore non-matches and duplicates\n",
    "    if len(matches) > 0:\n",
    "        row_of_chisqs = matches.apply(check_with_primary, args=(primary,), axis=1)\n",
    "        chisqs[i,:len(row_of_chisqs)] = row_of_chisqs.values"
   ]
  },
  {
   "cell_type": "code",
   "execution_count": null,
   "metadata": {},
   "outputs": [],
   "source": [
    "plt.hist(chisqs[(chisqs > 0.) & (chisqs < 10.)], bins=100)\n",
    "plt.xlabel('$\\chi^2$')\n",
    "plt.ylabel('# Pairs')\n",
    "plt.yscale('log')"
   ]
  },
  {
   "cell_type": "code",
   "execution_count": null,
   "metadata": {},
   "outputs": [],
   "source": []
  }
 ],
 "metadata": {
  "kernelspec": {
   "display_name": "Python 3",
   "language": "python",
   "name": "python3"
  },
  "language_info": {
   "codemirror_mode": {
    "name": "ipython",
    "version": 3
   },
   "file_extension": ".py",
   "mimetype": "text/x-python",
   "name": "python",
   "nbconvert_exporter": "python",
   "pygments_lexer": "ipython3",
   "version": "3.6.4"
  }
 },
 "nbformat": 4,
 "nbformat_minor": 2
}
