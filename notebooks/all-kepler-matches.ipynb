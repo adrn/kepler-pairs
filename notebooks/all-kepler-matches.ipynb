{
 "cells": [
  {
   "cell_type": "markdown",
   "metadata": {},
   "source": [
    "## Co-moving stars in Kepler"
   ]
  },
  {
   "cell_type": "markdown",
   "metadata": {},
   "source": [
    "(done in a very hacky way) (but this is probably ok because we're assuming all the stars are far away)"
   ]
  },
  {
   "cell_type": "code",
   "execution_count": 1,
   "metadata": {},
   "outputs": [],
   "source": [
    "import numpy as np\n",
    "from astropy.table import Table, unique\n",
    "from astropy import units as u\n",
    "import astropy.coordinates as coord\n",
    "from astropy.time import Time\n",
    "from astropy.io import fits\n",
    "import matplotlib.pyplot as plt\n",
    "from tqdm import tqdm\n",
    "import pandas as pd"
   ]
  },
  {
   "cell_type": "markdown",
   "metadata": {},
   "source": [
    "Load up the table of all Gaia DR2 sources within the Kepler field:"
   ]
  },
  {
   "cell_type": "code",
   "execution_count": 2,
   "metadata": {},
   "outputs": [],
   "source": [
    "gaia_table_file = '../data/16arcsec/gaia-kepler-dustin.fits'\n",
    "hdul = fits.open(gaia_table_file)\n",
    "gaia_src_tbl = Table(hdul[1].data)"
   ]
  },
  {
   "cell_type": "code",
   "execution_count": 3,
   "metadata": {},
   "outputs": [],
   "source": [
    "#filter = (gaia_src_tbl['phot_g_mean_mag'] >= 18.) & (gaia_src_tbl['parallax'] > 0.01)\n",
    "#gaia_src_tbl = gaia_src_tbl[filter]"
   ]
  },
  {
   "cell_type": "code",
   "execution_count": 4,
   "metadata": {},
   "outputs": [],
   "source": [
    "gaia_src_tbl = gaia_src_tbl.to_pandas()"
   ]
  },
  {
   "cell_type": "markdown",
   "metadata": {},
   "source": [
    "Now load up the Gaia-Kepler cross-match so we can add Kepler IDs to the best-match Gaia sources:"
   ]
  },
  {
   "cell_type": "code",
   "execution_count": 5,
   "metadata": {},
   "outputs": [
    {
     "name": "stdout",
     "output_type": "stream",
     "text": [
      "195830\n"
     ]
    }
   ],
   "source": [
    "kepler_table_file = '../data/kepler_dr2_1arcsec.fits'\n",
    "hdul = fits.open(kepler_table_file)\n",
    "kepler_tbl = Table(hdul[1].data)\n",
    "gaia_kepler_matches = kepler_tbl['kepid', 'kepler_gaia_ang_dist', 'source_id', 'nconfp', 'nkoi', 'planet?']\n",
    "gaia_kepler_matches = gaia_kepler_matches.to_pandas()\n",
    "print(len(gaia_kepler_matches))"
   ]
  },
  {
   "cell_type": "markdown",
   "metadata": {},
   "source": [
    "Trim off the less-good matches so that there's one unique Gaia source per Kepler target:"
   ]
  },
  {
   "cell_type": "code",
   "execution_count": 6,
   "metadata": {},
   "outputs": [
    {
     "name": "stdout",
     "output_type": "stream",
     "text": [
      "193244\n"
     ]
    }
   ],
   "source": [
    "gaia_kepler_matches.sort_values(['kepid', 'kepler_gaia_ang_dist'], inplace=True)\n",
    "gaia_kepler_matches.drop_duplicates('kepid', inplace=True)\n",
    "print(len(gaia_kepler_matches))"
   ]
  },
  {
   "cell_type": "markdown",
   "metadata": {},
   "source": [
    "And join the tables:"
   ]
  },
  {
   "cell_type": "code",
   "execution_count": 7,
   "metadata": {},
   "outputs": [
    {
     "data": {
      "text/plain": [
       "9376693"
      ]
     },
     "execution_count": 7,
     "metadata": {},
     "output_type": "execute_result"
    }
   ],
   "source": [
    "table = gaia_src_tbl.merge(gaia_kepler_matches, on='source_id', how='left')\n",
    "len(table)"
   ]
  },
  {
   "cell_type": "code",
   "execution_count": 8,
   "metadata": {},
   "outputs": [
    {
     "name": "stdout",
     "output_type": "stream",
     "text": [
      "                solution_id                   designation  \\\n",
      "979714  1635721458409799680  Gaia DR2 2105885485289168768   \n",
      "\n",
      "                  source_id  random_index  ref_epoch          ra  ra_error  \\\n",
      "979714  2105885485289168768     486039161     2015.5  285.685012  0.018974   \n",
      "\n",
      "              dec  dec_error  parallax   ...     radius_percentile_lower  \\\n",
      "979714  44.060521   0.020247  0.654823   ...                     1.27356   \n",
      "\n",
      "        radius_percentile_upper  lum_val  lum_percentile_lower  \\\n",
      "979714                 1.658074   2.3351              2.141423   \n",
      "\n",
      "        lum_percentile_upper      kepid  kepler_gaia_ang_dist  nconfp  nkoi  \\\n",
      "979714              2.528777  8151284.0              0.108671     0.0   0.0   \n",
      "\n",
      "        planet?  \n",
      "979714     none  \n",
      "\n",
      "[1 rows x 99 columns]\n"
     ]
    }
   ],
   "source": [
    "test_id = 2105885485289168768\n",
    "print(table[table['source_id'] == test_id])"
   ]
  },
  {
   "cell_type": "markdown",
   "metadata": {},
   "source": [
    "Now load up Dustin's pairs:"
   ]
  },
  {
   "cell_type": "code",
   "execution_count": 9,
   "metadata": {},
   "outputs": [],
   "source": [
    "pairs_file = '../data/16arcsec/matched-pairs-dustin.fits'\n",
    "hdul = fits.open(pairs_file)\n",
    "pairs = hdul[0].data"
   ]
  },
  {
   "cell_type": "markdown",
   "metadata": {},
   "source": [
    "Define some useful functions:"
   ]
  },
  {
   "cell_type": "code",
   "execution_count": 163,
   "metadata": {},
   "outputs": [],
   "source": [
    "def make_x(table, table_ind):\n",
    "    \"\"\"\n",
    "    returns a vector of x = [parallax, pmra, pmdec]\n",
    "    \"\"\"\n",
    "    names = ['parallax', 'pmra', 'pmdec']\n",
    "    return table.loc[table_ind, names].values.astype('f')\n",
    "\n",
    "def make_xerr(table, table_ind):\n",
    "    \"\"\"\n",
    "    returns a vector of xerr = [parallax_error, pmra_error, pmdec_error]\n",
    "    \"\"\"\n",
    "    err_names = ['parallax_error', 'pmra_error', 'pmdec_error']\n",
    "    return table.loc[table_ind, err_names].values.astype('f')    "
   ]
  },
  {
   "cell_type": "code",
   "execution_count": 164,
   "metadata": {},
   "outputs": [],
   "source": [
    "def ppm_check(table, table_ind1, table_ind2, sigma=5.):\n",
    "    \"\"\"\n",
    "    Returns True if the differences between parallax, pmra, and pmdec are all below \n",
    "    the sigma threshold.\n",
    "    \"\"\"\n",
    "    x1 = make_x(table, table_ind1)\n",
    "    x2 = make_x(table, table_ind2)\n",
    "    if np.any(np.isnan([x1,x2])):\n",
    "        return False\n",
    "    xerr1 = make_xerr(table, table_ind1)\n",
    "    xerr2 = make_xerr(table, table_ind2)\n",
    "    if np.any(np.isnan([xerr1, xerr2])):\n",
    "        return False\n",
    "    if np.any(np.abs(x1 - x2)/np.sqrt(xerr1**2 + xerr2**2) >= sigma):\n",
    "        return False\n",
    "    return True"
   ]
  },
  {
   "cell_type": "code",
   "execution_count": 165,
   "metadata": {},
   "outputs": [],
   "source": [
    "def make_cov(table, table_ind):\n",
    "    \"\"\"\n",
    "    returns covariance matrix C corresponding to x\n",
    "    \"\"\"\n",
    "    names = ['parallax', 'pmra', 'pmdec']\n",
    "    C = np.diag(make_xerr(table, table_ind))\n",
    "    for i, name1 in enumerate(names):\n",
    "        for j, name2 in enumerate(names):\n",
    "            if j >= i:\n",
    "                continue\n",
    "            corr = table.loc[table_ind, \"{0}_{1}_corr\".format(name2, name1)]\n",
    "            C[i, j] = corr * np.sqrt(C[i, i] * C[j, j])\n",
    "            C[j, i] = C[i, j]\n",
    "    return C\n",
    "\n",
    "def chisq(table, table_ind1, table_ind2):\n",
    "    \"\"\"\n",
    "    calculates chisquared for two stars based on their parallax and 2D proper motions\n",
    "    \"\"\"\n",
    "    deltax = make_x(table, table_ind1) - make_x(table, table_ind2)\n",
    "    cplusc = make_cov(table, table_ind1) + make_cov(table, table_ind2)\n",
    "    return np.dot(deltax, np.linalg.solve(cplusc, deltax))"
   ]
  },
  {
   "cell_type": "code",
   "execution_count": 166,
   "metadata": {},
   "outputs": [],
   "source": [
    "def calc_chisq(table, table_ind1, table_ind2):\n",
    "    if ppm_check(table, table_ind1, table_ind2):\n",
    "        return chisq(table, table_ind1, table_ind2)\n",
    "    else:\n",
    "        return -1"
   ]
  },
  {
   "cell_type": "markdown",
   "metadata": {},
   "source": [
    "Now calculate a goodness-of-fit metric for each pair, skipping over the ones that don't make an initial cut:"
   ]
  },
  {
   "cell_type": "code",
   "execution_count": null,
   "metadata": {},
   "outputs": [
    {
     "name": "stderr",
     "output_type": "stream",
     "text": [
      "1570007it [1:32:46, 282.03it/s]"
     ]
    }
   ],
   "source": [
    "chisqs = np.zeros_like(pairs) - 1.\n",
    "\n",
    "for i,row in tqdm(enumerate(pairs)):\n",
    "    primary_ind = i\n",
    "    for j,match_ind in enumerate(row):\n",
    "        if (match_ind != -1) and (match_ind > primary_ind):\n",
    "            chisqs[i,j] = calc_chisq(table, primary_ind, match_ind)"
   ]
  },
  {
   "cell_type": "markdown",
   "metadata": {},
   "source": [
    "Save the outputs and take a look at their distribution:"
   ]
  },
  {
   "cell_type": "code",
   "execution_count": null,
   "metadata": {},
   "outputs": [],
   "source": [
    "hdu = fits.PrimaryHDU(chisqs)\n",
    "hdulist = fits.HDUList([hdu])\n",
    "hdulist.writeto('../data/16arcsec/chisqs_matched-pairs.fits')\n",
    "hdulist.close()"
   ]
  },
  {
   "cell_type": "code",
   "execution_count": 13,
   "metadata": {},
   "outputs": [],
   "source": [
    "# optional - load up already-saved outputs\n",
    "hdul = fits.open('../data/16arcsec/chisqs_matched-pairs-dustin.fits')\n",
    "chisqs = hdul[0].data"
   ]
  },
  {
   "cell_type": "code",
   "execution_count": null,
   "metadata": {},
   "outputs": [],
   "source": [
    "plt.hist(chisqs[(chisqs > 0.) & (chisqs < 10.)], bins=100)\n",
    "plt.xlabel('$\\chi^2$', fontsize=16)\n",
    "plt.ylabel('# Pairs', fontsize=16)\n",
    "plt.yscale('log')\n",
    "plt.savefig('chisq_keplerpairs.png')"
   ]
  },
  {
   "cell_type": "markdown",
   "metadata": {},
   "source": [
    "OK, now let's select the best-fit pairs and save their indicies for easy access:"
   ]
  },
  {
   "cell_type": "code",
   "execution_count": 168,
   "metadata": {},
   "outputs": [
    {
     "data": {
      "text/plain": [
       "305"
      ]
     },
     "execution_count": 168,
     "metadata": {},
     "output_type": "execute_result"
    }
   ],
   "source": [
    "matches_mask = (chisqs > 0) & (chisqs < 2)\n",
    "np.sum(matches_mask)"
   ]
  },
  {
   "cell_type": "code",
   "execution_count": 169,
   "metadata": {},
   "outputs": [],
   "source": [
    "len_inds, len_matches = np.shape(pairs)\n",
    "pairs_inds = np.array([np.arange(len_inds),]*len_matches).transpose()\n",
    "pairs_ind1s = pairs_inds[matches_mask]\n",
    "pairs_ind2s = pairs[matches_mask]"
   ]
  },
  {
   "cell_type": "code",
   "execution_count": 170,
   "metadata": {},
   "outputs": [],
   "source": [
    "def read_match_attr(ind1, ind2, attr):\n",
    "    return table.iloc[ind1][attr], table.iloc[ind2][attr]"
   ]
  },
  {
   "cell_type": "code",
   "execution_count": 171,
   "metadata": {},
   "outputs": [
    {
     "name": "stdout",
     "output_type": "stream",
     "text": [
      "source_ids of a pair:\n",
      "(2097438792153786368, 2097438727722672128)\n"
     ]
    }
   ],
   "source": [
    "print(\"source_ids of a pair:\")\n",
    "print(read_match_attr(pairs_ind1s[0], pairs_ind2s[0], 'source_id'))"
   ]
  },
  {
   "cell_type": "markdown",
   "metadata": {},
   "source": [
    "Sanity check: plot the parallax and proper motions of an identified match"
   ]
  },
  {
   "cell_type": "code",
   "execution_count": 172,
   "metadata": {},
   "outputs": [],
   "source": [
    "from plot_tools import error_ellipse\n",
    "fs = 12"
   ]
  },
  {
   "cell_type": "code",
   "execution_count": 173,
   "metadata": {},
   "outputs": [],
   "source": [
    "def plot_xs(i, sigma=1):\n",
    "    x1 = make_x(table, pairs_ind1s[i])\n",
    "    cov1 = make_cov(table, pairs_ind1s[i])\n",
    "    x2 = make_x(table, pairs_ind2s[i])\n",
    "    cov2 = make_cov(table, pairs_ind2s[i])\n",
    "    fig = plt.figure(figsize=(12,4))\n",
    "    ax1 = fig.add_subplot(131)\n",
    "    error_ellipse(ax1, x1[0], x1[1], cov1[:2,:2], ec='red', sigma=sigma)\n",
    "    error_ellipse(ax1, x2[0], x2[1], cov2[:2,:2], ec='blue', sigma=sigma)\n",
    "    ax1.set_xlim([min([x1[0], x2[0]]) - 5., max([x1[0], x2[0]]) + 5.])\n",
    "    ax1.set_ylim([min([x1[1], x2[1]]) - 5., max([x1[1], x2[1]]) + 5.])\n",
    "    ax1.set_xlabel('Parallax (mas)', fontsize=fs)\n",
    "    ax1.set_ylabel('PM RA (mas yr$^{-1}$)', fontsize=fs)\n",
    "\n",
    "    ax2 = fig.add_subplot(133)\n",
    "    error_ellipse(ax2, x1[1], x1[2], cov1[1:,1:], ec='red', sigma=sigma)\n",
    "    error_ellipse(ax2, x2[1], x2[2], cov2[1:,1:], ec='blue', sigma=sigma)\n",
    "    ax2.set_xlim([min([x1[1], x2[1]]) - 5., max([x1[1], x2[1]]) + 5.])\n",
    "    ax2.set_ylim([min([x1[2], x2[2]]) - 5., max([x1[2], x2[2]]) + 5.])\n",
    "    ax2.set_xlabel('PM RA (mas yr$^{-1}$)', fontsize=fs)\n",
    "    ax2.set_ylabel('PM Dec (mas yr$^{-1}$)', fontsize=fs)\n",
    "    \n",
    "    ax3 = fig.add_subplot(132)\n",
    "    c1 = np.delete(np.delete(cov1, 1, axis=0), 1, axis=1)\n",
    "    c2 = np.delete(np.delete(cov2, 1, axis=0), 1, axis=1)\n",
    "    error_ellipse(ax3, x1[0], x1[2], c1, ec='red', sigma=sigma)\n",
    "    error_ellipse(ax3, x2[0], x2[2], c2, ec='blue', sigma=sigma)\n",
    "    ax3.set_xlim([min([x1[0], x2[0]]) - 5., max([x1[0], x2[0]]) + 5.])\n",
    "    ax3.set_ylim([min([x1[2], x2[2]]) - 5., max([x1[2], x2[2]]) + 5.])\n",
    "    ax3.set_xlabel('Parallax (mas)', fontsize=fs)\n",
    "    ax3.set_ylabel('PM Dec (mas yr$^{-1}$)', fontsize=fs)\n",
    "    \n",
    "    fig.subplots_adjust(wspace = 0.5)\n",
    "    fig.text(0.5, 0.95, 'match #{0}'.format(i), horizontalalignment='center', \n",
    "             transform=ax3.transAxes, fontsize=fs+2)"
   ]
  },
  {
   "cell_type": "code",
   "execution_count": 174,
   "metadata": {},
   "outputs": [
    {
     "name": "stdout",
     "output_type": "stream",
     "text": [
      "match 71: source_ids (2097257235292202112, 2097257235292199040)\n"
     ]
    },
    {
     "data": {
      "image/png": "[encoded data removed]",
      "text/plain": [
       "<Figure size 864x288 with 3 Axes>"
      ]
     },
     "metadata": {},
     "output_type": "display_data"
    }
   ],
   "source": [
    "i = np.random.randint(0, len(pairs_ind1s))\n",
    "print(\"match {0}: source_ids {1}\".format(i, \n",
    "            read_match_attr(pairs_ind1s[i], pairs_ind2s[i], 'source_id')))\n",
    "plot_xs(i, sigma=3)"
   ]
  },
  {
   "cell_type": "code",
   "execution_count": 175,
   "metadata": {},
   "outputs": [
    {
     "data": {
      "text/html": [
       "<div>\n",
       "<style scoped>\n",
       "    .dataframe tbody tr th:only-of-type {\n",
       "        vertical-align: middle;\n",
       "    }\n",
       "\n",
       "    .dataframe tbody tr th {\n",
       "        vertical-align: top;\n",
       "    }\n",
       "\n",
       "    .dataframe thead th {\n",
       "        text-align: right;\n",
       "    }\n",
       "</style>\n",
       "<table border=\"1\" class=\"dataframe\">\n",
       "  <thead>\n",
       "    <tr style=\"text-align: right;\">\n",
       "      <th></th>\n",
       "      <th>solution_id</th>\n",
       "      <th>designation</th>\n",
       "      <th>source_id</th>\n",
       "      <th>random_index</th>\n",
       "      <th>ref_epoch</th>\n",
       "      <th>ra</th>\n",
       "      <th>ra_error</th>\n",
       "      <th>dec</th>\n",
       "      <th>dec_error</th>\n",
       "      <th>parallax</th>\n",
       "      <th>parallax_error</th>\n",
       "      <th>parallax_over_error</th>\n",
       "      <th>pmra</th>\n",
       "      <th>pmra_error</th>\n",
       "      <th>pmdec</th>\n",
       "      <th>pmdec_error</th>\n",
       "      <th>ra_dec_corr</th>\n",
       "      <th>ra_parallax_corr</th>\n",
       "      <th>ra_pmra_corr</th>\n",
       "      <th>ra_pmdec_corr</th>\n",
       "      <th>dec_parallax_corr</th>\n",
       "      <th>dec_pmra_corr</th>\n",
       "      <th>dec_pmdec_corr</th>\n",
       "      <th>parallax_pmra_corr</th>\n",
       "      <th>parallax_pmdec_corr</th>\n",
       "      <th>pmra_pmdec_corr</th>\n",
       "      <th>astrometric_n_obs_al</th>\n",
       "      <th>astrometric_n_obs_ac</th>\n",
       "      <th>astrometric_n_good_obs_al</th>\n",
       "      <th>astrometric_n_bad_obs_al</th>\n",
       "      <th>astrometric_gof_al</th>\n",
       "      <th>astrometric_chi2_al</th>\n",
       "      <th>astrometric_excess_noise</th>\n",
       "      <th>astrometric_excess_noise_sig</th>\n",
       "      <th>astrometric_params_solved</th>\n",
       "      <th>astrometric_primary_flag</th>\n",
       "      <th>astrometric_weight_al</th>\n",
       "      <th>astrometric_pseudo_colour</th>\n",
       "      <th>astrometric_pseudo_colour_error</th>\n",
       "      <th>mean_varpi_factor_al</th>\n",
       "      <th>astrometric_matched_observations</th>\n",
       "      <th>visibility_periods_used</th>\n",
       "      <th>astrometric_sigma5d_max</th>\n",
       "      <th>frame_rotator_object_type</th>\n",
       "      <th>matched_observations</th>\n",
       "      <th>duplicated_source</th>\n",
       "      <th>phot_g_n_obs</th>\n",
       "      <th>phot_g_mean_flux</th>\n",
       "      <th>phot_g_mean_flux_error</th>\n",
       "      <th>phot_g_mean_flux_over_error</th>\n",
       "      <th>phot_g_mean_mag</th>\n",
       "      <th>phot_bp_n_obs</th>\n",
       "      <th>phot_bp_mean_flux</th>\n",
       "      <th>phot_bp_mean_flux_error</th>\n",
       "      <th>phot_bp_mean_flux_over_error</th>\n",
       "      <th>phot_bp_mean_mag</th>\n",
       "      <th>phot_rp_n_obs</th>\n",
       "      <th>phot_rp_mean_flux</th>\n",
       "      <th>phot_rp_mean_flux_error</th>\n",
       "      <th>phot_rp_mean_flux_over_error</th>\n",
       "      <th>phot_rp_mean_mag</th>\n",
       "      <th>phot_bp_rp_excess_factor</th>\n",
       "      <th>phot_proc_mode</th>\n",
       "      <th>bp_rp</th>\n",
       "      <th>bp_g</th>\n",
       "      <th>g_rp</th>\n",
       "      <th>radial_velocity</th>\n",
       "      <th>radial_velocity_error</th>\n",
       "      <th>rv_nb_transits</th>\n",
       "      <th>rv_template_teff</th>\n",
       "      <th>rv_template_logg</th>\n",
       "      <th>rv_template_fe_h</th>\n",
       "      <th>phot_variable_flag</th>\n",
       "      <th>l</th>\n",
       "      <th>b</th>\n",
       "      <th>ecl_lon</th>\n",
       "      <th>ecl_lat</th>\n",
       "      <th>priam_flags</th>\n",
       "      <th>teff_val</th>\n",
       "      <th>teff_percentile_lower</th>\n",
       "      <th>teff_percentile_upper</th>\n",
       "      <th>a_g_val</th>\n",
       "      <th>a_g_percentile_lower</th>\n",
       "      <th>a_g_percentile_upper</th>\n",
       "      <th>e_bp_min_rp_val</th>\n",
       "      <th>e_bp_min_rp_percentile_lower</th>\n",
       "      <th>e_bp_min_rp_percentile_upper</th>\n",
       "      <th>flame_flags</th>\n",
       "      <th>radius_val</th>\n",
       "      <th>radius_percentile_lower</th>\n",
       "      <th>radius_percentile_upper</th>\n",
       "      <th>lum_val</th>\n",
       "      <th>lum_percentile_lower</th>\n",
       "      <th>lum_percentile_upper</th>\n",
       "      <th>kepid</th>\n",
       "      <th>kepler_gaia_ang_dist</th>\n",
       "      <th>nconfp</th>\n",
       "      <th>nkoi</th>\n",
       "      <th>planet?</th>\n",
       "    </tr>\n",
       "  </thead>\n",
       "  <tbody>\n",
       "    <tr>\n",
       "      <th>2015</th>\n",
       "      <td>1635721458409799680</td>\n",
       "      <td>Gaia DR2 2097257235292202112</td>\n",
       "      <td>2097257235292202112</td>\n",
       "      <td>1212467547</td>\n",
       "      <td>2015.5</td>\n",
       "      <td>283.070669</td>\n",
       "      <td>0.411210</td>\n",
       "      <td>39.030454</td>\n",
       "      <td>0.425475</td>\n",
       "      <td>0.249404</td>\n",
       "      <td>0.488274</td>\n",
       "      <td>0.510788</td>\n",
       "      <td>-2.787003</td>\n",
       "      <td>0.990868</td>\n",
       "      <td>-3.769942</td>\n",
       "      <td>1.074806</td>\n",
       "      <td>-0.061893</td>\n",
       "      <td>-0.102978</td>\n",
       "      <td>-0.102777</td>\n",
       "      <td>-0.037804</td>\n",
       "      <td>0.174858</td>\n",
       "      <td>-0.018983</td>\n",
       "      <td>-0.112984</td>\n",
       "      <td>0.076965</td>\n",
       "      <td>0.170248</td>\n",
       "      <td>0.210902</td>\n",
       "      <td>211</td>\n",
       "      <td>0.0</td>\n",
       "      <td>209</td>\n",
       "      <td>2.0</td>\n",
       "      <td>2.070089</td>\n",
       "      <td>247.975540</td>\n",
       "      <td>1.701949</td>\n",
       "      <td>1.924882</td>\n",
       "      <td>31.0</td>\n",
       "      <td>false</td>\n",
       "      <td>0.056837</td>\n",
       "      <td>1.292876</td>\n",
       "      <td>0.121189</td>\n",
       "      <td>0.095080</td>\n",
       "      <td>24</td>\n",
       "      <td>16</td>\n",
       "      <td>1.006695</td>\n",
       "      <td>0</td>\n",
       "      <td>28</td>\n",
       "      <td>false</td>\n",
       "      <td>235</td>\n",
       "      <td>180.714218</td>\n",
       "      <td>0.901717</td>\n",
       "      <td>200.411224</td>\n",
       "      <td>20.045885</td>\n",
       "      <td>9</td>\n",
       "      <td>70.427231</td>\n",
       "      <td>15.84898</td>\n",
       "      <td>4.443644</td>\n",
       "      <td>20.732037</td>\n",
       "      <td>9</td>\n",
       "      <td>233.088776</td>\n",
       "      <td>10.53348</td>\n",
       "      <td>22.128374</td>\n",
       "      <td>18.843117</td>\n",
       "      <td>1.679536</td>\n",
       "      <td>0</td>\n",
       "      <td>1.88892</td>\n",
       "      <td>0.686152</td>\n",
       "      <td>1.202768</td>\n",
       "      <td>NaN</td>\n",
       "      <td>NaN</td>\n",
       "      <td>0</td>\n",
       "      <td>NaN</td>\n",
       "      <td>NaN</td>\n",
       "      <td>NaN</td>\n",
       "      <td>NOT_AVAILABLE</td>\n",
       "      <td>68.805147</td>\n",
       "      <td>16.534935</td>\n",
       "      <td>291.598249</td>\n",
       "      <td>61.493291</td>\n",
       "      <td>-1</td>\n",
       "      <td>NaN</td>\n",
       "      <td>NaN</td>\n",
       "      <td>NaN</td>\n",
       "      <td>NaN</td>\n",
       "      <td>NaN</td>\n",
       "      <td>NaN</td>\n",
       "      <td>NaN</td>\n",
       "      <td>NaN</td>\n",
       "      <td>NaN</td>\n",
       "      <td>-1</td>\n",
       "      <td>NaN</td>\n",
       "      <td>NaN</td>\n",
       "      <td>NaN</td>\n",
       "      <td>NaN</td>\n",
       "      <td>NaN</td>\n",
       "      <td>NaN</td>\n",
       "      <td>NaN</td>\n",
       "      <td>NaN</td>\n",
       "      <td>NaN</td>\n",
       "      <td>NaN</td>\n",
       "      <td>NaN</td>\n",
       "    </tr>\n",
       "    <tr>\n",
       "      <th>2016</th>\n",
       "      <td>1635721458409799680</td>\n",
       "      <td>Gaia DR2 2097257235292199040</td>\n",
       "      <td>2097257235292199040</td>\n",
       "      <td>580134086</td>\n",
       "      <td>2015.5</td>\n",
       "      <td>283.067408</td>\n",
       "      <td>0.287082</td>\n",
       "      <td>39.031951</td>\n",
       "      <td>0.301625</td>\n",
       "      <td>0.356984</td>\n",
       "      <td>0.333981</td>\n",
       "      <td>1.068877</td>\n",
       "      <td>-1.537267</td>\n",
       "      <td>0.787799</td>\n",
       "      <td>-2.756490</td>\n",
       "      <td>0.922426</td>\n",
       "      <td>-0.156032</td>\n",
       "      <td>-0.146737</td>\n",
       "      <td>-0.323673</td>\n",
       "      <td>0.040140</td>\n",
       "      <td>0.057416</td>\n",
       "      <td>0.048627</td>\n",
       "      <td>-0.202558</td>\n",
       "      <td>0.226454</td>\n",
       "      <td>-0.031582</td>\n",
       "      <td>-0.206105</td>\n",
       "      <td>214</td>\n",
       "      <td>0.0</td>\n",
       "      <td>214</td>\n",
       "      <td>0.0</td>\n",
       "      <td>0.603858</td>\n",
       "      <td>220.898132</td>\n",
       "      <td>0.000000</td>\n",
       "      <td>0.000000</td>\n",
       "      <td>31.0</td>\n",
       "      <td>false</td>\n",
       "      <td>0.120246</td>\n",
       "      <td>1.473327</td>\n",
       "      <td>0.084535</td>\n",
       "      <td>0.035609</td>\n",
       "      <td>24</td>\n",
       "      <td>13</td>\n",
       "      <td>0.848362</td>\n",
       "      <td>0</td>\n",
       "      <td>29</td>\n",
       "      <td>false</td>\n",
       "      <td>242</td>\n",
       "      <td>270.495880</td>\n",
       "      <td>1.081696</td>\n",
       "      <td>250.066513</td>\n",
       "      <td>19.607964</td>\n",
       "      <td>0</td>\n",
       "      <td>NaN</td>\n",
       "      <td>NaN</td>\n",
       "      <td>NaN</td>\n",
       "      <td>NaN</td>\n",
       "      <td>0</td>\n",
       "      <td>NaN</td>\n",
       "      <td>NaN</td>\n",
       "      <td>NaN</td>\n",
       "      <td>NaN</td>\n",
       "      <td>NaN</td>\n",
       "      <td>2</td>\n",
       "      <td>NaN</td>\n",
       "      <td>NaN</td>\n",
       "      <td>NaN</td>\n",
       "      <td>NaN</td>\n",
       "      <td>NaN</td>\n",
       "      <td>0</td>\n",
       "      <td>NaN</td>\n",
       "      <td>NaN</td>\n",
       "      <td>NaN</td>\n",
       "      <td>NOT_AVAILABLE</td>\n",
       "      <td>68.805614</td>\n",
       "      <td>16.537844</td>\n",
       "      <td>291.593626</td>\n",
       "      <td>61.495238</td>\n",
       "      <td>-1</td>\n",
       "      <td>NaN</td>\n",
       "      <td>NaN</td>\n",
       "      <td>NaN</td>\n",
       "      <td>NaN</td>\n",
       "      <td>NaN</td>\n",
       "      <td>NaN</td>\n",
       "      <td>NaN</td>\n",
       "      <td>NaN</td>\n",
       "      <td>NaN</td>\n",
       "      <td>-1</td>\n",
       "      <td>NaN</td>\n",
       "      <td>NaN</td>\n",
       "      <td>NaN</td>\n",
       "      <td>NaN</td>\n",
       "      <td>NaN</td>\n",
       "      <td>NaN</td>\n",
       "      <td>NaN</td>\n",
       "      <td>NaN</td>\n",
       "      <td>NaN</td>\n",
       "      <td>NaN</td>\n",
       "      <td>NaN</td>\n",
       "    </tr>\n",
       "  </tbody>\n",
       "</table>\n",
       "</div>"
      ],
      "text/plain": [
       "              solution_id                   designation            source_id  \\\n",
       "2015  1635721458409799680  Gaia DR2 2097257235292202112  2097257235292202112   \n",
       "2016  1635721458409799680  Gaia DR2 2097257235292199040  2097257235292199040   \n",
       "\n",
       "      random_index  ref_epoch          ra  ra_error        dec  dec_error  \\\n",
       "2015    1212467547     2015.5  283.070669  0.411210  39.030454   0.425475   \n",
       "2016     580134086     2015.5  283.067408  0.287082  39.031951   0.301625   \n",
       "\n",
       "      parallax  parallax_error  parallax_over_error      pmra  pmra_error  \\\n",
       "2015  0.249404        0.488274             0.510788 -2.787003    0.990868   \n",
       "2016  0.356984        0.333981             1.068877 -1.537267    0.787799   \n",
       "\n",
       "         pmdec  pmdec_error  ra_dec_corr  ra_parallax_corr  ra_pmra_corr  \\\n",
       "2015 -3.769942     1.074806    -0.061893         -0.102978     -0.102777   \n",
       "2016 -2.756490     0.922426    -0.156032         -0.146737     -0.323673   \n",
       "\n",
       "      ra_pmdec_corr  dec_parallax_corr  dec_pmra_corr  dec_pmdec_corr  \\\n",
       "2015      -0.037804           0.174858      -0.018983       -0.112984   \n",
       "2016       0.040140           0.057416       0.048627       -0.202558   \n",
       "\n",
       "      parallax_pmra_corr  parallax_pmdec_corr  pmra_pmdec_corr  \\\n",
       "2015            0.076965             0.170248         0.210902   \n",
       "2016            0.226454            -0.031582        -0.206105   \n",
       "\n",
       "      astrometric_n_obs_al  astrometric_n_obs_ac  astrometric_n_good_obs_al  \\\n",
       "2015                   211                   0.0                        209   \n",
       "2016                   214                   0.0                        214   \n",
       "\n",
       "      astrometric_n_bad_obs_al  astrometric_gof_al  astrometric_chi2_al  \\\n",
       "2015                       2.0            2.070089           247.975540   \n",
       "2016                       0.0            0.603858           220.898132   \n",
       "\n",
       "      astrometric_excess_noise  astrometric_excess_noise_sig  \\\n",
       "2015                  1.701949                      1.924882   \n",
       "2016                  0.000000                      0.000000   \n",
       "\n",
       "      astrometric_params_solved astrometric_primary_flag  \\\n",
       "2015                       31.0                    false   \n",
       "2016                       31.0                    false   \n",
       "\n",
       "      astrometric_weight_al  astrometric_pseudo_colour  \\\n",
       "2015               0.056837                   1.292876   \n",
       "2016               0.120246                   1.473327   \n",
       "\n",
       "      astrometric_pseudo_colour_error  mean_varpi_factor_al  \\\n",
       "2015                         0.121189              0.095080   \n",
       "2016                         0.084535              0.035609   \n",
       "\n",
       "      astrometric_matched_observations  visibility_periods_used  \\\n",
       "2015                                24                       16   \n",
       "2016                                24                       13   \n",
       "\n",
       "      astrometric_sigma5d_max  frame_rotator_object_type  \\\n",
       "2015                 1.006695                          0   \n",
       "2016                 0.848362                          0   \n",
       "\n",
       "      matched_observations duplicated_source  phot_g_n_obs  phot_g_mean_flux  \\\n",
       "2015                    28             false           235        180.714218   \n",
       "2016                    29             false           242        270.495880   \n",
       "\n",
       "      phot_g_mean_flux_error  phot_g_mean_flux_over_error  phot_g_mean_mag  \\\n",
       "2015                0.901717                   200.411224        20.045885   \n",
       "2016                1.081696                   250.066513        19.607964   \n",
       "\n",
       "      phot_bp_n_obs  phot_bp_mean_flux  phot_bp_mean_flux_error  \\\n",
       "2015              9          70.427231                 15.84898   \n",
       "2016              0                NaN                      NaN   \n",
       "\n",
       "      phot_bp_mean_flux_over_error  phot_bp_mean_mag  phot_rp_n_obs  \\\n",
       "2015                      4.443644         20.732037              9   \n",
       "2016                           NaN               NaN              0   \n",
       "\n",
       "      phot_rp_mean_flux  phot_rp_mean_flux_error  \\\n",
       "2015         233.088776                 10.53348   \n",
       "2016                NaN                      NaN   \n",
       "\n",
       "      phot_rp_mean_flux_over_error  phot_rp_mean_mag  \\\n",
       "2015                     22.128374         18.843117   \n",
       "2016                           NaN               NaN   \n",
       "\n",
       "      phot_bp_rp_excess_factor  phot_proc_mode    bp_rp      bp_g      g_rp  \\\n",
       "2015                  1.679536               0  1.88892  0.686152  1.202768   \n",
       "2016                       NaN               2      NaN       NaN       NaN   \n",
       "\n",
       "      radial_velocity  radial_velocity_error  rv_nb_transits  \\\n",
       "2015              NaN                    NaN               0   \n",
       "2016              NaN                    NaN               0   \n",
       "\n",
       "      rv_template_teff  rv_template_logg  rv_template_fe_h phot_variable_flag  \\\n",
       "2015               NaN               NaN               NaN      NOT_AVAILABLE   \n",
       "2016               NaN               NaN               NaN      NOT_AVAILABLE   \n",
       "\n",
       "              l          b     ecl_lon    ecl_lat  priam_flags  teff_val  \\\n",
       "2015  68.805147  16.534935  291.598249  61.493291           -1       NaN   \n",
       "2016  68.805614  16.537844  291.593626  61.495238           -1       NaN   \n",
       "\n",
       "      teff_percentile_lower  teff_percentile_upper  a_g_val  \\\n",
       "2015                    NaN                    NaN      NaN   \n",
       "2016                    NaN                    NaN      NaN   \n",
       "\n",
       "      a_g_percentile_lower  a_g_percentile_upper  e_bp_min_rp_val  \\\n",
       "2015                   NaN                   NaN              NaN   \n",
       "2016                   NaN                   NaN              NaN   \n",
       "\n",
       "      e_bp_min_rp_percentile_lower  e_bp_min_rp_percentile_upper  flame_flags  \\\n",
       "2015                           NaN                           NaN           -1   \n",
       "2016                           NaN                           NaN           -1   \n",
       "\n",
       "      radius_val  radius_percentile_lower  radius_percentile_upper  lum_val  \\\n",
       "2015         NaN                      NaN                      NaN      NaN   \n",
       "2016         NaN                      NaN                      NaN      NaN   \n",
       "\n",
       "      lum_percentile_lower  lum_percentile_upper  kepid  kepler_gaia_ang_dist  \\\n",
       "2015                   NaN                   NaN    NaN                   NaN   \n",
       "2016                   NaN                   NaN    NaN                   NaN   \n",
       "\n",
       "      nconfp  nkoi planet?  \n",
       "2015     NaN   NaN     NaN  \n",
       "2016     NaN   NaN     NaN  "
      ]
     },
     "execution_count": 175,
     "metadata": {},
     "output_type": "execute_result"
    }
   ],
   "source": [
    "pd.options.display.max_columns = None\n",
    "src1, src2 = read_match_attr(pairs_ind1s[i], pairs_ind2s[i], 'source_id')\n",
    "table[table['source_id'].isin([src1, src2])]"
   ]
  },
  {
   "cell_type": "code",
   "execution_count": 176,
   "metadata": {},
   "outputs": [
    {
     "name": "stdout",
     "output_type": "stream",
     "text": [
      "saved chisquared = 1.36788\n"
     ]
    }
   ],
   "source": [
    "print(\"saved chisquared = {0:.5f}\".format(chisqs[pairs_ind1s[i]][np.where(pairs[pairs_ind1s[i]] \n",
    "                                                                    == pairs_ind2s[i])[0][0]]))\n"
   ]
  },
  {
   "cell_type": "code",
   "execution_count": 177,
   "metadata": {},
   "outputs": [
    {
     "data": {
      "text/plain": [
       "1.3678844"
      ]
     },
     "execution_count": 177,
     "metadata": {},
     "output_type": "execute_result"
    }
   ],
   "source": [
    "star1 = table[table['source_id'] == src1]\n",
    "star2 = table[table['source_id'] == src2]\n",
    "x1 = make_x(table, pairs_ind1s[i])\n",
    "x2 = make_x(table, pairs_ind2s[i])\n",
    "xerr1 = make_xerr(table, pairs_ind1s[i])\n",
    "xerr2 = make_xerr(table, pairs_ind2s[i])\n",
    "np.abs(x1 - x2)/np.sqrt(xerr1**2 + xerr2**2)\n",
    "chisq(table, pairs_ind1s[i], pairs_ind2s[i])"
   ]
  },
  {
   "cell_type": "markdown",
   "metadata": {},
   "source": [
    "Let's look at the relative luminosities of each match:"
   ]
  },
  {
   "cell_type": "code",
   "execution_count": 178,
   "metadata": {},
   "outputs": [
    {
     "name": "stderr",
     "output_type": "stream",
     "text": [
      "/Users/mbedell/miniconda3/lib/python3.6/site-packages/ipykernel_launcher.py:4: RuntimeWarning: invalid value encountered in log10\n",
      "  after removing the cwd from sys.path.\n",
      "/Users/mbedell/miniconda3/lib/python3.6/site-packages/ipykernel_launcher.py:6: RuntimeWarning: invalid value encountered in log10\n",
      "  \n"
     ]
    }
   ],
   "source": [
    "(gmag1, gmag2) = read_match_attr(pairs_ind1s, pairs_ind2s, 'phot_g_mean_mag')\n",
    "(plx1, plx2) = read_match_attr(pairs_ind1s, pairs_ind2s, 'parallax')\n",
    "dist1 = 1.e3/plx1\n",
    "absg1 = gmag1 - 5.*(np.log10(dist1) - 1.)\n",
    "dist2 = 1.e3/plx2\n",
    "absg2 = gmag2 - 5.*(np.log10(dist2) - 1.)"
   ]
  },
  {
   "cell_type": "markdown",
   "metadata": {},
   "source": [
    "Select only the ones with measured G:"
   ]
  },
  {
   "cell_type": "code",
   "execution_count": 179,
   "metadata": {},
   "outputs": [],
   "source": [
    "mask = np.all(np.vstack([np.isfinite(absg1), np.isfinite(absg2)]), axis=0)\n",
    "good_pairs_2d = np.vstack([absg1[mask], absg2[mask]])\n",
    "#good_pairs_2d = np.sort(good_pairs_2d, axis=0) # we could sort by brightness here\n",
    "absg1, absg2 = good_pairs_2d[0], good_pairs_2d[1]"
   ]
  },
  {
   "cell_type": "code",
   "execution_count": 180,
   "metadata": {},
   "outputs": [
    {
     "data": {
      "image/png": "[encoded data removed]",
      "text/plain": [
       "<Figure size 432x288 with 1 Axes>"
      ]
     },
     "metadata": {},
     "output_type": "display_data"
    }
   ],
   "source": [
    "absg = np.append(absg1, absg2)\n",
    "hist = plt.hist(absg, bins=500)\n",
    "plt.xlim([-5,15])\n",
    "plt.xlabel('G')\n",
    "plt.ylabel('# of stars')\n",
    "plt.savefig('absmag_hist.png')"
   ]
  },
  {
   "cell_type": "code",
   "execution_count": 182,
   "metadata": {},
   "outputs": [
    {
     "data": {
      "image/png": "[encoded data removed]",
      "text/plain": [
       "<Figure size 432x288 with 2 Axes>"
      ]
     },
     "metadata": {},
     "output_type": "display_data"
    }
   ],
   "source": [
    "from matplotlib.colors import LogNorm\n",
    "plt.hist2d(absg1, absg2, bins=(10,10), norm=LogNorm())\n",
    "cbar = plt.colorbar()\n",
    "cbar.ax.set_ylabel('# of stars', rotation=270)\n",
    "plt.xlabel('G$_{1}$')\n",
    "plt.ylabel('G$_{2}$')\n",
    "plt.xlim([-5, 15])\n",
    "plt.ylim([-5, 15])\n",
    "plt.savefig('absmag_pairs.pdf')"
   ]
  },
  {
   "cell_type": "markdown",
   "metadata": {},
   "source": [
    "Now let's see how many of the matches are in the Kepler catalog, and whether any of them have planets!"
   ]
  },
  {
   "cell_type": "code",
   "execution_count": null,
   "metadata": {},
   "outputs": [],
   "source": [
    "ind1_is_kic = np.isfinite(table.iloc[pairs_ind1s]['kepid'])\n",
    "ind2_is_kic = np.isfinite(table.iloc[pairs_ind2s]['kepid'])"
   ]
  },
  {
   "cell_type": "code",
   "execution_count": null,
   "metadata": {},
   "outputs": [],
   "source": [
    "one_is_kic = np.any(np.vstack([ind1_is_kic, ind2_is_kic]), axis=0)\n",
    "both_are_kic = np.all(np.vstack([ind1_is_kic, ind2_is_kic]), axis=0)"
   ]
  },
  {
   "cell_type": "code",
   "execution_count": null,
   "metadata": {},
   "outputs": [],
   "source": [
    "np.sum(both_are_kic)"
   ]
  },
  {
   "cell_type": "code",
   "execution_count": null,
   "metadata": {},
   "outputs": [],
   "source": [
    "for i1, i2 in zip(pairs_ind1s[both_are_kic], pairs_ind2s[both_are_kic]):\n",
    "    print(read_match_attr(i1,i2,'planet?'))"
   ]
  },
  {
   "cell_type": "code",
   "execution_count": null,
   "metadata": {},
   "outputs": [],
   "source": []
  }
 ],
 "metadata": {
  "kernelspec": {
   "display_name": "Python 3",
   "language": "python",
   "name": "python3"
  },
  "language_info": {
   "codemirror_mode": {
    "name": "ipython",
    "version": 3
   },
   "file_extension": ".py",
   "mimetype": "text/x-python",
   "name": "python",
   "nbconvert_exporter": "python",
   "pygments_lexer": "ipython3",
   "version": "3.6.4"
  }
 },
 "nbformat": 4,
 "nbformat_minor": 2
}
