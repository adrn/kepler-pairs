{
 "cells": [
  {
   "cell_type": "markdown",
   "metadata": {},
   "source": [
    "## Co-moving stars in Kepler"
   ]
  },
  {
   "cell_type": "markdown",
   "metadata": {},
   "source": [
    "(done in a very hacky way) (but this is probably ok because we're assuming all the stars are far away)"
   ]
  },
  {
   "cell_type": "code",
   "execution_count": 1,
   "metadata": {},
   "outputs": [],
   "source": [
    "import numpy as np\n",
    "from astropy.table import Table, unique\n",
    "from astropy import units as u\n",
    "import astropy.coordinates as coord\n",
    "from astropy.time import Time\n",
    "from astropy.io import fits\n",
    "import matplotlib.pyplot as plt\n",
    "from tqdm import tqdm\n",
    "import pandas as pd"
   ]
  },
  {
   "cell_type": "markdown",
   "metadata": {},
   "source": [
    "Load up the table of all Gaia DR2 sources within the Kepler field:"
   ]
  },
  {
   "cell_type": "code",
   "execution_count": 2,
   "metadata": {},
   "outputs": [],
   "source": [
    "gaia_table_file = '../data/gaia-kepler-dustin.fits'\n",
    "hdul = fits.open(gaia_table_file)\n",
    "gaia_src_tbl = Table(hdul[1].data)"
   ]
  },
  {
   "cell_type": "code",
   "execution_count": 3,
   "metadata": {},
   "outputs": [],
   "source": [
    "#filter = (gaia_src_tbl['phot_g_mean_mag'] >= 18.) & (gaia_src_tbl['parallax'] > 0.01)\n",
    "#gaia_src_tbl = gaia_src_tbl[filter]"
   ]
  },
  {
   "cell_type": "code",
   "execution_count": 4,
   "metadata": {},
   "outputs": [],
   "source": [
    "gaia_src_tbl = gaia_src_tbl.to_pandas()"
   ]
  },
  {
   "cell_type": "markdown",
   "metadata": {},
   "source": [
    "Now load up the Gaia-Kepler cross-match so we can add Kepler IDs to the best-match Gaia sources:"
   ]
  },
  {
   "cell_type": "code",
   "execution_count": 5,
   "metadata": {},
   "outputs": [
    {
     "name": "stdout",
     "output_type": "stream",
     "text": [
      "195830\n"
     ]
    }
   ],
   "source": [
    "kepler_table_file = '../data/kepler_dr2_1arcsec.fits'\n",
    "hdul = fits.open(kepler_table_file)\n",
    "kepler_tbl = Table(hdul[1].data)\n",
    "gaia_kepler_matches = kepler_tbl['kepid', 'kepler_gaia_ang_dist', 'source_id', 'nconfp', 'nkoi', 'planet?']\n",
    "gaia_kepler_matches = gaia_kepler_matches.to_pandas()\n",
    "print(len(gaia_kepler_matches))"
   ]
  },
  {
   "cell_type": "markdown",
   "metadata": {},
   "source": [
    "Trim off the less-good matches so that there's one unique Gaia source per Kepler target:"
   ]
  },
  {
   "cell_type": "code",
   "execution_count": 6,
   "metadata": {},
   "outputs": [
    {
     "name": "stdout",
     "output_type": "stream",
     "text": [
      "193244\n"
     ]
    }
   ],
   "source": [
    "gaia_kepler_matches.sort_values(['kepid', 'kepler_gaia_ang_dist'], inplace=True)\n",
    "gaia_kepler_matches.drop_duplicates('kepid', inplace=True)\n",
    "print(len(gaia_kepler_matches))"
   ]
  },
  {
   "cell_type": "markdown",
   "metadata": {},
   "source": [
    "And join the tables:"
   ]
  },
  {
   "cell_type": "code",
   "execution_count": 7,
   "metadata": {},
   "outputs": [
    {
     "data": {
      "text/plain": [
       "9376693"
      ]
     },
     "execution_count": 7,
     "metadata": {},
     "output_type": "execute_result"
    }
   ],
   "source": [
    "table = gaia_src_tbl.merge(gaia_kepler_matches, on='source_id', how='left')\n",
    "len(table)"
   ]
  },
  {
   "cell_type": "code",
   "execution_count": 8,
   "metadata": {},
   "outputs": [
    {
     "name": "stdout",
     "output_type": "stream",
     "text": [
      "          kepid  kepler_gaia_ang_dist            source_id  nconfp  nkoi  \\\n",
      "100000  8151284              0.108671  2105885485289168768       0     0   \n",
      "\n",
      "       planet?  \n",
      "100000    none  \n",
      "                solution_id                   designation  \\\n",
      "979714  1635721458409799680  Gaia DR2 2105885485289168768   \n",
      "\n",
      "                  source_id  random_index  ref_epoch          ra  ra_error  \\\n",
      "979714  2105885485289168768     486039161     2015.5  285.685012  0.018974   \n",
      "\n",
      "              dec  dec_error  parallax          ...           e_bp_min_rp_val  \\\n",
      "979714  44.060521   0.020247  0.654823          ...                    0.1898   \n",
      "\n",
      "        e_bp_min_rp_percentile_lower  e_bp_min_rp_percentile_upper  \\\n",
      "979714                        0.1285                        0.2864   \n",
      "\n",
      "        flame_flags  radius_val  radius_percentile_lower  \\\n",
      "979714         3503    1.370843                  1.27356   \n",
      "\n",
      "        radius_percentile_upper  lum_val  lum_percentile_lower  \\\n",
      "979714                 1.658074   2.3351              2.141423   \n",
      "\n",
      "        lum_percentile_upper  \n",
      "979714              2.528777  \n",
      "\n",
      "[1 rows x 94 columns]\n"
     ]
    }
   ],
   "source": [
    "test_id = 2105885485289168768\n",
    "print(gaia_kepler_matches[gaia_kepler_matches['source_id'] == test_id])\n",
    "print(gaia_src_tbl[gaia_src_tbl['source_id'] == test_id])"
   ]
  },
  {
   "cell_type": "markdown",
   "metadata": {},
   "source": [
    "Now load up Dustin's pairs:"
   ]
  },
  {
   "cell_type": "code",
   "execution_count": 9,
   "metadata": {},
   "outputs": [],
   "source": [
    "pairs_file = '../data/matched-pairs-dustin.fits'\n",
    "hdul = fits.open(pairs_file)\n",
    "pairs = hdul[0].data"
   ]
  },
  {
   "cell_type": "markdown",
   "metadata": {},
   "source": [
    "Define some useful functions:"
   ]
  },
  {
   "cell_type": "code",
   "execution_count": 11,
   "metadata": {},
   "outputs": [],
   "source": [
    "def ppm_check(star1, star2, sigma=5.):\n",
    "    \"\"\"\n",
    "    Returns True if the differences between parallax, pmra, and pmdec are all below \n",
    "    the sigma threshold.\n",
    "    \"\"\"\n",
    "    names = ['parallax', 'pmra', 'pmdec']\n",
    "    for name in names:\n",
    "        err = np.sqrt(star1[name+'_error']**2 + star2[name+'_error']**2)\n",
    "        if np.isnan(star1[name]) or np.isnan(star2[name]) or np.isnan(err):\n",
    "            return False\n",
    "        if (np.abs(star1[name] - star2[name])/err) >= sigma:\n",
    "            return False\n",
    "    return True"
   ]
  },
  {
   "cell_type": "code",
   "execution_count": 12,
   "metadata": {},
   "outputs": [],
   "source": [
    "def make_x(star):\n",
    "    \"\"\"\n",
    "    returns a vector of x = [parallax, pmra, pmdec]\n",
    "    \"\"\"\n",
    "    names = ['parallax', 'pmra', 'pmdec']\n",
    "    return np.array([star[n] for n in names])\n",
    "\n",
    "def make_cov(star):\n",
    "    \"\"\"\n",
    "    returns covariance matrix C corresponding to x\n",
    "    \"\"\"\n",
    "    names = ['parallax', 'pmra', 'pmdec']\n",
    "    C = np.zeros((3, 3)) # brittle\n",
    "    for i, name1 in enumerate(names):\n",
    "        err = star[name1+'_error']\n",
    "        C[i, i] = err ** 2\n",
    "        for j, name2 in enumerate(names):\n",
    "            if j >= i:\n",
    "                continue\n",
    "            corr = star[\"{0}_{1}_corr\".format(name2, name1)]\n",
    "            C[i, j] = corr * np.sqrt(C[i, i] * C[j, j])\n",
    "            C[j, i] = C[i, j]\n",
    "    return C\n",
    "\n",
    "def chisq(star1, star2):\n",
    "    \"\"\"\n",
    "    calculates chisquared for two stars based on their parallax and 2D proper motions\n",
    "    \"\"\"\n",
    "    deltax = make_x(star1) - make_x(star2)\n",
    "    cplusc = make_cov(star1) + make_cov(star2)\n",
    "    return np.dot(deltax, np.linalg.solve(cplusc, deltax))"
   ]
  },
  {
   "cell_type": "code",
   "execution_count": 13,
   "metadata": {},
   "outputs": [],
   "source": [
    "def check_with_primary(m, primary):\n",
    "    if ppm_check(primary, m):\n",
    "        return chisq(primary, m)\n",
    "    else:\n",
    "        return -1"
   ]
  },
  {
   "cell_type": "markdown",
   "metadata": {},
   "source": [
    "Now calculate a goodness-of-fit metric for each pair, skipping over the ones that don't make an initial cut:"
   ]
  },
  {
   "cell_type": "code",
   "execution_count": 14,
   "metadata": {},
   "outputs": [
    {
     "name": "stderr",
     "output_type": "stream",
     "text": [
      "9376683it [2:47:27, 933.20it/s]\n"
     ]
    }
   ],
   "source": [
    "chisqs = np.zeros_like(pairs) - 1.\n",
    "\n",
    "for i,row in tqdm(enumerate(pairs)):\n",
    "    primary = table.iloc[i]\n",
    "    matches = table.iloc[row[(row > -1) & (row > i)]] # ignore non-matches and duplicates\n",
    "    if len(matches) > 0:\n",
    "        row_of_chisqs = matches.apply(check_with_primary, args=(primary,), axis=1)\n",
    "        chisqs[i,:len(row_of_chisqs)] = row_of_chisqs.values"
   ]
  },
  {
   "cell_type": "markdown",
   "metadata": {},
   "source": [
    "Save the outputs and take a look at their distribution:"
   ]
  },
  {
   "cell_type": "code",
   "execution_count": 18,
   "metadata": {},
   "outputs": [],
   "source": [
    "hdu = fits.PrimaryHDU(chisqs)\n",
    "hdulist = fits.HDUList([hdu])\n",
    "hdulist.writeto('../data/chisqs_matched-pairs-dustin.fits')\n",
    "hdulist.close()"
   ]
  },
  {
   "cell_type": "code",
   "execution_count": 17,
   "metadata": {},
   "outputs": [
    {
     "data": {
      "image/png": "[encoded data removed]",
      "text/plain": [
       "<Figure size 432x288 with 1 Axes>"
      ]
     },
     "metadata": {},
     "output_type": "display_data"
    }
   ],
   "source": [
    "plt.hist(chisqs[(chisqs > 0.) & (chisqs < 10.)], bins=100)\n",
    "plt.xlabel('$\\chi^2$', fontsize=16)\n",
    "plt.ylabel('# Pairs', fontsize=16)\n",
    "plt.yscale('log')\n",
    "plt.savefig('chisq_keplerpairs.png')"
   ]
  },
  {
   "cell_type": "markdown",
   "metadata": {},
   "source": [
    "OK, now let's select the best-fit pairs and save their indicies for easy access:"
   ]
  },
  {
   "cell_type": "code",
   "execution_count": 69,
   "metadata": {},
   "outputs": [
    {
     "data": {
      "text/plain": [
       "1112369"
      ]
     },
     "execution_count": 69,
     "metadata": {},
     "output_type": "execute_result"
    }
   ],
   "source": [
    "matches_mask = (chisqs > 0) & (chisqs < 2)\n",
    "np.sum(matches_mask)"
   ]
  },
  {
   "cell_type": "code",
   "execution_count": 34,
   "metadata": {},
   "outputs": [],
   "source": [
    "len_inds, len_matches = np.shape(pairs)\n",
    "pairs_inds = np.array([np.arange(len_inds),]*len_matches).transpose()\n",
    "pairs_ind1s = pairs_inds[matches_mask]\n",
    "pairs_ind2s = pairs[matches_mask]"
   ]
  },
  {
   "cell_type": "code",
   "execution_count": 20,
   "metadata": {},
   "outputs": [],
   "source": [
    "def read_match_attr(ind1, ind2, attr):\n",
    "    return table.iloc[ind1][attr], table.iloc[ind2][attr]"
   ]
  },
  {
   "cell_type": "code",
   "execution_count": 39,
   "metadata": {},
   "outputs": [
    {
     "name": "stdout",
     "output_type": "stream",
     "text": [
      "source_ids of a pair:\n",
      "(2097438792153786368, 2097438727722672128)\n"
     ]
    }
   ],
   "source": [
    "print(\"source_ids of a pair:\")\n",
    "print(read_match_attr(pairs_ind1s[0], pairs_ind2s[0], 'source_id'))"
   ]
  },
  {
   "cell_type": "markdown",
   "metadata": {},
   "source": [
    "Sanity check: plot the parallax and proper motions of an identified match"
   ]
  },
  {
   "cell_type": "code",
   "execution_count": 210,
   "metadata": {},
   "outputs": [],
   "source": [
    "from plot_tools import error_ellipse\n",
    "fs = 12"
   ]
  },
  {
   "cell_type": "code",
   "execution_count": 204,
   "metadata": {},
   "outputs": [],
   "source": [
    "def plot_xs(i, sigma=1):\n",
    "    x1 = make_x(table.iloc[pairs_ind1s[i]])\n",
    "    cov1 = make_cov(table.iloc[pairs_ind1s[i]])\n",
    "    x2 = make_x(table.iloc[pairs_ind2s[i]])\n",
    "    cov2 = make_cov(table.iloc[pairs_ind2s[i]])\n",
    "    fig = plt.figure(figsize=(12,4))\n",
    "    ax1 = fig.add_subplot(131)\n",
    "    error_ellipse(ax1, x1[0], x1[1], cov1[:2,:2], ec='red', sigma=sigma)\n",
    "    error_ellipse(ax1, x2[0], x2[1], cov2[:2,:2], ec='blue', sigma=sigma)\n",
    "    ax1.set_xlim([min([x1[0], x2[0]]) - 5., max([x1[0], x2[0]]) + 5.])\n",
    "    ax1.set_ylim([min([x1[1], x2[1]]) - 5., max([x1[1], x2[1]]) + 5.])\n",
    "    ax1.set_xlabel('Parallax (mas)', fontsize=fs)\n",
    "    ax1.set_ylabel('PM RA (mas yr$^{-1}$)', fontsize=fs)\n",
    "\n",
    "    ax2 = fig.add_subplot(133)\n",
    "    error_ellipse(ax2, x1[1], x1[2], cov1[1:,1:], ec='red', sigma=sigma)\n",
    "    error_ellipse(ax2, x2[1], x2[2], cov2[1:,1:], ec='blue', sigma=sigma)\n",
    "    ax2.set_xlim([min([x1[1], x2[1]]) - 5., max([x1[1], x2[1]]) + 5.])\n",
    "    ax2.set_ylim([min([x1[2], x2[2]]) - 5., max([x1[2], x2[2]]) + 5.])\n",
    "    ax2.set_xlabel('PM RA (mas yr$^{-1}$)', fontsize=fs)\n",
    "    ax2.set_ylabel('PM Dec (mas yr$^{-1}$)', fontsize=fs)\n",
    "    \n",
    "    ax3 = fig.add_subplot(132)\n",
    "    c1 = np.delete(np.delete(cov1, 1, axis=0), 1, axis=1)\n",
    "    c2 = np.delete(np.delete(cov2, 1, axis=0), 1, axis=1)\n",
    "    error_ellipse(ax3, x1[0], x1[2], c1, ec='red', sigma=sigma)\n",
    "    error_ellipse(ax3, x2[0], x2[2], c2, ec='blue', sigma=sigma)\n",
    "    ax3.set_xlim([min([x1[0], x2[0]]) - 5., max([x1[0], x2[0]]) + 5.])\n",
    "    ax3.set_ylim([min([x1[2], x2[2]]) - 5., max([x1[2], x2[2]]) + 5.])\n",
    "    ax3.set_xlabel('Parallax (mas)', fontsize=fs)\n",
    "    ax3.set_ylabel('PM Dec (mas yr$^{-1}$)', fontsize=fs)\n",
    "    \n",
    "    fig.subplots_adjust(wspace = 0.5)\n",
    "    fig.text(0.5, 0.95, 'match #{0}'.format(i), horizontalalignment='center', \n",
    "             transform=ax.transAxes, fontsize=fs+2)"
   ]
  },
  {
   "cell_type": "code",
   "execution_count": 209,
   "metadata": {},
   "outputs": [
    {
     "name": "stdout",
     "output_type": "stream",
     "text": [
      "match 849000: source_ids (2078461702490729600, 2078462978098136448)\n"
     ]
    },
    {
     "data": {
      "image/png": "[encoded data removed]",
      "text/plain": [
       "<Figure size 864x288 with 3 Axes>"
      ]
     },
     "metadata": {},
     "output_type": "display_data"
    }
   ],
   "source": [
    "i = np.random.randint(0, len(pairs_ind1s))\n",
    "print(\"match {0}: source_ids {1}\".format(i, \n",
    "            read_match_attr(pairs_ind1s[i], pairs_ind2s[i], 'source_id')))\n",
    "plot_xs(i, sigma=3)"
   ]
  },
  {
   "cell_type": "markdown",
   "metadata": {},
   "source": [
    "Let's look at the relative luminosities of each match:"
   ]
  },
  {
   "cell_type": "code",
   "execution_count": 214,
   "metadata": {},
   "outputs": [
    {
     "name": "stderr",
     "output_type": "stream",
     "text": [
      "/Users/mbedell/miniconda3/lib/python3.6/site-packages/ipykernel_launcher.py:4: RuntimeWarning: invalid value encountered in log10\n",
      "  after removing the cwd from sys.path.\n",
      "/Users/mbedell/miniconda3/lib/python3.6/site-packages/ipykernel_launcher.py:6: RuntimeWarning: invalid value encountered in log10\n",
      "  \n"
     ]
    }
   ],
   "source": [
    "(gmag1, gmag2) = read_match_attr(pairs_ind1s, pairs_ind2s, 'phot_g_mean_mag')\n",
    "(plx1, plx2) = read_match_attr(pairs_ind1s, pairs_ind2s, 'parallax')\n",
    "dist1 = 1.e3/plx1\n",
    "absg1 = gmag1 - 5.*(np.log10(dist1) - 1.)\n",
    "dist2 = 1.e3/plx2\n",
    "absg2 = gmag2 - 5.*(np.log10(dist2) - 1.)"
   ]
  },
  {
   "cell_type": "code",
   "execution_count": 273,
   "metadata": {},
   "outputs": [
    {
     "data": {
      "image/png": "[encoded data removed]",
      "text/plain": [
       "<Figure size 432x288 with 1 Axes>"
      ]
     },
     "metadata": {},
     "output_type": "display_data"
    }
   ],
   "source": [
    "mask = np.all(np.vstack([np.isfinite(absg1), np.isfinite(absg2)]), axis=0)\n",
    "absg = np.append(absg1[mask], absg2[mask])\n",
    "hist = plt.hist(absg, bins=500)\n",
    "plt.xlim([-5,15])\n",
    "plt.xlabel('G')\n",
    "plt.ylabel('# of stars')\n",
    "plt.savefig('absmag_hist.png')"
   ]
  },
  {
   "cell_type": "code",
   "execution_count": 274,
   "metadata": {},
   "outputs": [
    {
     "data": {
      "image/png": "[encoded data removed]",
      "text/plain": [
       "<Figure size 432x288 with 2 Axes>"
      ]
     },
     "metadata": {},
     "output_type": "display_data"
    }
   ],
   "source": [
    "from matplotlib.colors import LogNorm\n",
    "plt.hist2d(absg1[mask], absg2[mask], bins=(1000,1000), norm=LogNorm())\n",
    "cbar = plt.colorbar()\n",
    "cbar.ax.set_ylabel('# of stars', rotation=270)\n",
    "plt.xlabel('G$_{1}$')\n",
    "plt.ylabel('G$_{2}$')\n",
    "plt.xlim([-5, 15])\n",
    "plt.ylim([-5, 15])\n",
    "plt.savefig('absmag_pairs.pdf')"
   ]
  },
  {
   "cell_type": "markdown",
   "metadata": {},
   "source": [
    "Now let's see how many of the matches are in the Kepler catalog, and whether any of them have planets!"
   ]
  },
  {
   "cell_type": "code",
   "execution_count": 207,
   "metadata": {},
   "outputs": [],
   "source": [
    "ind1_is_kic = np.isfinite(table.iloc[pairs_ind1s]['kepid'])\n",
    "ind2_is_kic = np.isfinite(table.iloc[pairs_ind2s]['kepid'])"
   ]
  },
  {
   "cell_type": "code",
   "execution_count": 59,
   "metadata": {},
   "outputs": [],
   "source": [
    "one_is_kic = np.any(np.vstack([ind1_is_kic, ind2_is_kic]), axis=0)\n",
    "both_are_kic = np.all(np.vstack([ind1_is_kic, ind2_is_kic]), axis=0)"
   ]
  },
  {
   "cell_type": "code",
   "execution_count": 73,
   "metadata": {},
   "outputs": [
    {
     "data": {
      "text/plain": [
       "137"
      ]
     },
     "execution_count": 73,
     "metadata": {},
     "output_type": "execute_result"
    }
   ],
   "source": [
    "np.sum(both_are_kic)"
   ]
  },
  {
   "cell_type": "code",
   "execution_count": 74,
   "metadata": {},
   "outputs": [
    {
     "name": "stdout",
     "output_type": "stream",
     "text": [
      "('none', 'none')\n",
      "('none', 'none')\n",
      "('none', 'none')\n",
      "('none', 'none')\n",
      "('none', 'none')\n",
      "('none', 'none')\n",
      "('none', 'none')\n",
      "('none', 'none')\n",
      "('none', 'none')\n",
      "('none', 'none')\n",
      "('none', 'cand')\n",
      "('none', 'none')\n",
      "('none', 'none')\n",
      "('none', 'none')\n",
      "('none', 'cand')\n",
      "('none', 'none')\n",
      "('none', 'none')\n",
      "('none', 'none')\n",
      "('none', 'none')\n",
      "('none', 'none')\n",
      "('none', 'none')\n",
      "('none', 'none')\n",
      "('none', 'none')\n",
      "('none', 'none')\n",
      "('none', 'none')\n",
      "('none', 'none')\n",
      "('none', 'none')\n",
      "('cand', 'cand')\n",
      "('none', 'none')\n",
      "('none', 'none')\n",
      "('none', 'none')\n",
      "('none', 'cand')\n",
      "('none', 'none')\n",
      "('none', 'none')\n",
      "('none', 'none')\n",
      "('none', 'cand')\n",
      "('none', 'none')\n",
      "('none', 'none')\n",
      "('none', 'none')\n",
      "('none', 'none')\n",
      "('none', 'none')\n",
      "('none', 'none')\n",
      "('none', 'none')\n",
      "('none', 'none')\n",
      "('none', 'none')\n",
      "('none', 'none')\n",
      "('none', 'none')\n",
      "('none', 'none')\n",
      "('none', 'none')\n",
      "('none', 'cand')\n",
      "('conf', 'none')\n",
      "('none', 'none')\n",
      "('none', 'none')\n",
      "('none', 'none')\n",
      "('none', 'none')\n",
      "('none', 'none')\n",
      "('none', 'none')\n",
      "('cand', 'none')\n",
      "('none', 'none')\n",
      "('none', 'none')\n",
      "('none', 'none')\n",
      "('none', 'none')\n",
      "('none', 'none')\n",
      "('none', 'none')\n",
      "('none', 'cand')\n",
      "('none', 'none')\n",
      "('none', 'none')\n",
      "('none', 'none')\n",
      "('none', 'none')\n",
      "('none', 'none')\n",
      "('none', 'none')\n",
      "('none', 'none')\n",
      "('none', 'cand')\n",
      "('none', 'none')\n",
      "('none', 'none')\n",
      "('none', 'none')\n",
      "('none', 'none')\n",
      "('none', 'none')\n",
      "('none', 'none')\n",
      "('none', 'none')\n",
      "('none', 'none')\n",
      "('cand', 'none')\n",
      "('none', 'none')\n",
      "('none', 'none')\n",
      "('none', 'none')\n",
      "('none', 'none')\n",
      "('none', 'none')\n",
      "('none', 'none')\n",
      "('none', 'none')\n",
      "('none', 'none')\n",
      "('none', 'none')\n",
      "('none', 'none')\n",
      "('none', 'cand')\n",
      "('none', 'none')\n",
      "('none', 'none')\n",
      "('none', 'none')\n",
      "('none', 'none')\n",
      "('none', 'none')\n",
      "('none', 'none')\n",
      "('none', 'none')\n",
      "('none', 'none')\n",
      "('cand', 'cand')\n",
      "('none', 'none')\n",
      "('none', 'cand')\n",
      "('none', 'cand')\n",
      "('cand', 'none')\n",
      "('none', 'none')\n",
      "('none', 'none')\n",
      "('none', 'none')\n",
      "('none', 'none')\n",
      "('none', 'none')\n",
      "('none', 'none')\n",
      "('none', 'none')\n",
      "('none', 'none')\n",
      "('none', 'none')\n",
      "('none', 'none')\n",
      "('none', 'none')\n",
      "('none', 'conf')\n",
      "('none', 'none')\n",
      "('none', 'none')\n",
      "('none', 'none')\n",
      "('none', 'none')\n",
      "('none', 'none')\n",
      "('none', 'none')\n",
      "('none', 'none')\n",
      "('none', 'none')\n",
      "('none', 'cand')\n",
      "('none', 'none')\n",
      "('none', 'none')\n",
      "('none', 'none')\n",
      "('none', 'none')\n",
      "('none', 'none')\n",
      "('cand', 'cand')\n",
      "('none', 'none')\n",
      "('none', 'none')\n",
      "('none', 'none')\n",
      "('none', 'none')\n"
     ]
    }
   ],
   "source": [
    "for i1, i2 in zip(pairs_ind1s[both_are_kic], pairs_ind2s[both_are_kic]):\n",
    "    print(read_match_attr(i1,i2,'planet?'))"
   ]
  },
  {
   "cell_type": "code",
   "execution_count": null,
   "metadata": {},
   "outputs": [],
   "source": []
  }
 ],
 "metadata": {
  "kernelspec": {
   "display_name": "Python 3",
   "language": "python",
   "name": "python3"
  },
  "language_info": {
   "codemirror_mode": {
    "name": "ipython",
    "version": 3
   },
   "file_extension": ".py",
   "mimetype": "text/x-python",
   "name": "python",
   "nbconvert_exporter": "python",
   "pygments_lexer": "ipython3",
   "version": "3.6.4"
  }
 },
 "nbformat": 4,
 "nbformat_minor": 2
}
