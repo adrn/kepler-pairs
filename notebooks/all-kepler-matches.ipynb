{
 "cells": [
  {
   "cell_type": "markdown",
   "metadata": {},
   "source": [
    "## Co-moving stars in Kepler"
   ]
  },
  {
   "cell_type": "markdown",
   "metadata": {},
   "source": [
    "(done in a very hacky way) (but this is probably ok because we're assuming all the stars are far away)"
   ]
  },
  {
   "cell_type": "code",
   "execution_count": 1,
   "metadata": {},
   "outputs": [],
   "source": [
    "import numpy as np\n",
    "from astropy.table import Table, unique\n",
    "from astropy import units as u\n",
    "import astropy.coordinates as coord\n",
    "from astropy.time import Time\n",
    "from astropy.io import fits\n",
    "import matplotlib.pyplot as plt\n",
    "from tqdm import tqdm\n",
    "import pandas as pd"
   ]
  },
  {
   "cell_type": "markdown",
   "metadata": {},
   "source": [
    "Load up the table of all Gaia DR2 sources within the Kepler field:"
   ]
  },
  {
   "cell_type": "code",
   "execution_count": 2,
   "metadata": {},
   "outputs": [],
   "source": [
    "gaia_table_file = '../data/gaia-kepler-dustin.fits'\n",
    "hdul = fits.open(gaia_table_file)\n",
    "gaia_src_tbl = Table(hdul[1].data)"
   ]
  },
  {
   "cell_type": "code",
   "execution_count": 3,
   "metadata": {},
   "outputs": [],
   "source": [
    "#filter = (gaia_src_tbl['phot_g_mean_mag'] >= 18.) & (gaia_src_tbl['parallax'] > 0.01)\n",
    "#gaia_src_tbl = gaia_src_tbl[filter]"
   ]
  },
  {
   "cell_type": "code",
   "execution_count": 4,
   "metadata": {},
   "outputs": [],
   "source": [
    "gaia_src_tbl = gaia_src_tbl.to_pandas()"
   ]
  },
  {
   "cell_type": "markdown",
   "metadata": {},
   "source": [
    "Now load up the Gaia-Kepler cross-match so we can add Kepler IDs to the best-match Gaia sources:"
   ]
  },
  {
   "cell_type": "code",
   "execution_count": 5,
   "metadata": {},
   "outputs": [
    {
     "name": "stdout",
     "output_type": "stream",
     "text": [
      "195830\n"
     ]
    }
   ],
   "source": [
    "kepler_table_file = '../data/kepler_dr2_1arcsec.fits'\n",
    "hdul = fits.open(kepler_table_file)\n",
    "kepler_tbl = Table(hdul[1].data)\n",
    "gaia_kepler_matches = kepler_tbl['kepid', 'kepler_gaia_ang_dist', 'source_id', 'nconfp', 'nkoi', 'planet?']\n",
    "gaia_kepler_matches = gaia_kepler_matches.to_pandas()\n",
    "print(len(gaia_kepler_matches))"
   ]
  },
  {
   "cell_type": "markdown",
   "metadata": {},
   "source": [
    "Trim off the less-good matches so that there's one unique Gaia source per Kepler target:"
   ]
  },
  {
   "cell_type": "code",
   "execution_count": 6,
   "metadata": {},
   "outputs": [
    {
     "name": "stdout",
     "output_type": "stream",
     "text": [
      "193244\n"
     ]
    }
   ],
   "source": [
    "gaia_kepler_matches.sort_values(['kepid', 'kepler_gaia_ang_dist'], inplace=True)\n",
    "gaia_kepler_matches.drop_duplicates('kepid', inplace=True)\n",
    "print(len(gaia_kepler_matches))"
   ]
  },
  {
   "cell_type": "markdown",
   "metadata": {},
   "source": [
    "And join the tables:"
   ]
  },
  {
   "cell_type": "code",
   "execution_count": null,
   "metadata": {},
   "outputs": [],
   "source": [
    "table = gaia_src_tbl.merge(gaia_kepler_matches, on='source_id', how='left')\n",
    "len(table)"
   ]
  },
  {
   "cell_type": "code",
   "execution_count": null,
   "metadata": {},
   "outputs": [],
   "source": [
    "test_id = 2105885485289168768\n",
    "print(table[table['source_id'] == test_id])"
   ]
  },
  {
   "cell_type": "markdown",
   "metadata": {},
   "source": [
    "Now load up Dustin's pairs:"
   ]
  },
  {
   "cell_type": "code",
   "execution_count": null,
   "metadata": {},
   "outputs": [],
   "source": [
    "pairs_file = '../data/matched-pairs-dustin.fits'\n",
    "hdul = fits.open(pairs_file)\n",
    "pairs = hdul[0].data"
   ]
  },
  {
   "cell_type": "markdown",
   "metadata": {},
   "source": [
    "Define some useful functions:"
   ]
  },
  {
   "cell_type": "code",
   "execution_count": null,
   "metadata": {},
   "outputs": [],
   "source": [
    "def make_x(star):\n",
    "    \"\"\"\n",
    "    returns a vector of x = [parallax, pmra, pmdec]\n",
    "    \"\"\"\n",
    "    names = ['parallax', 'pmra', 'pmdec']\n",
    "    return star.loc[names].values.astype('f')\n",
    "\n",
    "def make_xerr(star):\n",
    "    \"\"\"\n",
    "    returns a vector of xerr = [parallax_error, pmra_error, pmdec_error]\n",
    "    \"\"\"\n",
    "    err_names = ['parallax_error', 'pmra_error', 'pmdec_error']\n",
    "    return star.loc[err_names].values.astype('f')    "
   ]
  },
  {
   "cell_type": "code",
   "execution_count": null,
   "metadata": {},
   "outputs": [],
   "source": [
    "def ppm_check(star1, star2, sigma=5.):\n",
    "    \"\"\"\n",
    "    Returns True if the differences between parallax, pmra, and pmdec are all below \n",
    "    the sigma threshold.\n",
    "    \"\"\"\n",
    "    x1 = make_x(star1)\n",
    "    x2 = make_x(star2)\n",
    "    if np.any(np.isnan([x1,x2])):\n",
    "        return False\n",
    "    xerr1 = make_xerr(star1)\n",
    "    xerr2 = make_xerr(star2)\n",
    "    if np.any(np.isnan([xerr1, xerr2])):\n",
    "        return False\n",
    "    if np.any(np.abs(x1 - x2)/np.sqrt(xerr1**2 + xerr2**2) >= sigma):\n",
    "        return False\n",
    "    return True"
   ]
  },
  {
   "cell_type": "code",
   "execution_count": null,
   "metadata": {},
   "outputs": [],
   "source": [
    "def make_cov(star):\n",
    "    \"\"\"\n",
    "    returns covariance matrix C corresponding to x\n",
    "    \"\"\"\n",
    "    names = ['parallax', 'pmra', 'pmdec']\n",
    "    C = np.diag(make_xerr(star))\n",
    "    for i, name1 in enumerate(names):\n",
    "        for j, name2 in enumerate(names):\n",
    "            if j >= i:\n",
    "                continue\n",
    "            corr = star.loc[\"{0}_{1}_corr\".format(name2, name1)]\n",
    "            C[i, j] = corr * np.sqrt(C[i, i] * C[j, j])\n",
    "            C[j, i] = C[i, j]\n",
    "    return C\n",
    "\n",
    "def chisq(star1, star2):\n",
    "    \"\"\"\n",
    "    calculates chisquared for two stars based on their parallax and 2D proper motions\n",
    "    \"\"\"\n",
    "    deltax = make_x(star1) - make_x(star2)\n",
    "    cplusc = make_cov(star1) + make_cov(star2)\n",
    "    return np.dot(deltax, np.linalg.solve(cplusc, deltax))"
   ]
  },
  {
   "cell_type": "code",
   "execution_count": null,
   "metadata": {},
   "outputs": [],
   "source": [
    "def check_with_primary(m, primary):\n",
    "    if ppm_check(primary, m):\n",
    "        return chisq(primary, m)\n",
    "    else:\n",
    "        return -1"
   ]
  },
  {
   "cell_type": "markdown",
   "metadata": {},
   "source": [
    "Now calculate a goodness-of-fit metric for each pair, skipping over the ones that don't make an initial cut:"
   ]
  },
  {
   "cell_type": "code",
   "execution_count": null,
   "metadata": {},
   "outputs": [],
   "source": [
    "chisqs = np.zeros_like(pairs) - 1.\n",
    "\n",
    "for i,row in tqdm(enumerate(pairs)):\n",
    "    primary = table.iloc[i]\n",
    "    row_mask = (row > -1) & (row > i) # indices in row for matches to compute\n",
    "    matches = table.iloc[row[row_mask]] # ignore non-matches and duplicates\n",
    "    if np.sum(row_mask) > 0:\n",
    "        row_of_chisqs = matches.apply(check_with_primary, args=(primary,), axis=1)\n",
    "        chisqs[i,row_mask] = row_of_chisqs.values\n"
   ]
  },
  {
   "cell_type": "markdown",
   "metadata": {},
   "source": [
    "Save the outputs and take a look at their distribution:"
   ]
  },
  {
   "cell_type": "code",
   "execution_count": null,
   "metadata": {},
   "outputs": [],
   "source": [
    "hdu = fits.PrimaryHDU(chisqs)\n",
    "hdulist = fits.HDUList([hdu])\n",
    "hdulist.writeto('../data/chisqs_matched-pairs.fits')\n",
    "hdulist.close()"
   ]
  },
  {
   "cell_type": "code",
   "execution_count": null,
   "metadata": {},
   "outputs": [],
   "source": [
    "# optional - load up already-saved outputs\n",
    "hdul = fits.open('../data/chisqs_matched-pairs.fits')\n",
    "chisqs = hdul[0].data"
   ]
  },
  {
   "cell_type": "code",
   "execution_count": null,
   "metadata": {},
   "outputs": [],
   "source": [
    "plt.hist(chisqs[(chisqs > 0.) & (chisqs < 10.)], bins=100)\n",
    "plt.xlabel('$\\chi^2$', fontsize=16)\n",
    "plt.ylabel('# Pairs', fontsize=16)\n",
    "plt.yscale('log')\n",
    "plt.savefig('chisq_keplerpairs.png')"
   ]
  },
  {
   "cell_type": "markdown",
   "metadata": {},
   "source": [
    "OK, now let's select the best-fit pairs and save their indicies for easy access:"
   ]
  },
  {
   "cell_type": "code",
   "execution_count": null,
   "metadata": {},
   "outputs": [],
   "source": [
    "matches_mask = (chisqs > 0) & (chisqs < 2)\n",
    "np.sum(matches_mask)"
   ]
  },
  {
   "cell_type": "code",
   "execution_count": null,
   "metadata": {},
   "outputs": [],
   "source": [
    "len_inds, len_matches = np.shape(pairs)\n",
    "pairs_inds = np.array([np.arange(len_inds),]*len_matches).transpose()\n",
    "pairs_ind1s = pairs_inds[matches_mask]\n",
    "pairs_ind2s = pairs[matches_mask]"
   ]
  },
  {
   "cell_type": "code",
   "execution_count": null,
   "metadata": {},
   "outputs": [],
   "source": [
    "def read_match_attr(ind1, ind2, attr):\n",
    "    return table.iloc[ind1][attr], table.iloc[ind2][attr]"
   ]
  },
  {
   "cell_type": "code",
   "execution_count": null,
   "metadata": {},
   "outputs": [],
   "source": [
    "print(\"source_ids of a pair:\")\n",
    "print(read_match_attr(pairs_ind1s[0], pairs_ind2s[0], 'source_id'))"
   ]
  },
  {
   "cell_type": "markdown",
   "metadata": {},
   "source": [
    "Sanity check: plot the parallax and proper motions of an identified match"
   ]
  },
  {
   "cell_type": "code",
   "execution_count": null,
   "metadata": {},
   "outputs": [],
   "source": [
    "from plot_tools import error_ellipse\n",
    "fs = 12"
   ]
  },
  {
   "cell_type": "code",
   "execution_count": null,
   "metadata": {},
   "outputs": [],
   "source": [
    "def plot_xs(i, sigma=1):\n",
    "    star1 = table.iloc[pairs_ind1s[i]]\n",
    "    star2 = table.iloc[pairs_ind2s[i]]\n",
    "    x1 = make_x(star1)\n",
    "    cov1 = make_cov(star1)\n",
    "    x2 = make_x(star2)\n",
    "    cov2 = make_cov(star2)\n",
    "    fig = plt.figure(figsize=(12,4))\n",
    "    ax1 = fig.add_subplot(131)\n",
    "    error_ellipse(ax1, x1[0], x1[1], cov1[:2,:2], ec='red', sigma=sigma)\n",
    "    error_ellipse(ax1, x2[0], x2[1], cov2[:2,:2], ec='blue', sigma=sigma)\n",
    "    ax1.set_xlim([min([x1[0], x2[0]]) - 5., max([x1[0], x2[0]]) + 5.])\n",
    "    ax1.set_ylim([min([x1[1], x2[1]]) - 5., max([x1[1], x2[1]]) + 5.])\n",
    "    ax1.set_xlabel('Parallax (mas)', fontsize=fs)\n",
    "    ax1.set_ylabel('PM RA (mas yr$^{-1}$)', fontsize=fs)\n",
    "\n",
    "    ax2 = fig.add_subplot(133)\n",
    "    error_ellipse(ax2, x1[1], x1[2], cov1[1:,1:], ec='red', sigma=sigma)\n",
    "    error_ellipse(ax2, x2[1], x2[2], cov2[1:,1:], ec='blue', sigma=sigma)\n",
    "    ax2.set_xlim([min([x1[1], x2[1]]) - 5., max([x1[1], x2[1]]) + 5.])\n",
    "    ax2.set_ylim([min([x1[2], x2[2]]) - 5., max([x1[2], x2[2]]) + 5.])\n",
    "    ax2.set_xlabel('PM RA (mas yr$^{-1}$)', fontsize=fs)\n",
    "    ax2.set_ylabel('PM Dec (mas yr$^{-1}$)', fontsize=fs)\n",
    "    \n",
    "    ax3 = fig.add_subplot(132)\n",
    "    c1 = np.delete(np.delete(cov1, 1, axis=0), 1, axis=1)\n",
    "    c2 = np.delete(np.delete(cov2, 1, axis=0), 1, axis=1)\n",
    "    error_ellipse(ax3, x1[0], x1[2], c1, ec='red', sigma=sigma)\n",
    "    error_ellipse(ax3, x2[0], x2[2], c2, ec='blue', sigma=sigma)\n",
    "    ax3.set_xlim([min([x1[0], x2[0]]) - 5., max([x1[0], x2[0]]) + 5.])\n",
    "    ax3.set_ylim([min([x1[2], x2[2]]) - 5., max([x1[2], x2[2]]) + 5.])\n",
    "    ax3.set_xlabel('Parallax (mas)', fontsize=fs)\n",
    "    ax3.set_ylabel('PM Dec (mas yr$^{-1}$)', fontsize=fs)\n",
    "    \n",
    "    fig.subplots_adjust(wspace = 0.5)\n",
    "    fig.text(0.5, 0.95, 'match #{0}'.format(i), horizontalalignment='center', \n",
    "             transform=ax3.transAxes, fontsize=fs+2)"
   ]
  },
  {
   "cell_type": "code",
   "execution_count": null,
   "metadata": {},
   "outputs": [],
   "source": [
    "i = np.random.randint(0, len(pairs_ind1s))\n",
    "print(\"match {0}: source_ids {1}\".format(i, \n",
    "            read_match_attr(pairs_ind1s[i], pairs_ind2s[i], 'source_id')))\n",
    "plot_xs(i, sigma=3)"
   ]
  },
  {
   "cell_type": "code",
   "execution_count": null,
   "metadata": {},
   "outputs": [],
   "source": [
    "pd.options.display.max_columns = None\n",
    "src1, src2 = read_match_attr(pairs_ind1s[i], pairs_ind2s[i], 'source_id')\n",
    "table[table['source_id'].isin([src1, src2])]"
   ]
  },
  {
   "cell_type": "code",
   "execution_count": null,
   "metadata": {},
   "outputs": [],
   "source": [
    "print(\"saved chisquared = {0:.5f}\".format(chisqs[pairs_ind1s[i]][np.where(pairs[pairs_ind1s[i]] \n",
    "                                                                    == pairs_ind2s[i])[0][0]]))\n"
   ]
  },
  {
   "cell_type": "code",
   "execution_count": null,
   "metadata": {},
   "outputs": [],
   "source": [
    "star1 = table.iloc[pairs_ind1s[i]]\n",
    "star2 = table.iloc[pairs_ind2s[i]]\n",
    "chisq(star1, star2)"
   ]
  },
  {
   "cell_type": "markdown",
   "metadata": {},
   "source": [
    "Let's look at the relative luminosities of each match:"
   ]
  },
  {
   "cell_type": "code",
   "execution_count": null,
   "metadata": {},
   "outputs": [],
   "source": [
    "(gmag1, gmag2) = read_match_attr(pairs_ind1s, pairs_ind2s, 'phot_g_mean_mag')\n",
    "(plx1, plx2) = read_match_attr(pairs_ind1s, pairs_ind2s, 'parallax')\n",
    "dist1 = 1.e3/plx1\n",
    "absg1 = gmag1 - 5.*(np.log10(dist1) - 1.)\n",
    "dist2 = 1.e3/plx2\n",
    "absg2 = gmag2 - 5.*(np.log10(dist2) - 1.)"
   ]
  },
  {
   "cell_type": "markdown",
   "metadata": {},
   "source": [
    "Select only the ones with measured G:"
   ]
  },
  {
   "cell_type": "code",
   "execution_count": null,
   "metadata": {},
   "outputs": [],
   "source": [
    "mask = np.all(np.vstack([np.isfinite(absg1), np.isfinite(absg2)]), axis=0)\n",
    "good_pairs_2d = np.vstack([absg1[mask], absg2[mask]])\n",
    "#good_pairs_2d = np.sort(good_pairs_2d, axis=0) # we could sort by brightness here\n",
    "absg1, absg2 = good_pairs_2d[0], good_pairs_2d[1]"
   ]
  },
  {
   "cell_type": "code",
   "execution_count": null,
   "metadata": {},
   "outputs": [],
   "source": [
    "absg = np.append(absg1, absg2)\n",
    "hist = plt.hist(absg, bins=500)\n",
    "plt.xlim([-5,15])\n",
    "plt.xlabel('G')\n",
    "plt.ylabel('# of stars')\n",
    "plt.savefig('absmag_hist.png')"
   ]
  },
  {
   "cell_type": "code",
   "execution_count": null,
   "metadata": {},
   "outputs": [],
   "source": [
    "from matplotlib.colors import LogNorm\n",
    "plt.hist2d(absg1, absg2, bins=(1000,1000), norm=LogNorm())\n",
    "cbar = plt.colorbar()\n",
    "cbar.ax.set_ylabel('# of stars', rotation=270)\n",
    "plt.xlabel('G$_{1}$')\n",
    "plt.ylabel('G$_{2}$')\n",
    "plt.xlim([-5, 15])\n",
    "plt.ylim([-5, 15])\n",
    "plt.savefig('absmag_pairs.pdf')"
   ]
  },
  {
   "cell_type": "markdown",
   "metadata": {},
   "source": [
    "Now let's see how many of the matches are in the Kepler catalog, and whether any of them have planets!"
   ]
  },
  {
   "cell_type": "code",
   "execution_count": null,
   "metadata": {},
   "outputs": [],
   "source": [
    "ind1_is_kic = np.isfinite(table.iloc[pairs_ind1s]['kepid'])\n",
    "ind2_is_kic = np.isfinite(table.iloc[pairs_ind2s]['kepid'])"
   ]
  },
  {
   "cell_type": "code",
   "execution_count": null,
   "metadata": {},
   "outputs": [],
   "source": [
    "one_is_kic = np.any(np.vstack([ind1_is_kic, ind2_is_kic]), axis=0)\n",
    "both_are_kic = np.all(np.vstack([ind1_is_kic, ind2_is_kic]), axis=0)"
   ]
  },
  {
   "cell_type": "code",
   "execution_count": null,
   "metadata": {},
   "outputs": [],
   "source": [
    "np.sum(both_are_kic)"
   ]
  },
  {
   "cell_type": "code",
   "execution_count": null,
   "metadata": {},
   "outputs": [],
   "source": [
    "for i1, i2 in zip(pairs_ind1s[both_are_kic], pairs_ind2s[both_are_kic]):\n",
    "    print(read_match_attr(i1,i2,'planet?'))"
   ]
  },
  {
   "cell_type": "code",
   "execution_count": null,
   "metadata": {},
   "outputs": [],
   "source": []
  }
 ],
 "metadata": {
  "kernelspec": {
   "display_name": "Python 3",
   "language": "python",
   "name": "python3"
  },
  "language_info": {
   "codemirror_mode": {
    "name": "ipython",
    "version": 3
   },
   "file_extension": ".py",
   "mimetype": "text/x-python",
   "name": "python",
   "nbconvert_exporter": "python",
   "pygments_lexer": "ipython3",
   "version": "3.6.4"
  }
 },
 "nbformat": 4,
 "nbformat_minor": 2
}
