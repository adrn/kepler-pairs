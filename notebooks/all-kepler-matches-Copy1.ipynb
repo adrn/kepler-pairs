{
 "cells": [
  {
   "cell_type": "markdown",
   "metadata": {},
   "source": [
    "## Co-moving stars in Kepler"
   ]
  },
  {
   "cell_type": "markdown",
   "metadata": {},
   "source": [
    "(done in a very hacky way) (but this is probably ok because we're assuming all the stars are far away)"
   ]
  },
  {
   "cell_type": "code",
   "execution_count": 1,
   "metadata": {},
   "outputs": [],
   "source": [
    "import numpy as np\n",
    "from astropy.table import Table, unique\n",
    "from astropy import units as u\n",
    "import astropy.coordinates as coord\n",
    "from astropy.time import Time\n",
    "from astropy.io import fits\n",
    "import matplotlib.pyplot as plt\n",
    "from tqdm import tqdm\n",
    "import pandas as pd"
   ]
  },
  {
   "cell_type": "markdown",
   "metadata": {},
   "source": [
    "Load up the table of all Gaia DR2 sources within the Kepler field:"
   ]
  },
  {
   "cell_type": "code",
   "execution_count": 2,
   "metadata": {},
   "outputs": [],
   "source": [
    "gaia_table_file = '../data/16arcsec/gaia-kepler-dustin.fits'\n",
    "hdul = fits.open(gaia_table_file)\n",
    "gaia_src_tbl = Table(hdul[1].data)"
   ]
  },
  {
   "cell_type": "code",
   "execution_count": 3,
   "metadata": {},
   "outputs": [],
   "source": [
    "#filter = (gaia_src_tbl['phot_g_mean_mag'] >= 18.) & (gaia_src_tbl['parallax'] > 0.01)\n",
    "#gaia_src_tbl = gaia_src_tbl[filter]"
   ]
  },
  {
   "cell_type": "code",
   "execution_count": 4,
   "metadata": {},
   "outputs": [],
   "source": [
    "gaia_src_tbl = gaia_src_tbl.to_pandas()"
   ]
  },
  {
   "cell_type": "markdown",
   "metadata": {},
   "source": [
    "Now load up the Gaia-Kepler cross-match so we can add Kepler IDs to the best-match Gaia sources:"
   ]
  },
  {
   "cell_type": "code",
   "execution_count": 5,
   "metadata": {},
   "outputs": [
    {
     "name": "stdout",
     "output_type": "stream",
     "text": [
      "195830\n"
     ]
    }
   ],
   "source": [
    "kepler_table_file = '../data/kepler_dr2_1arcsec.fits'\n",
    "hdul = fits.open(kepler_table_file)\n",
    "kepler_tbl = Table(hdul[1].data)\n",
    "gaia_kepler_matches = kepler_tbl['kepid', 'kepler_gaia_ang_dist', 'source_id', 'nconfp', 'nkoi', 'planet?']\n",
    "gaia_kepler_matches = gaia_kepler_matches.to_pandas()\n",
    "print(len(gaia_kepler_matches))"
   ]
  },
  {
   "cell_type": "markdown",
   "metadata": {},
   "source": [
    "Trim off the less-good matches so that there's one unique Gaia source per Kepler target:"
   ]
  },
  {
   "cell_type": "code",
   "execution_count": 6,
   "metadata": {},
   "outputs": [
    {
     "name": "stdout",
     "output_type": "stream",
     "text": [
      "193244\n"
     ]
    }
   ],
   "source": [
    "gaia_kepler_matches.sort_values(['kepid', 'kepler_gaia_ang_dist'], inplace=True)\n",
    "gaia_kepler_matches.drop_duplicates('kepid', inplace=True)\n",
    "print(len(gaia_kepler_matches))"
   ]
  },
  {
   "cell_type": "markdown",
   "metadata": {},
   "source": [
    "And join the tables:"
   ]
  },
  {
   "cell_type": "code",
   "execution_count": 7,
   "metadata": {},
   "outputs": [
    {
     "data": {
      "text/plain": [
       "9376693"
      ]
     },
     "execution_count": 7,
     "metadata": {},
     "output_type": "execute_result"
    }
   ],
   "source": [
    "table = gaia_src_tbl.merge(gaia_kepler_matches, on='source_id', how='left')\n",
    "len(table)"
   ]
  },
  {
   "cell_type": "code",
   "execution_count": 8,
   "metadata": {},
   "outputs": [
    {
     "name": "stdout",
     "output_type": "stream",
     "text": [
      "                solution_id                   designation  \\\n",
      "979714  1635721458409799680  Gaia DR2 2105885485289168768   \n",
      "\n",
      "                  source_id  random_index  ref_epoch          ra  ra_error  \\\n",
      "979714  2105885485289168768     486039161     2015.5  285.685012  0.018974   \n",
      "\n",
      "              dec  dec_error  parallax   ...     radius_percentile_lower  \\\n",
      "979714  44.060521   0.020247  0.654823   ...                     1.27356   \n",
      "\n",
      "        radius_percentile_upper  lum_val  lum_percentile_lower  \\\n",
      "979714                 1.658074   2.3351              2.141423   \n",
      "\n",
      "        lum_percentile_upper      kepid  kepler_gaia_ang_dist  nconfp  nkoi  \\\n",
      "979714              2.528777  8151284.0              0.108671     0.0   0.0   \n",
      "\n",
      "        planet?  \n",
      "979714     none  \n",
      "\n",
      "[1 rows x 99 columns]\n"
     ]
    }
   ],
   "source": [
    "test_id = 2105885485289168768\n",
    "print(table[table['source_id'] == test_id])"
   ]
  },
  {
   "cell_type": "markdown",
   "metadata": {},
   "source": [
    "Now load up Dustin's pairs:"
   ]
  },
  {
   "cell_type": "code",
   "execution_count": 9,
   "metadata": {},
   "outputs": [],
   "source": [
    "pairs_file = '../data/16arcsec/matched-pairs-dustin.fits'\n",
    "hdul = fits.open(pairs_file)\n",
    "pairs = hdul[0].data"
   ]
  },
  {
   "cell_type": "markdown",
   "metadata": {},
   "source": [
    "Define some useful functions:"
   ]
  },
  {
   "cell_type": "code",
   "execution_count": 124,
   "metadata": {},
   "outputs": [],
   "source": [
    "def make_x(table, table_ind):\n",
    "    \"\"\"\n",
    "    returns a vector of x = [parallax, pmra, pmdec]\n",
    "    \"\"\"\n",
    "    names = ['parallax', 'pmra', 'pmdec']\n",
    "    return table.loc[table_ind, names].values.astype('f')\n",
    "\n",
    "def make_xerr(table, table_ind):\n",
    "    \"\"\"\n",
    "    returns a vector of xerr = [parallax_error, pmra_error, pmdec_error]\n",
    "    \"\"\"\n",
    "    err_names = ['parallax_error', 'pmra_error', 'pmdec_error']\n",
    "    return table.loc[table_ind, err_names].values.astype('f')    "
   ]
  },
  {
   "cell_type": "code",
   "execution_count": 125,
   "metadata": {},
   "outputs": [],
   "source": [
    "def ppm_check(table, table_ind1, table_ind2, sigma=5.):\n",
    "    \"\"\"\n",
    "    Returns True if the differences between parallax, pmra, and pmdec are all below \n",
    "    the sigma threshold.\n",
    "    \"\"\"\n",
    "    x1 = make_x(table, table_ind1)\n",
    "    x2 = make_x(table, table_ind2)\n",
    "    if np.any(np.isnan([x1,x2])):\n",
    "        return False\n",
    "    xerr1 = make_xerr(table, table_ind1)\n",
    "    xerr2 = make_xerr(table, table_ind2)\n",
    "    if np.any(np.isnan([xerr1, xerr2])):\n",
    "        return False\n",
    "    if np.any(np.abs(x1 - x2)/np.sqrt(xerr1**2 + xerr2**2) >= sigma):\n",
    "        return False\n",
    "    return True"
   ]
  },
  {
   "cell_type": "code",
   "execution_count": 132,
   "metadata": {},
   "outputs": [],
   "source": [
    "def make_cov(table, table_ind):\n",
    "    \"\"\"\n",
    "    returns covariance matrix C corresponding to x\n",
    "    \"\"\"\n",
    "    names = ['parallax', 'pmra', 'pmdec']\n",
    "    C = np.diag(make_xerr(table, table_ind))\n",
    "    for i, name1 in enumerate(names):\n",
    "        for j, name2 in enumerate(names):\n",
    "            if j >= i:\n",
    "                continue\n",
    "            corr = table.loc[table_ind, \"{0}_{1}_corr\".format(name2, name1)]\n",
    "            C[i, j] = corr * np.sqrt(C[i, i] * C[j, j])\n",
    "            C[j, i] = C[i, j]\n",
    "    return C\n",
    "\n",
    "def chisq(table, table_ind1, table_ind2):\n",
    "    \"\"\"\n",
    "    calculates chisquared for two stars based on their parallax and 2D proper motions\n",
    "    \"\"\"\n",
    "    deltax = make_x(table, table_ind1) - make_x(table, table_ind2)\n",
    "    cplusc = make_cov(table, table_ind1) + make_cov(table, table_ind1)\n",
    "    return np.dot(deltax, np.linalg.solve(cplusc, deltax))"
   ]
  },
  {
   "cell_type": "code",
   "execution_count": 127,
   "metadata": {},
   "outputs": [],
   "source": [
    "def calc_chisq(table, table_ind1, table_ind2):\n",
    "    if ppm_check(table, table_ind1, table_ind2):\n",
    "        return chisq(table, table_ind1, table_ind2)\n",
    "    else:\n",
    "        return -1"
   ]
  },
  {
   "cell_type": "markdown",
   "metadata": {},
   "source": [
    "Now calculate a goodness-of-fit metric for each pair, skipping over the ones that don't make an initial cut:"
   ]
  },
  {
   "cell_type": "code",
   "execution_count": null,
   "metadata": {},
   "outputs": [
    {
     "name": "stderr",
     "output_type": "stream",
     "text": [
      "25115it [01:00, 415.22it/s]"
     ]
    }
   ],
   "source": [
    "chisqs = np.zeros_like(pairs) - 1.\n",
    "\n",
    "for i,row in tqdm(enumerate(pairs)):\n",
    "    primary_ind = i\n",
    "    match_inds = row[(row > -1) & (row > i)] # ignore non-matches and duplicates\n",
    "    if len(match_inds) > 0:\n",
    "        for j,match_ind in enumerate(match_inds):\n",
    "            chisqs[i,j] = calc_chisq(table, primary_ind, match_ind)"
   ]
  },
  {
   "cell_type": "markdown",
   "metadata": {},
   "source": [
    "Save the outputs and take a look at their distribution:"
   ]
  },
  {
   "cell_type": "code",
   "execution_count": null,
   "metadata": {},
   "outputs": [],
   "source": [
    "hdu = fits.PrimaryHDU(chisqs)\n",
    "hdulist = fits.HDUList([hdu])\n",
    "hdulist.writeto('../data/chisqs_matched-pairs.fits')\n",
    "hdulist.close()"
   ]
  },
  {
   "cell_type": "code",
   "execution_count": 13,
   "metadata": {},
   "outputs": [],
   "source": [
    "# optional - load up already-saved outputs\n",
    "hdul = fits.open('../data/16arcsec/chisqs_matched-pairs-dustin.fits')\n",
    "chisqs = hdul[0].data"
   ]
  },
  {
   "cell_type": "code",
   "execution_count": null,
   "metadata": {},
   "outputs": [],
   "source": [
    "plt.hist(chisqs[(chisqs > 0.) & (chisqs < 10.)], bins=100)\n",
    "plt.xlabel('$\\chi^2$', fontsize=16)\n",
    "plt.ylabel('# Pairs', fontsize=16)\n",
    "plt.yscale('log')\n",
    "plt.savefig('chisq_keplerpairs.png')"
   ]
  },
  {
   "cell_type": "markdown",
   "metadata": {},
   "source": [
    "OK, now let's select the best-fit pairs and save their indicies for easy access:"
   ]
  },
  {
   "cell_type": "code",
   "execution_count": 14,
   "metadata": {},
   "outputs": [
    {
     "data": {
      "text/plain": [
       "1112369"
      ]
     },
     "execution_count": 14,
     "metadata": {},
     "output_type": "execute_result"
    }
   ],
   "source": [
    "matches_mask = (chisqs > 0) & (chisqs < 2)\n",
    "np.sum(matches_mask)"
   ]
  },
  {
   "cell_type": "code",
   "execution_count": 15,
   "metadata": {},
   "outputs": [],
   "source": [
    "len_inds, len_matches = np.shape(pairs)\n",
    "pairs_inds = np.array([np.arange(len_inds),]*len_matches).transpose()\n",
    "pairs_ind1s = pairs_inds[matches_mask]\n",
    "pairs_ind2s = pairs[matches_mask]"
   ]
  },
  {
   "cell_type": "code",
   "execution_count": 16,
   "metadata": {},
   "outputs": [],
   "source": [
    "def read_match_attr(ind1, ind2, attr):\n",
    "    return table.iloc[ind1][attr], table.iloc[ind2][attr]"
   ]
  },
  {
   "cell_type": "code",
   "execution_count": 17,
   "metadata": {},
   "outputs": [
    {
     "name": "stdout",
     "output_type": "stream",
     "text": [
      "source_ids of a pair:\n",
      "(2097438792153786368, 2097438727722672128)\n"
     ]
    }
   ],
   "source": [
    "print(\"source_ids of a pair:\")\n",
    "print(read_match_attr(pairs_ind1s[0], pairs_ind2s[0], 'source_id'))"
   ]
  },
  {
   "cell_type": "markdown",
   "metadata": {},
   "source": [
    "Sanity check: plot the parallax and proper motions of an identified match"
   ]
  },
  {
   "cell_type": "code",
   "execution_count": 18,
   "metadata": {},
   "outputs": [],
   "source": [
    "from plot_tools import error_ellipse\n",
    "fs = 12"
   ]
  },
  {
   "cell_type": "code",
   "execution_count": 142,
   "metadata": {},
   "outputs": [],
   "source": [
    "def plot_xs(i, sigma=1):\n",
    "    x1 = make_x(table, pairs_ind1s[i])\n",
    "    cov1 = make_cov(table, pairs_ind1s[i])\n",
    "    x2 = make_x(table, pairs_ind2s[i])\n",
    "    cov2 = make_cov(table, pairs_ind2s[i])\n",
    "    fig = plt.figure(figsize=(12,4))\n",
    "    ax1 = fig.add_subplot(131)\n",
    "    error_ellipse(ax1, x1[0], x1[1], cov1[:2,:2], ec='red', sigma=sigma)\n",
    "    error_ellipse(ax1, x2[0], x2[1], cov2[:2,:2], ec='blue', sigma=sigma)\n",
    "    ax1.set_xlim([min([x1[0], x2[0]]) - 5., max([x1[0], x2[0]]) + 5.])\n",
    "    ax1.set_ylim([min([x1[1], x2[1]]) - 5., max([x1[1], x2[1]]) + 5.])\n",
    "    ax1.set_xlabel('Parallax (mas)', fontsize=fs)\n",
    "    ax1.set_ylabel('PM RA (mas yr$^{-1}$)', fontsize=fs)\n",
    "\n",
    "    ax2 = fig.add_subplot(133)\n",
    "    error_ellipse(ax2, x1[1], x1[2], cov1[1:,1:], ec='red', sigma=sigma)\n",
    "    error_ellipse(ax2, x2[1], x2[2], cov2[1:,1:], ec='blue', sigma=sigma)\n",
    "    ax2.set_xlim([min([x1[1], x2[1]]) - 5., max([x1[1], x2[1]]) + 5.])\n",
    "    ax2.set_ylim([min([x1[2], x2[2]]) - 5., max([x1[2], x2[2]]) + 5.])\n",
    "    ax2.set_xlabel('PM RA (mas yr$^{-1}$)', fontsize=fs)\n",
    "    ax2.set_ylabel('PM Dec (mas yr$^{-1}$)', fontsize=fs)\n",
    "    \n",
    "    ax3 = fig.add_subplot(132)\n",
    "    c1 = np.delete(np.delete(cov1, 1, axis=0), 1, axis=1)\n",
    "    c2 = np.delete(np.delete(cov2, 1, axis=0), 1, axis=1)\n",
    "    error_ellipse(ax3, x1[0], x1[2], c1, ec='red', sigma=sigma)\n",
    "    error_ellipse(ax3, x2[0], x2[2], c2, ec='blue', sigma=sigma)\n",
    "    ax3.set_xlim([min([x1[0], x2[0]]) - 5., max([x1[0], x2[0]]) + 5.])\n",
    "    ax3.set_ylim([min([x1[2], x2[2]]) - 5., max([x1[2], x2[2]]) + 5.])\n",
    "    ax3.set_xlabel('Parallax (mas)', fontsize=fs)\n",
    "    ax3.set_ylabel('PM Dec (mas yr$^{-1}$)', fontsize=fs)\n",
    "    \n",
    "    fig.subplots_adjust(wspace = 0.5)\n",
    "    fig.text(0.5, 0.95, 'match #{0}'.format(i), horizontalalignment='center', \n",
    "             transform=ax3.transAxes, fontsize=fs+2)"
   ]
  },
  {
   "cell_type": "code",
   "execution_count": 158,
   "metadata": {},
   "outputs": [
    {
     "name": "stdout",
     "output_type": "stream",
     "text": [
      "match 296046: source_ids (2052265906676887168, 2052265601734120320)\n"
     ]
    },
    {
     "data": {
      "image/png": "[encoded data removed]",
      "text/plain": [
       "<Figure size 864x288 with 3 Axes>"
      ]
     },
     "metadata": {},
     "output_type": "display_data"
    }
   ],
   "source": [
    "i = np.random.randint(0, len(pairs_ind1s))\n",
    "print(\"match {0}: source_ids {1}\".format(i, \n",
    "            read_match_attr(pairs_ind1s[i], pairs_ind2s[i], 'source_id')))\n",
    "plot_xs(i, sigma=3)"
   ]
  },
  {
   "cell_type": "code",
   "execution_count": 159,
   "metadata": {},
   "outputs": [
    {
     "data": {
      "text/html": [
       "<div>\n",
       "<style scoped>\n",
       "    .dataframe tbody tr th:only-of-type {\n",
       "        vertical-align: middle;\n",
       "    }\n",
       "\n",
       "    .dataframe tbody tr th {\n",
       "        vertical-align: top;\n",
       "    }\n",
       "\n",
       "    .dataframe thead th {\n",
       "        text-align: right;\n",
       "    }\n",
       "</style>\n",
       "<table border=\"1\" class=\"dataframe\">\n",
       "  <thead>\n",
       "    <tr style=\"text-align: right;\">\n",
       "      <th></th>\n",
       "      <th>solution_id</th>\n",
       "      <th>designation</th>\n",
       "      <th>source_id</th>\n",
       "      <th>random_index</th>\n",
       "      <th>ref_epoch</th>\n",
       "      <th>ra</th>\n",
       "      <th>ra_error</th>\n",
       "      <th>dec</th>\n",
       "      <th>dec_error</th>\n",
       "      <th>parallax</th>\n",
       "      <th>parallax_error</th>\n",
       "      <th>parallax_over_error</th>\n",
       "      <th>pmra</th>\n",
       "      <th>pmra_error</th>\n",
       "      <th>pmdec</th>\n",
       "      <th>pmdec_error</th>\n",
       "      <th>ra_dec_corr</th>\n",
       "      <th>ra_parallax_corr</th>\n",
       "      <th>ra_pmra_corr</th>\n",
       "      <th>ra_pmdec_corr</th>\n",
       "      <th>dec_parallax_corr</th>\n",
       "      <th>dec_pmra_corr</th>\n",
       "      <th>dec_pmdec_corr</th>\n",
       "      <th>parallax_pmra_corr</th>\n",
       "      <th>parallax_pmdec_corr</th>\n",
       "      <th>pmra_pmdec_corr</th>\n",
       "      <th>astrometric_n_obs_al</th>\n",
       "      <th>astrometric_n_obs_ac</th>\n",
       "      <th>astrometric_n_good_obs_al</th>\n",
       "      <th>astrometric_n_bad_obs_al</th>\n",
       "      <th>astrometric_gof_al</th>\n",
       "      <th>astrometric_chi2_al</th>\n",
       "      <th>astrometric_excess_noise</th>\n",
       "      <th>astrometric_excess_noise_sig</th>\n",
       "      <th>astrometric_params_solved</th>\n",
       "      <th>astrometric_primary_flag</th>\n",
       "      <th>astrometric_weight_al</th>\n",
       "      <th>astrometric_pseudo_colour</th>\n",
       "      <th>astrometric_pseudo_colour_error</th>\n",
       "      <th>mean_varpi_factor_al</th>\n",
       "      <th>astrometric_matched_observations</th>\n",
       "      <th>visibility_periods_used</th>\n",
       "      <th>astrometric_sigma5d_max</th>\n",
       "      <th>frame_rotator_object_type</th>\n",
       "      <th>matched_observations</th>\n",
       "      <th>duplicated_source</th>\n",
       "      <th>phot_g_n_obs</th>\n",
       "      <th>phot_g_mean_flux</th>\n",
       "      <th>phot_g_mean_flux_error</th>\n",
       "      <th>phot_g_mean_flux_over_error</th>\n",
       "      <th>phot_g_mean_mag</th>\n",
       "      <th>phot_bp_n_obs</th>\n",
       "      <th>phot_bp_mean_flux</th>\n",
       "      <th>phot_bp_mean_flux_error</th>\n",
       "      <th>phot_bp_mean_flux_over_error</th>\n",
       "      <th>phot_bp_mean_mag</th>\n",
       "      <th>phot_rp_n_obs</th>\n",
       "      <th>phot_rp_mean_flux</th>\n",
       "      <th>phot_rp_mean_flux_error</th>\n",
       "      <th>phot_rp_mean_flux_over_error</th>\n",
       "      <th>phot_rp_mean_mag</th>\n",
       "      <th>phot_bp_rp_excess_factor</th>\n",
       "      <th>phot_proc_mode</th>\n",
       "      <th>bp_rp</th>\n",
       "      <th>bp_g</th>\n",
       "      <th>g_rp</th>\n",
       "      <th>radial_velocity</th>\n",
       "      <th>radial_velocity_error</th>\n",
       "      <th>rv_nb_transits</th>\n",
       "      <th>rv_template_teff</th>\n",
       "      <th>rv_template_logg</th>\n",
       "      <th>rv_template_fe_h</th>\n",
       "      <th>phot_variable_flag</th>\n",
       "      <th>l</th>\n",
       "      <th>b</th>\n",
       "      <th>ecl_lon</th>\n",
       "      <th>ecl_lat</th>\n",
       "      <th>priam_flags</th>\n",
       "      <th>teff_val</th>\n",
       "      <th>teff_percentile_lower</th>\n",
       "      <th>teff_percentile_upper</th>\n",
       "      <th>a_g_val</th>\n",
       "      <th>a_g_percentile_lower</th>\n",
       "      <th>a_g_percentile_upper</th>\n",
       "      <th>e_bp_min_rp_val</th>\n",
       "      <th>e_bp_min_rp_percentile_lower</th>\n",
       "      <th>e_bp_min_rp_percentile_upper</th>\n",
       "      <th>flame_flags</th>\n",
       "      <th>radius_val</th>\n",
       "      <th>radius_percentile_lower</th>\n",
       "      <th>radius_percentile_upper</th>\n",
       "      <th>lum_val</th>\n",
       "      <th>lum_percentile_lower</th>\n",
       "      <th>lum_percentile_upper</th>\n",
       "      <th>kepid</th>\n",
       "      <th>kepler_gaia_ang_dist</th>\n",
       "      <th>nconfp</th>\n",
       "      <th>nkoi</th>\n",
       "      <th>planet?</th>\n",
       "    </tr>\n",
       "  </thead>\n",
       "  <tbody>\n",
       "    <tr>\n",
       "      <th>5060607</th>\n",
       "      <td>1635721458409799680</td>\n",
       "      <td>Gaia DR2 2052265601734120320</td>\n",
       "      <td>2052265601734120320</td>\n",
       "      <td>521218080</td>\n",
       "      <td>2015.5</td>\n",
       "      <td>293.171549</td>\n",
       "      <td>0.630400</td>\n",
       "      <td>38.498014</td>\n",
       "      <td>1.241540</td>\n",
       "      <td>-0.858024</td>\n",
       "      <td>0.939762</td>\n",
       "      <td>-0.913023</td>\n",
       "      <td>-5.114249</td>\n",
       "      <td>1.451846</td>\n",
       "      <td>-6.283421</td>\n",
       "      <td>2.129863</td>\n",
       "      <td>0.021825</td>\n",
       "      <td>-0.006175</td>\n",
       "      <td>-0.368435</td>\n",
       "      <td>0.083627</td>\n",
       "      <td>0.509646</td>\n",
       "      <td>0.157742</td>\n",
       "      <td>-0.555258</td>\n",
       "      <td>0.08913</td>\n",
       "      <td>-0.150631</td>\n",
       "      <td>-0.102879</td>\n",
       "      <td>143</td>\n",
       "      <td>0.0</td>\n",
       "      <td>142</td>\n",
       "      <td>1.0</td>\n",
       "      <td>1.868945</td>\n",
       "      <td>169.553955</td>\n",
       "      <td>0.732467</td>\n",
       "      <td>0.152615</td>\n",
       "      <td>31.0</td>\n",
       "      <td>false</td>\n",
       "      <td>0.030281</td>\n",
       "      <td>1.838066</td>\n",
       "      <td>0.213194</td>\n",
       "      <td>0.150353</td>\n",
       "      <td>17</td>\n",
       "      <td>10</td>\n",
       "      <td>2.050236</td>\n",
       "      <td>0</td>\n",
       "      <td>20</td>\n",
       "      <td>false</td>\n",
       "      <td>169</td>\n",
       "      <td>106.213631</td>\n",
       "      <td>1.087118</td>\n",
       "      <td>97.702072</td>\n",
       "      <td>20.622915</td>\n",
       "      <td>12</td>\n",
       "      <td>41.198296</td>\n",
       "      <td>7.951894</td>\n",
       "      <td>5.180941</td>\n",
       "      <td>21.314190</td>\n",
       "      <td>18</td>\n",
       "      <td>72.956657</td>\n",
       "      <td>7.691924</td>\n",
       "      <td>9.484838</td>\n",
       "      <td>20.104258</td>\n",
       "      <td>1.074767</td>\n",
       "      <td>0</td>\n",
       "      <td>1.209932</td>\n",
       "      <td>0.691275</td>\n",
       "      <td>0.518658</td>\n",
       "      <td>NaN</td>\n",
       "      <td>NaN</td>\n",
       "      <td>0</td>\n",
       "      <td>NaN</td>\n",
       "      <td>NaN</td>\n",
       "      <td>NaN</td>\n",
       "      <td>NOT_AVAILABLE</td>\n",
       "      <td>71.67776</td>\n",
       "      <td>9.158058</td>\n",
       "      <td>306.742460</td>\n",
       "      <td>59.016986</td>\n",
       "      <td>-1</td>\n",
       "      <td>NaN</td>\n",
       "      <td>NaN</td>\n",
       "      <td>NaN</td>\n",
       "      <td>NaN</td>\n",
       "      <td>NaN</td>\n",
       "      <td>NaN</td>\n",
       "      <td>NaN</td>\n",
       "      <td>NaN</td>\n",
       "      <td>NaN</td>\n",
       "      <td>-1</td>\n",
       "      <td>NaN</td>\n",
       "      <td>NaN</td>\n",
       "      <td>NaN</td>\n",
       "      <td>NaN</td>\n",
       "      <td>NaN</td>\n",
       "      <td>NaN</td>\n",
       "      <td>NaN</td>\n",
       "      <td>NaN</td>\n",
       "      <td>NaN</td>\n",
       "      <td>NaN</td>\n",
       "      <td>NaN</td>\n",
       "    </tr>\n",
       "    <tr>\n",
       "      <th>5060627</th>\n",
       "      <td>1635721458409799680</td>\n",
       "      <td>Gaia DR2 2052265906676887168</td>\n",
       "      <td>2052265906676887168</td>\n",
       "      <td>781717498</td>\n",
       "      <td>2015.5</td>\n",
       "      <td>293.161170</td>\n",
       "      <td>0.325493</td>\n",
       "      <td>38.522167</td>\n",
       "      <td>0.397287</td>\n",
       "      <td>0.065841</td>\n",
       "      <td>0.417740</td>\n",
       "      <td>0.157613</td>\n",
       "      <td>-0.704226</td>\n",
       "      <td>0.774414</td>\n",
       "      <td>-2.726948</td>\n",
       "      <td>0.764009</td>\n",
       "      <td>0.063377</td>\n",
       "      <td>-0.043308</td>\n",
       "      <td>-0.265320</td>\n",
       "      <td>0.051918</td>\n",
       "      <td>0.426728</td>\n",
       "      <td>0.121462</td>\n",
       "      <td>-0.255930</td>\n",
       "      <td>0.15533</td>\n",
       "      <td>-0.051480</td>\n",
       "      <td>0.085653</td>\n",
       "      <td>242</td>\n",
       "      <td>0.0</td>\n",
       "      <td>239</td>\n",
       "      <td>3.0</td>\n",
       "      <td>2.225323</td>\n",
       "      <td>284.757385</td>\n",
       "      <td>1.141532</td>\n",
       "      <td>1.852319</td>\n",
       "      <td>31.0</td>\n",
       "      <td>false</td>\n",
       "      <td>0.078925</td>\n",
       "      <td>1.490120</td>\n",
       "      <td>0.108233</td>\n",
       "      <td>0.069724</td>\n",
       "      <td>28</td>\n",
       "      <td>14</td>\n",
       "      <td>0.707111</td>\n",
       "      <td>0</td>\n",
       "      <td>31</td>\n",
       "      <td>false</td>\n",
       "      <td>255</td>\n",
       "      <td>208.167557</td>\n",
       "      <td>1.052651</td>\n",
       "      <td>197.755600</td>\n",
       "      <td>19.892334</td>\n",
       "      <td>20</td>\n",
       "      <td>104.166229</td>\n",
       "      <td>9.641023</td>\n",
       "      <td>10.804480</td>\n",
       "      <td>20.307072</td>\n",
       "      <td>26</td>\n",
       "      <td>166.900620</td>\n",
       "      <td>6.815115</td>\n",
       "      <td>24.489773</td>\n",
       "      <td>19.205774</td>\n",
       "      <td>1.302157</td>\n",
       "      <td>0</td>\n",
       "      <td>1.101297</td>\n",
       "      <td>0.414738</td>\n",
       "      <td>0.686560</td>\n",
       "      <td>NaN</td>\n",
       "      <td>NaN</td>\n",
       "      <td>0</td>\n",
       "      <td>NaN</td>\n",
       "      <td>NaN</td>\n",
       "      <td>NaN</td>\n",
       "      <td>NOT_AVAILABLE</td>\n",
       "      <td>71.69566</td>\n",
       "      <td>9.176417</td>\n",
       "      <td>306.741697</td>\n",
       "      <td>59.042465</td>\n",
       "      <td>-1</td>\n",
       "      <td>NaN</td>\n",
       "      <td>NaN</td>\n",
       "      <td>NaN</td>\n",
       "      <td>NaN</td>\n",
       "      <td>NaN</td>\n",
       "      <td>NaN</td>\n",
       "      <td>NaN</td>\n",
       "      <td>NaN</td>\n",
       "      <td>NaN</td>\n",
       "      <td>-1</td>\n",
       "      <td>NaN</td>\n",
       "      <td>NaN</td>\n",
       "      <td>NaN</td>\n",
       "      <td>NaN</td>\n",
       "      <td>NaN</td>\n",
       "      <td>NaN</td>\n",
       "      <td>NaN</td>\n",
       "      <td>NaN</td>\n",
       "      <td>NaN</td>\n",
       "      <td>NaN</td>\n",
       "      <td>NaN</td>\n",
       "    </tr>\n",
       "  </tbody>\n",
       "</table>\n",
       "</div>"
      ],
      "text/plain": [
       "                 solution_id                   designation  \\\n",
       "5060607  1635721458409799680  Gaia DR2 2052265601734120320   \n",
       "5060627  1635721458409799680  Gaia DR2 2052265906676887168   \n",
       "\n",
       "                   source_id  random_index  ref_epoch          ra  ra_error  \\\n",
       "5060607  2052265601734120320     521218080     2015.5  293.171549  0.630400   \n",
       "5060627  2052265906676887168     781717498     2015.5  293.161170  0.325493   \n",
       "\n",
       "               dec  dec_error  parallax  parallax_error  parallax_over_error  \\\n",
       "5060607  38.498014   1.241540 -0.858024        0.939762            -0.913023   \n",
       "5060627  38.522167   0.397287  0.065841        0.417740             0.157613   \n",
       "\n",
       "             pmra  pmra_error     pmdec  pmdec_error  ra_dec_corr  \\\n",
       "5060607 -5.114249    1.451846 -6.283421     2.129863     0.021825   \n",
       "5060627 -0.704226    0.774414 -2.726948     0.764009     0.063377   \n",
       "\n",
       "         ra_parallax_corr  ra_pmra_corr  ra_pmdec_corr  dec_parallax_corr  \\\n",
       "5060607         -0.006175     -0.368435       0.083627           0.509646   \n",
       "5060627         -0.043308     -0.265320       0.051918           0.426728   \n",
       "\n",
       "         dec_pmra_corr  dec_pmdec_corr  parallax_pmra_corr  \\\n",
       "5060607       0.157742       -0.555258             0.08913   \n",
       "5060627       0.121462       -0.255930             0.15533   \n",
       "\n",
       "         parallax_pmdec_corr  pmra_pmdec_corr  astrometric_n_obs_al  \\\n",
       "5060607            -0.150631        -0.102879                   143   \n",
       "5060627            -0.051480         0.085653                   242   \n",
       "\n",
       "         astrometric_n_obs_ac  astrometric_n_good_obs_al  \\\n",
       "5060607                   0.0                        142   \n",
       "5060627                   0.0                        239   \n",
       "\n",
       "         astrometric_n_bad_obs_al  astrometric_gof_al  astrometric_chi2_al  \\\n",
       "5060607                       1.0            1.868945           169.553955   \n",
       "5060627                       3.0            2.225323           284.757385   \n",
       "\n",
       "         astrometric_excess_noise  astrometric_excess_noise_sig  \\\n",
       "5060607                  0.732467                      0.152615   \n",
       "5060627                  1.141532                      1.852319   \n",
       "\n",
       "         astrometric_params_solved astrometric_primary_flag  \\\n",
       "5060607                       31.0                    false   \n",
       "5060627                       31.0                    false   \n",
       "\n",
       "         astrometric_weight_al  astrometric_pseudo_colour  \\\n",
       "5060607               0.030281                   1.838066   \n",
       "5060627               0.078925                   1.490120   \n",
       "\n",
       "         astrometric_pseudo_colour_error  mean_varpi_factor_al  \\\n",
       "5060607                         0.213194              0.150353   \n",
       "5060627                         0.108233              0.069724   \n",
       "\n",
       "         astrometric_matched_observations  visibility_periods_used  \\\n",
       "5060607                                17                       10   \n",
       "5060627                                28                       14   \n",
       "\n",
       "         astrometric_sigma5d_max  frame_rotator_object_type  \\\n",
       "5060607                 2.050236                          0   \n",
       "5060627                 0.707111                          0   \n",
       "\n",
       "         matched_observations duplicated_source  phot_g_n_obs  \\\n",
       "5060607                    20             false           169   \n",
       "5060627                    31             false           255   \n",
       "\n",
       "         phot_g_mean_flux  phot_g_mean_flux_error  \\\n",
       "5060607        106.213631                1.087118   \n",
       "5060627        208.167557                1.052651   \n",
       "\n",
       "         phot_g_mean_flux_over_error  phot_g_mean_mag  phot_bp_n_obs  \\\n",
       "5060607                    97.702072        20.622915             12   \n",
       "5060627                   197.755600        19.892334             20   \n",
       "\n",
       "         phot_bp_mean_flux  phot_bp_mean_flux_error  \\\n",
       "5060607          41.198296                 7.951894   \n",
       "5060627         104.166229                 9.641023   \n",
       "\n",
       "         phot_bp_mean_flux_over_error  phot_bp_mean_mag  phot_rp_n_obs  \\\n",
       "5060607                      5.180941         21.314190             18   \n",
       "5060627                     10.804480         20.307072             26   \n",
       "\n",
       "         phot_rp_mean_flux  phot_rp_mean_flux_error  \\\n",
       "5060607          72.956657                 7.691924   \n",
       "5060627         166.900620                 6.815115   \n",
       "\n",
       "         phot_rp_mean_flux_over_error  phot_rp_mean_mag  \\\n",
       "5060607                      9.484838         20.104258   \n",
       "5060627                     24.489773         19.205774   \n",
       "\n",
       "         phot_bp_rp_excess_factor  phot_proc_mode     bp_rp      bp_g  \\\n",
       "5060607                  1.074767               0  1.209932  0.691275   \n",
       "5060627                  1.302157               0  1.101297  0.414738   \n",
       "\n",
       "             g_rp  radial_velocity  radial_velocity_error  rv_nb_transits  \\\n",
       "5060607  0.518658              NaN                    NaN               0   \n",
       "5060627  0.686560              NaN                    NaN               0   \n",
       "\n",
       "         rv_template_teff  rv_template_logg  rv_template_fe_h  \\\n",
       "5060607               NaN               NaN               NaN   \n",
       "5060627               NaN               NaN               NaN   \n",
       "\n",
       "        phot_variable_flag         l         b     ecl_lon    ecl_lat  \\\n",
       "5060607      NOT_AVAILABLE  71.67776  9.158058  306.742460  59.016986   \n",
       "5060627      NOT_AVAILABLE  71.69566  9.176417  306.741697  59.042465   \n",
       "\n",
       "         priam_flags  teff_val  teff_percentile_lower  teff_percentile_upper  \\\n",
       "5060607           -1       NaN                    NaN                    NaN   \n",
       "5060627           -1       NaN                    NaN                    NaN   \n",
       "\n",
       "         a_g_val  a_g_percentile_lower  a_g_percentile_upper  e_bp_min_rp_val  \\\n",
       "5060607      NaN                   NaN                   NaN              NaN   \n",
       "5060627      NaN                   NaN                   NaN              NaN   \n",
       "\n",
       "         e_bp_min_rp_percentile_lower  e_bp_min_rp_percentile_upper  \\\n",
       "5060607                           NaN                           NaN   \n",
       "5060627                           NaN                           NaN   \n",
       "\n",
       "         flame_flags  radius_val  radius_percentile_lower  \\\n",
       "5060607           -1         NaN                      NaN   \n",
       "5060627           -1         NaN                      NaN   \n",
       "\n",
       "         radius_percentile_upper  lum_val  lum_percentile_lower  \\\n",
       "5060607                      NaN      NaN                   NaN   \n",
       "5060627                      NaN      NaN                   NaN   \n",
       "\n",
       "         lum_percentile_upper  kepid  kepler_gaia_ang_dist  nconfp  nkoi  \\\n",
       "5060607                   NaN    NaN                   NaN     NaN   NaN   \n",
       "5060627                   NaN    NaN                   NaN     NaN   NaN   \n",
       "\n",
       "        planet?  \n",
       "5060607     NaN  \n",
       "5060627     NaN  "
      ]
     },
     "execution_count": 159,
     "metadata": {},
     "output_type": "execute_result"
    }
   ],
   "source": [
    "pd.options.display.max_columns = None\n",
    "src1, src2 = read_match_attr(pairs_ind1s[i], pairs_ind2s[i], 'source_id')\n",
    "table[table['source_id'].isin([src1, src2])]"
   ]
  },
  {
   "cell_type": "code",
   "execution_count": 160,
   "metadata": {},
   "outputs": [
    {
     "name": "stdout",
     "output_type": "stream",
     "text": [
      "saved chisquared = 1.26445\n"
     ]
    }
   ],
   "source": [
    "print(\"saved chisquared = {0:.5f}\".format(chisqs[pairs_ind1s[i]][np.where(pairs[pairs_ind1s[i]] \n",
    "                                                                    == pairs_ind2s[i])[0][0]]))\n"
   ]
  },
  {
   "cell_type": "code",
   "execution_count": 161,
   "metadata": {},
   "outputs": [
    {
     "data": {
      "text/plain": [
       "19.63536"
      ]
     },
     "execution_count": 161,
     "metadata": {},
     "output_type": "execute_result"
    }
   ],
   "source": [
    "star1 = table[table['source_id'] == src1]\n",
    "star2 = table[table['source_id'] == src2]\n",
    "x1 = make_x(table, pairs_ind1s[i])\n",
    "x2 = make_x(table, pairs_ind2s[i])\n",
    "xerr1 = make_xerr(table, pairs_ind1s[i])\n",
    "xerr2 = make_xerr(table, pairs_ind2s[i])\n",
    "np.abs(x1 - x2)/np.sqrt(xerr1**2 + xerr2**2)\n",
    "chisq(table, pairs_ind1s[i], pairs_ind2s[i])"
   ]
  },
  {
   "cell_type": "code",
   "execution_count": 122,
   "metadata": {},
   "outputs": [
    {
     "data": {
      "text/plain": [
       "array([-11.880318 ,  -0.8891664], dtype=float32)"
      ]
     },
     "execution_count": 122,
     "metadata": {},
     "output_type": "execute_result"
    }
   ],
   "source": [
    "table.loc[0,['pmdec', 'pmra']].values.astype('f')"
   ]
  },
  {
   "cell_type": "markdown",
   "metadata": {},
   "source": [
    "Questionable matches to check on: 532830, 1065984 (no secondary??), 35263, 206275"
   ]
  },
  {
   "cell_type": "markdown",
   "metadata": {},
   "source": [
    "Let's look at the relative luminosities of each match:"
   ]
  },
  {
   "cell_type": "code",
   "execution_count": null,
   "metadata": {},
   "outputs": [],
   "source": [
    "(gmag1, gmag2) = read_match_attr(pairs_ind1s, pairs_ind2s, 'phot_g_mean_mag')\n",
    "(plx1, plx2) = read_match_attr(pairs_ind1s, pairs_ind2s, 'parallax')\n",
    "dist1 = 1.e3/plx1\n",
    "absg1 = gmag1 - 5.*(np.log10(dist1) - 1.)\n",
    "dist2 = 1.e3/plx2\n",
    "absg2 = gmag2 - 5.*(np.log10(dist2) - 1.)"
   ]
  },
  {
   "cell_type": "markdown",
   "metadata": {},
   "source": [
    "Select only the ones with measured G:"
   ]
  },
  {
   "cell_type": "code",
   "execution_count": null,
   "metadata": {},
   "outputs": [],
   "source": [
    "mask = np.all(np.vstack([np.isfinite(absg1), np.isfinite(absg2)]), axis=0)\n",
    "good_pairs_2d = np.vstack([absg1[mask], absg2[mask]])\n",
    "#good_pairs_2d = np.sort(good_pairs_2d, axis=0) # we could sort by brightness here\n",
    "absg1, absg2 = good_pairs_2d[0], good_pairs_2d[1]"
   ]
  },
  {
   "cell_type": "code",
   "execution_count": null,
   "metadata": {},
   "outputs": [],
   "source": [
    "absg = np.append(absg1, absg2)\n",
    "hist = plt.hist(absg, bins=500)\n",
    "plt.xlim([-5,15])\n",
    "plt.xlabel('G')\n",
    "plt.ylabel('# of stars')\n",
    "plt.savefig('absmag_hist.png')"
   ]
  },
  {
   "cell_type": "code",
   "execution_count": null,
   "metadata": {},
   "outputs": [],
   "source": [
    "from matplotlib.colors import LogNorm\n",
    "plt.hist2d(absg1, absg2, bins=(1000,1000), norm=LogNorm())\n",
    "cbar = plt.colorbar()\n",
    "cbar.ax.set_ylabel('# of stars', rotation=270)\n",
    "plt.xlabel('G$_{1}$')\n",
    "plt.ylabel('G$_{2}$')\n",
    "plt.xlim([-5, 15])\n",
    "plt.ylim([-5, 15])\n",
    "plt.savefig('absmag_pairs.pdf')"
   ]
  },
  {
   "cell_type": "markdown",
   "metadata": {},
   "source": [
    "Now let's see how many of the matches are in the Kepler catalog, and whether any of them have planets!"
   ]
  },
  {
   "cell_type": "code",
   "execution_count": null,
   "metadata": {},
   "outputs": [],
   "source": [
    "ind1_is_kic = np.isfinite(table.iloc[pairs_ind1s]['kepid'])\n",
    "ind2_is_kic = np.isfinite(table.iloc[pairs_ind2s]['kepid'])"
   ]
  },
  {
   "cell_type": "code",
   "execution_count": null,
   "metadata": {},
   "outputs": [],
   "source": [
    "one_is_kic = np.any(np.vstack([ind1_is_kic, ind2_is_kic]), axis=0)\n",
    "both_are_kic = np.all(np.vstack([ind1_is_kic, ind2_is_kic]), axis=0)"
   ]
  },
  {
   "cell_type": "code",
   "execution_count": null,
   "metadata": {},
   "outputs": [],
   "source": [
    "np.sum(both_are_kic)"
   ]
  },
  {
   "cell_type": "code",
   "execution_count": null,
   "metadata": {},
   "outputs": [],
   "source": [
    "for i1, i2 in zip(pairs_ind1s[both_are_kic], pairs_ind2s[both_are_kic]):\n",
    "    print(read_match_attr(i1,i2,'planet?'))"
   ]
  },
  {
   "cell_type": "code",
   "execution_count": null,
   "metadata": {},
   "outputs": [],
   "source": []
  }
 ],
 "metadata": {
  "kernelspec": {
   "display_name": "Python 3",
   "language": "python",
   "name": "python3"
  },
  "language_info": {
   "codemirror_mode": {
    "name": "ipython",
    "version": 3
   },
   "file_extension": ".py",
   "mimetype": "text/x-python",
   "name": "python",
   "nbconvert_exporter": "python",
   "pygments_lexer": "ipython3",
   "version": "3.6.4"
  }
 },
 "nbformat": 4,
 "nbformat_minor": 2
}
