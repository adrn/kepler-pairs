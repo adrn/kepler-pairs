{
 "cells": [
  {
   "cell_type": "markdown",
   "metadata": {},
   "source": [
    "## Co-moving stars in Kepler"
   ]
  },
  {
   "cell_type": "markdown",
   "metadata": {},
   "source": [
    "(done in a very hacky way) (but this is probably ok because we're assuming all the stars are far away)"
   ]
  },
  {
   "cell_type": "code",
   "execution_count": 1,
   "metadata": {},
   "outputs": [],
   "source": [
    "import numpy as np\n",
    "from astropy.table import Table, unique\n",
    "from astropy import units as u\n",
    "import astropy.coordinates as coord\n",
    "from astropy.time import Time\n",
    "from astropy.io import fits\n",
    "import matplotlib.pyplot as plt\n",
    "from tqdm import tqdm\n",
    "import pandas as pd"
   ]
  },
  {
   "cell_type": "markdown",
   "metadata": {},
   "source": [
    "Load up the table of all Gaia DR2 sources within the Kepler field:"
   ]
  },
  {
   "cell_type": "code",
   "execution_count": 2,
   "metadata": {},
   "outputs": [],
   "source": [
    "gaia_table_file = '../data/16arcsec/gaia-kepler-dustin.fits'\n",
    "hdul = fits.open(gaia_table_file)\n",
    "gaia_src_tbl = Table(hdul[1].data)"
   ]
  },
  {
   "cell_type": "code",
   "execution_count": 3,
   "metadata": {},
   "outputs": [],
   "source": [
    "#filter = (gaia_src_tbl['phot_g_mean_mag'] >= 18.) & (gaia_src_tbl['parallax'] > 0.01)\n",
    "#gaia_src_tbl = gaia_src_tbl[filter]"
   ]
  },
  {
   "cell_type": "code",
   "execution_count": 4,
   "metadata": {},
   "outputs": [],
   "source": [
    "gaia_src_tbl = gaia_src_tbl.to_pandas()"
   ]
  },
  {
   "cell_type": "markdown",
   "metadata": {},
   "source": [
    "Now load up the Gaia-Kepler cross-match so we can add Kepler IDs to the best-match Gaia sources:"
   ]
  },
  {
   "cell_type": "code",
   "execution_count": 5,
   "metadata": {},
   "outputs": [
    {
     "name": "stdout",
     "output_type": "stream",
     "text": [
      "195830\n"
     ]
    }
   ],
   "source": [
    "kepler_table_file = '../data/kepler_dr2_1arcsec.fits'\n",
    "hdul = fits.open(kepler_table_file)\n",
    "kepler_tbl = Table(hdul[1].data)\n",
    "gaia_kepler_matches = kepler_tbl['kepid', 'kepler_gaia_ang_dist', 'source_id', 'nconfp', 'nkoi', 'planet?']\n",
    "gaia_kepler_matches = gaia_kepler_matches.to_pandas()\n",
    "print(len(gaia_kepler_matches))"
   ]
  },
  {
   "cell_type": "markdown",
   "metadata": {},
   "source": [
    "Trim off the less-good matches so that there's one unique Gaia source per Kepler target:"
   ]
  },
  {
   "cell_type": "code",
   "execution_count": 6,
   "metadata": {},
   "outputs": [
    {
     "name": "stdout",
     "output_type": "stream",
     "text": [
      "193244\n"
     ]
    }
   ],
   "source": [
    "gaia_kepler_matches.sort_values(['kepid', 'kepler_gaia_ang_dist'], inplace=True)\n",
    "gaia_kepler_matches.drop_duplicates('kepid', inplace=True)\n",
    "print(len(gaia_kepler_matches))"
   ]
  },
  {
   "cell_type": "markdown",
   "metadata": {},
   "source": [
    "And join the tables:"
   ]
  },
  {
   "cell_type": "code",
   "execution_count": 7,
   "metadata": {},
   "outputs": [
    {
     "data": {
      "text/plain": [
       "9376693"
      ]
     },
     "execution_count": 7,
     "metadata": {},
     "output_type": "execute_result"
    }
   ],
   "source": [
    "table = gaia_src_tbl.merge(gaia_kepler_matches, on='source_id', how='left')\n",
    "len(table)"
   ]
  },
  {
   "cell_type": "code",
   "execution_count": 8,
   "metadata": {},
   "outputs": [
    {
     "name": "stdout",
     "output_type": "stream",
     "text": [
      "                solution_id                   designation  \\\n",
      "979714  1635721458409799680  Gaia DR2 2105885485289168768   \n",
      "\n",
      "                  source_id  random_index  ref_epoch          ra  ra_error  \\\n",
      "979714  2105885485289168768     486039161     2015.5  285.685012  0.018974   \n",
      "\n",
      "              dec  dec_error  parallax   ...     radius_percentile_lower  \\\n",
      "979714  44.060521   0.020247  0.654823   ...                     1.27356   \n",
      "\n",
      "        radius_percentile_upper  lum_val  lum_percentile_lower  \\\n",
      "979714                 1.658074   2.3351              2.141423   \n",
      "\n",
      "        lum_percentile_upper      kepid  kepler_gaia_ang_dist  nconfp  nkoi  \\\n",
      "979714              2.528777  8151284.0              0.108671     0.0   0.0   \n",
      "\n",
      "        planet?  \n",
      "979714     none  \n",
      "\n",
      "[1 rows x 99 columns]\n"
     ]
    }
   ],
   "source": [
    "test_id = 2105885485289168768\n",
    "print(table[table['source_id'] == test_id])"
   ]
  },
  {
   "cell_type": "markdown",
   "metadata": {},
   "source": [
    "Now load up Dustin's pairs:"
   ]
  },
  {
   "cell_type": "code",
   "execution_count": 9,
   "metadata": {},
   "outputs": [],
   "source": [
    "pairs_file = '../data/16arcsec/matched-pairs-dustin.fits'\n",
    "hdul = fits.open(pairs_file)\n",
    "pairs = hdul[0].data"
   ]
  },
  {
   "cell_type": "markdown",
   "metadata": {},
   "source": [
    "Define some useful functions:"
   ]
  },
  {
   "cell_type": "code",
   "execution_count": null,
   "metadata": {},
   "outputs": [],
   "source": [
    "def make_x(table, table_ind):\n",
    "    \"\"\"\n",
    "    returns a vector of x = [parallax, pmra, pmdec]\n",
    "    \"\"\"\n",
    "    names = ['parallax', 'pmra', 'pmdec']\n",
    "    return table.loc[table_ind, names].values\n",
    "\n",
    "def make_xerr(table, table_ind):\n",
    "    \"\"\"\n",
    "    returns a vector of xerr = [parallax_error, pmra_error, pmdec_error]\n",
    "    \"\"\"\n",
    "    err_names = ['parallax_error', 'pmra_error', 'pmdec_error']\n",
    "    return table.loc[table_ind, err_names].values    \n"
   ]
  },
  {
   "cell_type": "code",
   "execution_count": 10,
   "metadata": {},
   "outputs": [],
   "source": [
    "def ppm_check(table, table_ind1, table_ind2, sigma=5.):\n",
    "    \"\"\"\n",
    "    Returns True if the differences between parallax, pmra, and pmdec are all below \n",
    "    the sigma threshold.\n",
    "    \"\"\"\n",
    "    x1 = make_x(table, table_ind1)\n",
    "    x2 = make_x(table, table_ind2)\n",
    "    if np.any(np.isnan([x1,x2])):\n",
    "        return False\n",
    "    xerr1 = make_xerr(table, table_ind1)\n",
    "    xerr2 = make_xerr(table, table_ind2)\n",
    "    if np.any(np.isnan([xerr1, xerr2])):\n",
    "        return False\n",
    "    if np.any(np.abs(x1 - x2)/np.sqrt(xerr1**2 + xerr2**2) >= sigma):\n",
    "        return False\n",
    "    return True"
   ]
  },
  {
   "cell_type": "code",
   "execution_count": 11,
   "metadata": {},
   "outputs": [],
   "source": [
    "def make_cov(table, table_ind):\n",
    "    \"\"\"\n",
    "    returns covariance matrix C corresponding to x\n",
    "    \"\"\"\n",
    "    names = ['parallax', 'pmra', 'pmdec']\n",
    "    C = np.diag(make_xerr(table, table_ind))\n",
    "    for i, name1 in enumerate(names):\n",
    "        for j, name2 in enumerate(names):\n",
    "            if j >= i:\n",
    "                continue\n",
    "            corr = table.loc[table_ind, \"{0}_{1}_corr\".format(name2, name1)].values\n",
    "            C[i, j] = corr * np.sqrt(C[i, i] * C[j, j])\n",
    "            C[j, i] = C[i, j]\n",
    "    return C\n",
    "\n",
    "def chisq(table, table_ind1, table_ind2):\n",
    "    \"\"\"\n",
    "    calculates chisquared for two stars based on their parallax and 2D proper motions\n",
    "    \"\"\"\n",
    "    deltax = make_x(table, table_ind1) - make_x(table, table_ind2)\n",
    "    cplusc = make_cov(table, table_ind1) + make_cov(table, table_ind1)\n",
    "    return np.dot(deltax, np.linalg.solve(cplusc, deltax))"
   ]
  },
  {
   "cell_type": "code",
   "execution_count": 12,
   "metadata": {},
   "outputs": [],
   "source": [
    "def calc_chisq(table, table_ind1, table_ind2):\n",
    "    if ppm_check(table, table_ind1, table_ind2):\n",
    "        return chisq(table, table_ind1, table_ind2)\n",
    "    else:\n",
    "        return -1"
   ]
  },
  {
   "cell_type": "markdown",
   "metadata": {},
   "source": [
    "Now calculate a goodness-of-fit metric for each pair, skipping over the ones that don't make an initial cut:"
   ]
  },
  {
   "cell_type": "code",
   "execution_count": null,
   "metadata": {},
   "outputs": [
    {
     "name": "stderr",
     "output_type": "stream",
     "text": [
      "18731810it [19:21:49, 268.71it/s]"
     ]
    }
   ],
   "source": [
    "chisqs = np.zeros_like(pairs) - 1.\n",
    "\n",
    "for i,row in tqdm(enumerate(pairs)):\n",
    "    primary_ind = i\n",
    "    match_inds = row[(row > -1) & (row > i)] # ignore non-matches and duplicates\n",
    "    if len(match_inds) > 0:\n",
    "        for j,match_ind in enumerate(match_inds):\n",
    "            chisqs[i,j] = calc_chisq(table, primary_ind, match_ind)"
   ]
  },
  {
   "cell_type": "markdown",
   "metadata": {},
   "source": [
    "Save the outputs and take a look at their distribution:"
   ]
  },
  {
   "cell_type": "code",
   "execution_count": null,
   "metadata": {},
   "outputs": [],
   "source": [
    "hdu = fits.PrimaryHDU(chisqs)\n",
    "hdulist = fits.HDUList([hdu])\n",
    "hdulist.writeto('../data/chisqs_matched-pairs.fits')\n",
    "hdulist.close()"
   ]
  },
  {
   "cell_type": "code",
   "execution_count": 13,
   "metadata": {},
   "outputs": [],
   "source": [
    "# optional - load up already-saved outputs\n",
    "hdul = fits.open('../data/16arcsec/chisqs_matched-pairs-dustin.fits')\n",
    "chisqs = hdul[0].data"
   ]
  },
  {
   "cell_type": "code",
   "execution_count": null,
   "metadata": {},
   "outputs": [],
   "source": [
    "plt.hist(chisqs[(chisqs > 0.) & (chisqs < 10.)], bins=100)\n",
    "plt.xlabel('$\\chi^2$', fontsize=16)\n",
    "plt.ylabel('# Pairs', fontsize=16)\n",
    "plt.yscale('log')\n",
    "plt.savefig('chisq_keplerpairs.png')"
   ]
  },
  {
   "cell_type": "markdown",
   "metadata": {},
   "source": [
    "OK, now let's select the best-fit pairs and save their indicies for easy access:"
   ]
  },
  {
   "cell_type": "code",
   "execution_count": 14,
   "metadata": {},
   "outputs": [
    {
     "data": {
      "text/plain": [
       "1112369"
      ]
     },
     "execution_count": 14,
     "metadata": {},
     "output_type": "execute_result"
    }
   ],
   "source": [
    "matches_mask = (chisqs > 0) & (chisqs < 2)\n",
    "np.sum(matches_mask)"
   ]
  },
  {
   "cell_type": "code",
   "execution_count": 15,
   "metadata": {},
   "outputs": [],
   "source": [
    "len_inds, len_matches = np.shape(pairs)\n",
    "pairs_inds = np.array([np.arange(len_inds),]*len_matches).transpose()\n",
    "pairs_ind1s = pairs_inds[matches_mask]\n",
    "pairs_ind2s = pairs[matches_mask]"
   ]
  },
  {
   "cell_type": "code",
   "execution_count": 16,
   "metadata": {},
   "outputs": [],
   "source": [
    "def read_match_attr(ind1, ind2, attr):\n",
    "    return table.iloc[ind1][attr], table.iloc[ind2][attr]"
   ]
  },
  {
   "cell_type": "code",
   "execution_count": 17,
   "metadata": {},
   "outputs": [
    {
     "name": "stdout",
     "output_type": "stream",
     "text": [
      "source_ids of a pair:\n",
      "(2097438792153786368, 2097438727722672128)\n"
     ]
    }
   ],
   "source": [
    "print(\"source_ids of a pair:\")\n",
    "print(read_match_attr(pairs_ind1s[0], pairs_ind2s[0], 'source_id'))"
   ]
  },
  {
   "cell_type": "markdown",
   "metadata": {},
   "source": [
    "Sanity check: plot the parallax and proper motions of an identified match"
   ]
  },
  {
   "cell_type": "code",
   "execution_count": 18,
   "metadata": {},
   "outputs": [],
   "source": [
    "from plot_tools import error_ellipse\n",
    "fs = 12"
   ]
  },
  {
   "cell_type": "code",
   "execution_count": 19,
   "metadata": {},
   "outputs": [],
   "source": [
    "def plot_xs(i, sigma=1):\n",
    "    x1 = make_x(table.iloc[pairs_ind1s[i]])\n",
    "    cov1 = make_cov(table.iloc[pairs_ind1s[i]])\n",
    "    x2 = make_x(table.iloc[pairs_ind2s[i]])\n",
    "    cov2 = make_cov(table.iloc[pairs_ind2s[i]])\n",
    "    fig = plt.figure(figsize=(12,4))\n",
    "    ax1 = fig.add_subplot(131)\n",
    "    error_ellipse(ax1, x1[0], x1[1], cov1[:2,:2], ec='red', sigma=sigma)\n",
    "    error_ellipse(ax1, x2[0], x2[1], cov2[:2,:2], ec='blue', sigma=sigma)\n",
    "    ax1.set_xlim([min([x1[0], x2[0]]) - 5., max([x1[0], x2[0]]) + 5.])\n",
    "    ax1.set_ylim([min([x1[1], x2[1]]) - 5., max([x1[1], x2[1]]) + 5.])\n",
    "    ax1.set_xlabel('Parallax (mas)', fontsize=fs)\n",
    "    ax1.set_ylabel('PM RA (mas yr$^{-1}$)', fontsize=fs)\n",
    "\n",
    "    ax2 = fig.add_subplot(133)\n",
    "    error_ellipse(ax2, x1[1], x1[2], cov1[1:,1:], ec='red', sigma=sigma)\n",
    "    error_ellipse(ax2, x2[1], x2[2], cov2[1:,1:], ec='blue', sigma=sigma)\n",
    "    ax2.set_xlim([min([x1[1], x2[1]]) - 5., max([x1[1], x2[1]]) + 5.])\n",
    "    ax2.set_ylim([min([x1[2], x2[2]]) - 5., max([x1[2], x2[2]]) + 5.])\n",
    "    ax2.set_xlabel('PM RA (mas yr$^{-1}$)', fontsize=fs)\n",
    "    ax2.set_ylabel('PM Dec (mas yr$^{-1}$)', fontsize=fs)\n",
    "    \n",
    "    ax3 = fig.add_subplot(132)\n",
    "    c1 = np.delete(np.delete(cov1, 1, axis=0), 1, axis=1)\n",
    "    c2 = np.delete(np.delete(cov2, 1, axis=0), 1, axis=1)\n",
    "    error_ellipse(ax3, x1[0], x1[2], c1, ec='red', sigma=sigma)\n",
    "    error_ellipse(ax3, x2[0], x2[2], c2, ec='blue', sigma=sigma)\n",
    "    ax3.set_xlim([min([x1[0], x2[0]]) - 5., max([x1[0], x2[0]]) + 5.])\n",
    "    ax3.set_ylim([min([x1[2], x2[2]]) - 5., max([x1[2], x2[2]]) + 5.])\n",
    "    ax3.set_xlabel('Parallax (mas)', fontsize=fs)\n",
    "    ax3.set_ylabel('PM Dec (mas yr$^{-1}$)', fontsize=fs)\n",
    "    \n",
    "    fig.subplots_adjust(wspace = 0.5)\n",
    "    fig.text(0.5, 0.95, 'match #{0}'.format(i), horizontalalignment='center', \n",
    "             transform=ax3.transAxes, fontsize=fs+2)"
   ]
  },
  {
   "cell_type": "code",
   "execution_count": 29,
   "metadata": {},
   "outputs": [
    {
     "name": "stdout",
     "output_type": "stream",
     "text": [
      "match 206275: source_ids (2128282979523450112, 2128282979524144768)\n"
     ]
    },
    {
     "data": {
      "image/png": "[encoded data removed]",
      "text/plain": [
       "<Figure size 864x288 with 3 Axes>"
      ]
     },
     "metadata": {},
     "output_type": "display_data"
    }
   ],
   "source": [
    "i = np.random.randint(0, len(pairs_ind1s))\n",
    "print(\"match {0}: source_ids {1}\".format(i, \n",
    "            read_match_attr(pairs_ind1s[i], pairs_ind2s[i], 'source_id')))\n",
    "plot_xs(i, sigma=3)"
   ]
  },
  {
   "cell_type": "code",
   "execution_count": 57,
   "metadata": {},
   "outputs": [
    {
     "data": {
      "text/html": [
       "<div>\n",
       "<style scoped>\n",
       "    .dataframe tbody tr th:only-of-type {\n",
       "        vertical-align: middle;\n",
       "    }\n",
       "\n",
       "    .dataframe tbody tr th {\n",
       "        vertical-align: top;\n",
       "    }\n",
       "\n",
       "    .dataframe thead th {\n",
       "        text-align: right;\n",
       "    }\n",
       "</style>\n",
       "<table border=\"1\" class=\"dataframe\">\n",
       "  <thead>\n",
       "    <tr style=\"text-align: right;\">\n",
       "      <th></th>\n",
       "      <th>solution_id</th>\n",
       "      <th>designation</th>\n",
       "      <th>source_id</th>\n",
       "      <th>random_index</th>\n",
       "      <th>ref_epoch</th>\n",
       "      <th>ra</th>\n",
       "      <th>ra_error</th>\n",
       "      <th>dec</th>\n",
       "      <th>dec_error</th>\n",
       "      <th>parallax</th>\n",
       "      <th>parallax_error</th>\n",
       "      <th>parallax_over_error</th>\n",
       "      <th>pmra</th>\n",
       "      <th>pmra_error</th>\n",
       "      <th>pmdec</th>\n",
       "      <th>pmdec_error</th>\n",
       "      <th>ra_dec_corr</th>\n",
       "      <th>ra_parallax_corr</th>\n",
       "      <th>ra_pmra_corr</th>\n",
       "      <th>ra_pmdec_corr</th>\n",
       "      <th>dec_parallax_corr</th>\n",
       "      <th>dec_pmra_corr</th>\n",
       "      <th>dec_pmdec_corr</th>\n",
       "      <th>parallax_pmra_corr</th>\n",
       "      <th>parallax_pmdec_corr</th>\n",
       "      <th>pmra_pmdec_corr</th>\n",
       "      <th>astrometric_n_obs_al</th>\n",
       "      <th>astrometric_n_obs_ac</th>\n",
       "      <th>astrometric_n_good_obs_al</th>\n",
       "      <th>astrometric_n_bad_obs_al</th>\n",
       "      <th>astrometric_gof_al</th>\n",
       "      <th>astrometric_chi2_al</th>\n",
       "      <th>astrometric_excess_noise</th>\n",
       "      <th>astrometric_excess_noise_sig</th>\n",
       "      <th>astrometric_params_solved</th>\n",
       "      <th>astrometric_primary_flag</th>\n",
       "      <th>astrometric_weight_al</th>\n",
       "      <th>astrometric_pseudo_colour</th>\n",
       "      <th>astrometric_pseudo_colour_error</th>\n",
       "      <th>mean_varpi_factor_al</th>\n",
       "      <th>astrometric_matched_observations</th>\n",
       "      <th>visibility_periods_used</th>\n",
       "      <th>astrometric_sigma5d_max</th>\n",
       "      <th>frame_rotator_object_type</th>\n",
       "      <th>matched_observations</th>\n",
       "      <th>duplicated_source</th>\n",
       "      <th>phot_g_n_obs</th>\n",
       "      <th>phot_g_mean_flux</th>\n",
       "      <th>phot_g_mean_flux_error</th>\n",
       "      <th>phot_g_mean_flux_over_error</th>\n",
       "      <th>phot_g_mean_mag</th>\n",
       "      <th>phot_bp_n_obs</th>\n",
       "      <th>phot_bp_mean_flux</th>\n",
       "      <th>phot_bp_mean_flux_error</th>\n",
       "      <th>phot_bp_mean_flux_over_error</th>\n",
       "      <th>phot_bp_mean_mag</th>\n",
       "      <th>phot_rp_n_obs</th>\n",
       "      <th>phot_rp_mean_flux</th>\n",
       "      <th>phot_rp_mean_flux_error</th>\n",
       "      <th>phot_rp_mean_flux_over_error</th>\n",
       "      <th>phot_rp_mean_mag</th>\n",
       "      <th>phot_bp_rp_excess_factor</th>\n",
       "      <th>phot_proc_mode</th>\n",
       "      <th>bp_rp</th>\n",
       "      <th>bp_g</th>\n",
       "      <th>g_rp</th>\n",
       "      <th>radial_velocity</th>\n",
       "      <th>radial_velocity_error</th>\n",
       "      <th>rv_nb_transits</th>\n",
       "      <th>rv_template_teff</th>\n",
       "      <th>rv_template_logg</th>\n",
       "      <th>rv_template_fe_h</th>\n",
       "      <th>phot_variable_flag</th>\n",
       "      <th>l</th>\n",
       "      <th>b</th>\n",
       "      <th>ecl_lon</th>\n",
       "      <th>ecl_lat</th>\n",
       "      <th>priam_flags</th>\n",
       "      <th>teff_val</th>\n",
       "      <th>teff_percentile_lower</th>\n",
       "      <th>teff_percentile_upper</th>\n",
       "      <th>a_g_val</th>\n",
       "      <th>a_g_percentile_lower</th>\n",
       "      <th>a_g_percentile_upper</th>\n",
       "      <th>e_bp_min_rp_val</th>\n",
       "      <th>e_bp_min_rp_percentile_lower</th>\n",
       "      <th>e_bp_min_rp_percentile_upper</th>\n",
       "      <th>flame_flags</th>\n",
       "      <th>radius_val</th>\n",
       "      <th>radius_percentile_lower</th>\n",
       "      <th>radius_percentile_upper</th>\n",
       "      <th>lum_val</th>\n",
       "      <th>lum_percentile_lower</th>\n",
       "      <th>lum_percentile_upper</th>\n",
       "      <th>kepid</th>\n",
       "      <th>kepler_gaia_ang_dist</th>\n",
       "      <th>nconfp</th>\n",
       "      <th>nkoi</th>\n",
       "      <th>planet?</th>\n",
       "    </tr>\n",
       "  </thead>\n",
       "  <tbody>\n",
       "    <tr>\n",
       "      <th>4044875</th>\n",
       "      <td>1635721458409799680</td>\n",
       "      <td>Gaia DR2 2128282979524144768</td>\n",
       "      <td>2128282979524144768</td>\n",
       "      <td>763947618</td>\n",
       "      <td>2015.5</td>\n",
       "      <td>293.057135</td>\n",
       "      <td>0.214137</td>\n",
       "      <td>46.615271</td>\n",
       "      <td>0.252514</td>\n",
       "      <td>-0.002099</td>\n",
       "      <td>0.244176</td>\n",
       "      <td>-0.008595</td>\n",
       "      <td>-2.514595</td>\n",
       "      <td>0.504772</td>\n",
       "      <td>-3.043395</td>\n",
       "      <td>0.579141</td>\n",
       "      <td>0.176803</td>\n",
       "      <td>0.010225</td>\n",
       "      <td>0.064297</td>\n",
       "      <td>0.013858</td>\n",
       "      <td>0.000909</td>\n",
       "      <td>0.013757</td>\n",
       "      <td>-0.225661</td>\n",
       "      <td>-0.115647</td>\n",
       "      <td>-0.138854</td>\n",
       "      <td>0.199341</td>\n",
       "      <td>188</td>\n",
       "      <td>0.0</td>\n",
       "      <td>188</td>\n",
       "      <td>0.0</td>\n",
       "      <td>1.437957</td>\n",
       "      <td>211.176956</td>\n",
       "      <td>0.585387</td>\n",
       "      <td>0.704396</td>\n",
       "      <td>31.0</td>\n",
       "      <td>false</td>\n",
       "      <td>0.211332</td>\n",
       "      <td>1.512166</td>\n",
       "      <td>0.063416</td>\n",
       "      <td>0.120206</td>\n",
       "      <td>22</td>\n",
       "      <td>17</td>\n",
       "      <td>0.535944</td>\n",
       "      <td>0</td>\n",
       "      <td>26</td>\n",
       "      <td>false</td>\n",
       "      <td>222</td>\n",
       "      <td>413.748322</td>\n",
       "      <td>1.272732</td>\n",
       "      <td>325.086761</td>\n",
       "      <td>19.146524</td>\n",
       "      <td>23</td>\n",
       "      <td>267.805939</td>\n",
       "      <td>11.786136</td>\n",
       "      <td>22.722116</td>\n",
       "      <td>19.281837</td>\n",
       "      <td>22</td>\n",
       "      <td>260.017334</td>\n",
       "      <td>7.837690</td>\n",
       "      <td>33.175251</td>\n",
       "      <td>18.724415</td>\n",
       "      <td>1.275711</td>\n",
       "      <td>0</td>\n",
       "      <td>0.557423</td>\n",
       "      <td>0.135313</td>\n",
       "      <td>0.422110</td>\n",
       "      <td>NaN</td>\n",
       "      <td>NaN</td>\n",
       "      <td>0</td>\n",
       "      <td>NaN</td>\n",
       "      <td>NaN</td>\n",
       "      <td>NaN</td>\n",
       "      <td>NOT_AVAILABLE</td>\n",
       "      <td>79.021560</td>\n",
       "      <td>12.894564</td>\n",
       "      <td>312.774067</td>\n",
       "      <td>66.662994</td>\n",
       "      <td>-1</td>\n",
       "      <td>NaN</td>\n",
       "      <td>NaN</td>\n",
       "      <td>NaN</td>\n",
       "      <td>NaN</td>\n",
       "      <td>NaN</td>\n",
       "      <td>NaN</td>\n",
       "      <td>NaN</td>\n",
       "      <td>NaN</td>\n",
       "      <td>NaN</td>\n",
       "      <td>-1</td>\n",
       "      <td>NaN</td>\n",
       "      <td>NaN</td>\n",
       "      <td>NaN</td>\n",
       "      <td>NaN</td>\n",
       "      <td>NaN</td>\n",
       "      <td>NaN</td>\n",
       "      <td>NaN</td>\n",
       "      <td>NaN</td>\n",
       "      <td>NaN</td>\n",
       "      <td>NaN</td>\n",
       "      <td>NaN</td>\n",
       "    </tr>\n",
       "    <tr>\n",
       "      <th>4044881</th>\n",
       "      <td>1635721458409799680</td>\n",
       "      <td>Gaia DR2 2128282979523450112</td>\n",
       "      <td>2128282979523450112</td>\n",
       "      <td>609640258</td>\n",
       "      <td>2015.5</td>\n",
       "      <td>293.058745</td>\n",
       "      <td>0.021553</td>\n",
       "      <td>46.619354</td>\n",
       "      <td>0.025266</td>\n",
       "      <td>0.446509</td>\n",
       "      <td>0.024485</td>\n",
       "      <td>18.236210</td>\n",
       "      <td>0.098653</td>\n",
       "      <td>0.046861</td>\n",
       "      <td>-5.450016</td>\n",
       "      <td>0.047822</td>\n",
       "      <td>0.081148</td>\n",
       "      <td>-0.134729</td>\n",
       "      <td>-0.060617</td>\n",
       "      <td>0.014059</td>\n",
       "      <td>0.193158</td>\n",
       "      <td>0.003429</td>\n",
       "      <td>-0.377089</td>\n",
       "      <td>-0.051817</td>\n",
       "      <td>-0.085055</td>\n",
       "      <td>0.102158</td>\n",
       "      <td>176</td>\n",
       "      <td>176.0</td>\n",
       "      <td>176</td>\n",
       "      <td>0.0</td>\n",
       "      <td>-0.914012</td>\n",
       "      <td>154.025162</td>\n",
       "      <td>0.000000</td>\n",
       "      <td>0.000000</td>\n",
       "      <td>31.0</td>\n",
       "      <td>false</td>\n",
       "      <td>337.532837</td>\n",
       "      <td>1.516280</td>\n",
       "      <td>0.006121</td>\n",
       "      <td>0.218374</td>\n",
       "      <td>20</td>\n",
       "      <td>15</td>\n",
       "      <td>0.038348</td>\n",
       "      <td>0</td>\n",
       "      <td>24</td>\n",
       "      <td>false</td>\n",
       "      <td>210</td>\n",
       "      <td>243104.484375</td>\n",
       "      <td>38.886841</td>\n",
       "      <td>6251.587891</td>\n",
       "      <td>12.223884</td>\n",
       "      <td>24</td>\n",
       "      <td>106008.140625</td>\n",
       "      <td>157.050629</td>\n",
       "      <td>674.993408</td>\n",
       "      <td>12.788040</td>\n",
       "      <td>24</td>\n",
       "      <td>195005.640625</td>\n",
       "      <td>94.702888</td>\n",
       "      <td>2059.130859</td>\n",
       "      <td>11.536802</td>\n",
       "      <td>1.238207</td>\n",
       "      <td>0</td>\n",
       "      <td>1.251238</td>\n",
       "      <td>0.564157</td>\n",
       "      <td>0.687081</td>\n",
       "      <td>31.592958</td>\n",
       "      <td>1.332749</td>\n",
       "      <td>4</td>\n",
       "      <td>5000.0</td>\n",
       "      <td>3.0</td>\n",
       "      <td>-0.25</td>\n",
       "      <td>NOT_AVAILABLE</td>\n",
       "      <td>79.025821</td>\n",
       "      <td>12.895362</td>\n",
       "      <td>312.780688</td>\n",
       "      <td>66.666313</td>\n",
       "      <td>-31071</td>\n",
       "      <td>4842.162598</td>\n",
       "      <td>4711.810059</td>\n",
       "      <td>4972.0</td>\n",
       "      <td>0.097</td>\n",
       "      <td>0.0</td>\n",
       "      <td>0.9841</td>\n",
       "      <td>0.0223</td>\n",
       "      <td>0.0</td>\n",
       "      <td>0.1711</td>\n",
       "      <td>3503</td>\n",
       "      <td>10.55963</td>\n",
       "      <td>10.015329</td>\n",
       "      <td>11.151978</td>\n",
       "      <td>55.226768</td>\n",
       "      <td>50.008797</td>\n",
       "      <td>60.44474</td>\n",
       "      <td>9833831.0</td>\n",
       "      <td>0.059592</td>\n",
       "      <td>0.0</td>\n",
       "      <td>0.0</td>\n",
       "      <td>none</td>\n",
       "    </tr>\n",
       "  </tbody>\n",
       "</table>\n",
       "</div>"
      ],
      "text/plain": [
       "                 solution_id                   designation  \\\n",
       "4044875  1635721458409799680  Gaia DR2 2128282979524144768   \n",
       "4044881  1635721458409799680  Gaia DR2 2128282979523450112   \n",
       "\n",
       "                   source_id  random_index  ref_epoch          ra  ra_error  \\\n",
       "4044875  2128282979524144768     763947618     2015.5  293.057135  0.214137   \n",
       "4044881  2128282979523450112     609640258     2015.5  293.058745  0.021553   \n",
       "\n",
       "               dec  dec_error  parallax  parallax_error  parallax_over_error  \\\n",
       "4044875  46.615271   0.252514 -0.002099        0.244176            -0.008595   \n",
       "4044881  46.619354   0.025266  0.446509        0.024485            18.236210   \n",
       "\n",
       "             pmra  pmra_error     pmdec  pmdec_error  ra_dec_corr  \\\n",
       "4044875 -2.514595    0.504772 -3.043395     0.579141     0.176803   \n",
       "4044881  0.098653    0.046861 -5.450016     0.047822     0.081148   \n",
       "\n",
       "         ra_parallax_corr  ra_pmra_corr  ra_pmdec_corr  dec_parallax_corr  \\\n",
       "4044875          0.010225      0.064297       0.013858           0.000909   \n",
       "4044881         -0.134729     -0.060617       0.014059           0.193158   \n",
       "\n",
       "         dec_pmra_corr  dec_pmdec_corr  parallax_pmra_corr  \\\n",
       "4044875       0.013757       -0.225661           -0.115647   \n",
       "4044881       0.003429       -0.377089           -0.051817   \n",
       "\n",
       "         parallax_pmdec_corr  pmra_pmdec_corr  astrometric_n_obs_al  \\\n",
       "4044875            -0.138854         0.199341                   188   \n",
       "4044881            -0.085055         0.102158                   176   \n",
       "\n",
       "         astrometric_n_obs_ac  astrometric_n_good_obs_al  \\\n",
       "4044875                   0.0                        188   \n",
       "4044881                 176.0                        176   \n",
       "\n",
       "         astrometric_n_bad_obs_al  astrometric_gof_al  astrometric_chi2_al  \\\n",
       "4044875                       0.0            1.437957           211.176956   \n",
       "4044881                       0.0           -0.914012           154.025162   \n",
       "\n",
       "         astrometric_excess_noise  astrometric_excess_noise_sig  \\\n",
       "4044875                  0.585387                      0.704396   \n",
       "4044881                  0.000000                      0.000000   \n",
       "\n",
       "         astrometric_params_solved astrometric_primary_flag  \\\n",
       "4044875                       31.0                    false   \n",
       "4044881                       31.0                    false   \n",
       "\n",
       "         astrometric_weight_al  astrometric_pseudo_colour  \\\n",
       "4044875               0.211332                   1.512166   \n",
       "4044881             337.532837                   1.516280   \n",
       "\n",
       "         astrometric_pseudo_colour_error  mean_varpi_factor_al  \\\n",
       "4044875                         0.063416              0.120206   \n",
       "4044881                         0.006121              0.218374   \n",
       "\n",
       "         astrometric_matched_observations  visibility_periods_used  \\\n",
       "4044875                                22                       17   \n",
       "4044881                                20                       15   \n",
       "\n",
       "         astrometric_sigma5d_max  frame_rotator_object_type  \\\n",
       "4044875                 0.535944                          0   \n",
       "4044881                 0.038348                          0   \n",
       "\n",
       "         matched_observations duplicated_source  phot_g_n_obs  \\\n",
       "4044875                    26             false           222   \n",
       "4044881                    24             false           210   \n",
       "\n",
       "         phot_g_mean_flux  phot_g_mean_flux_error  \\\n",
       "4044875        413.748322                1.272732   \n",
       "4044881     243104.484375               38.886841   \n",
       "\n",
       "         phot_g_mean_flux_over_error  phot_g_mean_mag  phot_bp_n_obs  \\\n",
       "4044875                   325.086761        19.146524             23   \n",
       "4044881                  6251.587891        12.223884             24   \n",
       "\n",
       "         phot_bp_mean_flux  phot_bp_mean_flux_error  \\\n",
       "4044875         267.805939                11.786136   \n",
       "4044881      106008.140625               157.050629   \n",
       "\n",
       "         phot_bp_mean_flux_over_error  phot_bp_mean_mag  phot_rp_n_obs  \\\n",
       "4044875                     22.722116         19.281837             22   \n",
       "4044881                    674.993408         12.788040             24   \n",
       "\n",
       "         phot_rp_mean_flux  phot_rp_mean_flux_error  \\\n",
       "4044875         260.017334                 7.837690   \n",
       "4044881      195005.640625                94.702888   \n",
       "\n",
       "         phot_rp_mean_flux_over_error  phot_rp_mean_mag  \\\n",
       "4044875                     33.175251         18.724415   \n",
       "4044881                   2059.130859         11.536802   \n",
       "\n",
       "         phot_bp_rp_excess_factor  phot_proc_mode     bp_rp      bp_g  \\\n",
       "4044875                  1.275711               0  0.557423  0.135313   \n",
       "4044881                  1.238207               0  1.251238  0.564157   \n",
       "\n",
       "             g_rp  radial_velocity  radial_velocity_error  rv_nb_transits  \\\n",
       "4044875  0.422110              NaN                    NaN               0   \n",
       "4044881  0.687081        31.592958               1.332749               4   \n",
       "\n",
       "         rv_template_teff  rv_template_logg  rv_template_fe_h  \\\n",
       "4044875               NaN               NaN               NaN   \n",
       "4044881            5000.0               3.0             -0.25   \n",
       "\n",
       "        phot_variable_flag          l          b     ecl_lon    ecl_lat  \\\n",
       "4044875      NOT_AVAILABLE  79.021560  12.894564  312.774067  66.662994   \n",
       "4044881      NOT_AVAILABLE  79.025821  12.895362  312.780688  66.666313   \n",
       "\n",
       "         priam_flags     teff_val  teff_percentile_lower  \\\n",
       "4044875           -1          NaN                    NaN   \n",
       "4044881       -31071  4842.162598            4711.810059   \n",
       "\n",
       "         teff_percentile_upper  a_g_val  a_g_percentile_lower  \\\n",
       "4044875                    NaN      NaN                   NaN   \n",
       "4044881                 4972.0    0.097                   0.0   \n",
       "\n",
       "         a_g_percentile_upper  e_bp_min_rp_val  e_bp_min_rp_percentile_lower  \\\n",
       "4044875                   NaN              NaN                           NaN   \n",
       "4044881                0.9841           0.0223                           0.0   \n",
       "\n",
       "         e_bp_min_rp_percentile_upper  flame_flags  radius_val  \\\n",
       "4044875                           NaN           -1         NaN   \n",
       "4044881                        0.1711         3503    10.55963   \n",
       "\n",
       "         radius_percentile_lower  radius_percentile_upper    lum_val  \\\n",
       "4044875                      NaN                      NaN        NaN   \n",
       "4044881                10.015329                11.151978  55.226768   \n",
       "\n",
       "         lum_percentile_lower  lum_percentile_upper      kepid  \\\n",
       "4044875                   NaN                   NaN        NaN   \n",
       "4044881             50.008797              60.44474  9833831.0   \n",
       "\n",
       "         kepler_gaia_ang_dist  nconfp  nkoi planet?  \n",
       "4044875                   NaN     NaN   NaN     NaN  \n",
       "4044881              0.059592     0.0   0.0    none  "
      ]
     },
     "execution_count": 57,
     "metadata": {},
     "output_type": "execute_result"
    }
   ],
   "source": [
    "pd.options.display.max_columns = None\n",
    "src1, src2 = read_match_attr(pairs_ind1s[i], pairs_ind2s[i], 'source_id')\n",
    "table[table['source_id'].isin([src1, src2])]"
   ]
  },
  {
   "cell_type": "code",
   "execution_count": 58,
   "metadata": {},
   "outputs": [
    {
     "name": "stdout",
     "output_type": "stream",
     "text": [
      "saved chisquared = 0.28669\n"
     ]
    }
   ],
   "source": [
    "print(\"saved chisquared = {0:.5f}\".format(chisqs[pairs_ind1s[i]][np.where(pairs[pairs_ind1s[i]] \n",
    "                                                                    == pairs_ind2s[i])[0][0]]))\n"
   ]
  },
  {
   "cell_type": "code",
   "execution_count": 95,
   "metadata": {},
   "outputs": [
    {
     "data": {
      "text/plain": [
       "array([[0.024484733, 0, 0],\n",
       "       [0, 0.046861395, 0],\n",
       "       [0, 0, 0.047821548]], dtype=object)"
      ]
     },
     "execution_count": 95,
     "metadata": {},
     "output_type": "execute_result"
    }
   ],
   "source": [
    "star1 = table[table['source_id'] == src1]\n",
    "star2 = table[table['source_id'] == src2]\n",
    "names = ['parallax', 'pmra', 'pmdec']\n",
    "x1 = table.loc[pairs_ind1s[i], names].values\n",
    "x2 = table.loc[pairs_ind2s[i], names].values\n",
    "err_names = ['parallax_error', 'pmra_error', 'pmdec_error']\n",
    "C = np.diag(table.loc[pairs_ind1s[i], err_names].values)\n",
    "C\n",
    "#x1 = np.array([star1[n].values[0] for n in names])\n",
    "#x2 = np.array([star2[n].values[0] for n in names])\n",
    "#chisq(star1, star2)"
   ]
  },
  {
   "cell_type": "markdown",
   "metadata": {},
   "source": [
    "Questionable matches to check on: 532830, 1065984 (no secondary??), 35263, 206275"
   ]
  },
  {
   "cell_type": "markdown",
   "metadata": {},
   "source": [
    "Let's look at the relative luminosities of each match:"
   ]
  },
  {
   "cell_type": "code",
   "execution_count": null,
   "metadata": {},
   "outputs": [],
   "source": [
    "(gmag1, gmag2) = read_match_attr(pairs_ind1s, pairs_ind2s, 'phot_g_mean_mag')\n",
    "(plx1, plx2) = read_match_attr(pairs_ind1s, pairs_ind2s, 'parallax')\n",
    "dist1 = 1.e3/plx1\n",
    "absg1 = gmag1 - 5.*(np.log10(dist1) - 1.)\n",
    "dist2 = 1.e3/plx2\n",
    "absg2 = gmag2 - 5.*(np.log10(dist2) - 1.)"
   ]
  },
  {
   "cell_type": "markdown",
   "metadata": {},
   "source": [
    "Select only the ones with measured G:"
   ]
  },
  {
   "cell_type": "code",
   "execution_count": null,
   "metadata": {},
   "outputs": [],
   "source": [
    "mask = np.all(np.vstack([np.isfinite(absg1), np.isfinite(absg2)]), axis=0)\n",
    "good_pairs_2d = np.vstack([absg1[mask], absg2[mask]])\n",
    "#good_pairs_2d = np.sort(good_pairs_2d, axis=0) # we could sort by brightness here\n",
    "absg1, absg2 = good_pairs_2d[0], good_pairs_2d[1]"
   ]
  },
  {
   "cell_type": "code",
   "execution_count": null,
   "metadata": {},
   "outputs": [],
   "source": [
    "absg = np.append(absg1, absg2)\n",
    "hist = plt.hist(absg, bins=500)\n",
    "plt.xlim([-5,15])\n",
    "plt.xlabel('G')\n",
    "plt.ylabel('# of stars')\n",
    "plt.savefig('absmag_hist.png')"
   ]
  },
  {
   "cell_type": "code",
   "execution_count": null,
   "metadata": {},
   "outputs": [],
   "source": [
    "from matplotlib.colors import LogNorm\n",
    "plt.hist2d(absg1, absg2, bins=(1000,1000), norm=LogNorm())\n",
    "cbar = plt.colorbar()\n",
    "cbar.ax.set_ylabel('# of stars', rotation=270)\n",
    "plt.xlabel('G$_{1}$')\n",
    "plt.ylabel('G$_{2}$')\n",
    "plt.xlim([-5, 15])\n",
    "plt.ylim([-5, 15])\n",
    "plt.savefig('absmag_pairs.pdf')"
   ]
  },
  {
   "cell_type": "markdown",
   "metadata": {},
   "source": [
    "Now let's see how many of the matches are in the Kepler catalog, and whether any of them have planets!"
   ]
  },
  {
   "cell_type": "code",
   "execution_count": null,
   "metadata": {},
   "outputs": [],
   "source": [
    "ind1_is_kic = np.isfinite(table.iloc[pairs_ind1s]['kepid'])\n",
    "ind2_is_kic = np.isfinite(table.iloc[pairs_ind2s]['kepid'])"
   ]
  },
  {
   "cell_type": "code",
   "execution_count": null,
   "metadata": {},
   "outputs": [],
   "source": [
    "one_is_kic = np.any(np.vstack([ind1_is_kic, ind2_is_kic]), axis=0)\n",
    "both_are_kic = np.all(np.vstack([ind1_is_kic, ind2_is_kic]), axis=0)"
   ]
  },
  {
   "cell_type": "code",
   "execution_count": null,
   "metadata": {},
   "outputs": [],
   "source": [
    "np.sum(both_are_kic)"
   ]
  },
  {
   "cell_type": "code",
   "execution_count": null,
   "metadata": {},
   "outputs": [],
   "source": [
    "for i1, i2 in zip(pairs_ind1s[both_are_kic], pairs_ind2s[both_are_kic]):\n",
    "    print(read_match_attr(i1,i2,'planet?'))"
   ]
  },
  {
   "cell_type": "code",
   "execution_count": null,
   "metadata": {},
   "outputs": [],
   "source": []
  }
 ],
 "metadata": {
  "kernelspec": {
   "display_name": "Python 3",
   "language": "python",
   "name": "python3"
  },
  "language_info": {
   "codemirror_mode": {
    "name": "ipython",
    "version": 3
   },
   "file_extension": ".py",
   "mimetype": "text/x-python",
   "name": "python",
   "nbconvert_exporter": "python",
   "pygments_lexer": "ipython3",
   "version": "3.6.4"
  }
 },
 "nbformat": 4,
 "nbformat_minor": 2
}
