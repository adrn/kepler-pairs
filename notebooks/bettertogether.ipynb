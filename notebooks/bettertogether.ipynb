{
 "cells": [
  {
   "cell_type": "markdown",
   "metadata": {},
   "source": [
    "### BetterTogether (TM)"
   ]
  },
  {
   "cell_type": "code",
   "execution_count": 1,
   "metadata": {},
   "outputs": [],
   "source": [
    "import numpy as np\n",
    "from astropy.table import Table, unique\n",
    "from astropy import units as u\n",
    "import astropy.coordinates as coord\n",
    "from astropy.time import Time\n",
    "from astropy.io import fits\n",
    "import matplotlib.pyplot as plt\n",
    "from tqdm import tqdm\n",
    "import pandas as pd"
   ]
  },
  {
   "cell_type": "code",
   "execution_count": 5,
   "metadata": {},
   "outputs": [],
   "source": [
    "cutoff = int(14e6)"
   ]
  },
  {
   "cell_type": "code",
   "execution_count": 7,
   "metadata": {},
   "outputs": [],
   "source": [
    "gaia_table_file = '../data/gaia-kepler-dustin.fits'\n",
    "hdul = fits.open(gaia_table_file)\n",
    "gaia_src_tbl = Table(hdul[1].data[:cutoff])\n",
    "gaia_src_tbl = gaia_src_tbl.to_pandas()"
   ]
  },
  {
   "cell_type": "code",
   "execution_count": 20,
   "metadata": {},
   "outputs": [],
   "source": [
    "pairs_file = '../data/matched-pairs-dustin.fits'\n",
    "hdul = fits.open(pairs_file)\n",
    "pairs = hdul[0].data[:cutoff]\n",
    "#pairs = pd.DataFrame(data=pairs)"
   ]
  },
  {
   "cell_type": "code",
   "execution_count": 9,
   "metadata": {},
   "outputs": [],
   "source": [
    "hdul = fits.open('../data/chisqs_matched-pairs_first14m.fits')\n",
    "chisqs = hdul[0].data[:cutoff]"
   ]
  },
  {
   "cell_type": "markdown",
   "metadata": {},
   "source": [
    "Make a chi-squared cut & assemble the best pairs:"
   ]
  },
  {
   "cell_type": "code",
   "execution_count": 10,
   "metadata": {},
   "outputs": [
    {
     "data": {
      "image/png": "[encoded data removed]",
      "text/plain": [
       "<Figure size 432x288 with 1 Axes>"
      ]
     },
     "metadata": {},
     "output_type": "display_data"
    }
   ],
   "source": [
    "plt.hist(chisqs[(chisqs > 0.) & (chisqs < 100.)], bins=1000)\n",
    "plt.xlabel('$\\chi^2$', fontsize=16)\n",
    "plt.ylabel('# Pairs', fontsize=16)\n",
    "plt.yscale('log')\n",
    "plt.savefig('chisq_keplerpairs.png')"
   ]
  },
  {
   "cell_type": "code",
   "execution_count": 11,
   "metadata": {},
   "outputs": [
    {
     "data": {
      "text/plain": [
       "11112529"
      ]
     },
     "execution_count": 11,
     "metadata": {},
     "output_type": "execute_result"
    }
   ],
   "source": [
    "matches_mask = (chisqs > 0) & (chisqs < 3)\n",
    "np.sum(matches_mask)"
   ]
  },
  {
   "cell_type": "code",
   "execution_count": 14,
   "metadata": {},
   "outputs": [
    {
     "data": {
      "text/plain": [
       "(14000000, 169)"
      ]
     },
     "execution_count": 14,
     "metadata": {},
     "output_type": "execute_result"
    }
   ],
   "source": [
    "matches_mask.shape"
   ]
  },
  {
   "cell_type": "code",
   "execution_count": 172,
   "metadata": {},
   "outputs": [
    {
     "data": {
      "text/plain": [
       "(14000000, 169)"
      ]
     },
     "execution_count": 172,
     "metadata": {},
     "output_type": "execute_result"
    }
   ],
   "source": [
    "pairs.shape"
   ]
  },
  {
   "cell_type": "code",
   "execution_count": 173,
   "metadata": {},
   "outputs": [],
   "source": [
    "len_inds, len_matches = np.shape(pairs)\n",
    "pairs_inds = np.array([np.arange(len_inds),]*len_matches).transpose()\n",
    "pairs_ind1s = pairs_inds[matches_mask]"
   ]
  },
  {
   "cell_type": "code",
   "execution_count": 174,
   "metadata": {},
   "outputs": [],
   "source": [
    "pairs_ind2s = pairs[matches_mask]"
   ]
  },
  {
   "cell_type": "markdown",
   "metadata": {},
   "source": [
    "Now let's select a random subset of 2048 pairs. We're actually going to select a larger subset and then grab only the ones where both members have significantly non-zero parallaxes."
   ]
  },
  {
   "cell_type": "code",
   "execution_count": 175,
   "metadata": {},
   "outputs": [],
   "source": [
    "np.random.seed(42)\n",
    "rand_inds = np.random.randint(0, len(pairs_ind1s), 50000)\n",
    "pairs_ind1s = pairs_ind1s[rand_inds]\n",
    "pairs_ind2s = pairs_ind2s[rand_inds]"
   ]
  },
  {
   "cell_type": "code",
   "execution_count": 176,
   "metadata": {},
   "outputs": [
    {
     "data": {
      "text/plain": [
       "array([ 6612489,  7271172, 13745712, ...,  3776889,  4780814,  8109697])"
      ]
     },
     "execution_count": 176,
     "metadata": {},
     "output_type": "execute_result"
    }
   ],
   "source": [
    "pairs_ind1s"
   ]
  },
  {
   "cell_type": "code",
   "execution_count": 177,
   "metadata": {},
   "outputs": [],
   "source": [
    "def make_x(star):\n",
    "    \"\"\"\n",
    "    returns a vector of x = [parallax, pmra, pmdec]\n",
    "    \"\"\"\n",
    "    names = ['parallax', 'pmra', 'pmdec']\n",
    "    return star.loc[names].values.astype('f')\n",
    "\n",
    "def make_xerr(star):\n",
    "    \"\"\"\n",
    "    returns a vector of xerr = [parallax_error, pmra_error, pmdec_error]\n",
    "    \"\"\"\n",
    "    err_names = ['parallax_error', 'pmra_error', 'pmdec_error']\n",
    "    return star.loc[err_names].values.astype('f')   \n",
    "\n",
    "def make_cov(star):\n",
    "    \"\"\"\n",
    "    returns covariance matrix C corresponding to x\n",
    "    \"\"\"\n",
    "    names = ['parallax', 'pmra', 'pmdec']\n",
    "    C = np.diag(make_xerr(star)**2)\n",
    "    for i, name1 in enumerate(names):\n",
    "        for j, name2 in enumerate(names):\n",
    "            if j >= i:\n",
    "                continue\n",
    "            corr = star.loc[\"{0}_{1}_corr\".format(name2, name1)]\n",
    "            C[i, j] = corr * np.sqrt(C[i, i] * C[j, j])\n",
    "            C[j, i] = C[i, j]\n",
    "    return C"
   ]
  },
  {
   "cell_type": "code",
   "execution_count": 178,
   "metadata": {},
   "outputs": [],
   "source": [
    "def chisq_nonzero(star):\n",
    "    \"\"\"\n",
    "    Chisquared-like metric to diagnose how different from zero the parallax is\n",
    "    \"\"\"\n",
    "    x = make_x(star)\n",
    "    cov = make_cov(star)\n",
    "    return np.dot(x, np.linalg.solve(cov, x))"
   ]
  },
  {
   "cell_type": "code",
   "execution_count": 179,
   "metadata": {},
   "outputs": [
    {
     "name": "stderr",
     "output_type": "stream",
     "text": [
      "100%|██████████| 50000/50000 [01:35<00:00, 524.99it/s]\n"
     ]
    }
   ],
   "source": [
    "nonzero_mask = np.zeros_like(pairs_ind1s, dtype=bool)\n",
    "for i in tqdm(range(len(nonzero_mask))):\n",
    "    star1 = gaia_src_tbl.iloc[pairs_ind1s[i]]\n",
    "    try:\n",
    "        star2 = gaia_src_tbl.iloc[pairs_ind2s[i]]\n",
    "    except: # catches error when match index isn't part of the loaded table subset\n",
    "        continue\n",
    "    chisq_nonzero1 = chisq_nonzero(star1)\n",
    "    chisq_nonzero2 = chisq_nonzero(star2)\n",
    "    if (chisq_nonzero1 >= 5) and (chisq_nonzero2 >= 5):\n",
    "        if (star1['parallax'] >= 0.) and (star2['parallax'] >= 0.):\n",
    "            nonzero_mask[i] = True"
   ]
  },
  {
   "cell_type": "code",
   "execution_count": 180,
   "metadata": {},
   "outputs": [
    {
     "data": {
      "text/plain": [
       "22369"
      ]
     },
     "execution_count": 180,
     "metadata": {},
     "output_type": "execute_result"
    }
   ],
   "source": [
    "np.sum(nonzero_mask)"
   ]
  },
  {
   "cell_type": "code",
   "execution_count": 181,
   "metadata": {},
   "outputs": [],
   "source": [
    "pairs_ind1s = pairs_ind1s[nonzero_mask][:2048]\n",
    "pairs_ind2s = pairs_ind2s[nonzero_mask][:2048]"
   ]
  },
  {
   "cell_type": "markdown",
   "metadata": {},
   "source": [
    "Calculate luminosities:"
   ]
  },
  {
   "cell_type": "code",
   "execution_count": 182,
   "metadata": {},
   "outputs": [],
   "source": [
    "def read_match_attr(ind1, ind2, attr):\n",
    "    return gaia_src_tbl.iloc[ind1][attr].values, gaia_src_tbl.iloc[ind2][attr].values"
   ]
  },
  {
   "cell_type": "code",
   "execution_count": 183,
   "metadata": {},
   "outputs": [],
   "source": [
    "(gmag1, gmag2) = read_match_attr(pairs_ind1s, pairs_ind2s, 'phot_g_mean_mag')\n",
    "(plx1, plx2) = read_match_attr(pairs_ind1s, pairs_ind2s, 'parallax')\n",
    "dist1 = 1.e3/plx1\n",
    "absg1 = gmag1 - 5.*(np.log10(dist1) - 1.)\n",
    "dist2 = 1.e3/plx2\n",
    "absg2 = gmag2 - 5.*(np.log10(dist2) - 1.)"
   ]
  },
  {
   "cell_type": "code",
   "execution_count": 184,
   "metadata": {},
   "outputs": [
    {
     "data": {
      "text/plain": [
       "array([ 4.276554 ,  8.403652 , 10.775026 , ...,  6.035205 ,  5.972205 ,\n",
       "       -2.4999619], dtype=float32)"
      ]
     },
     "execution_count": 184,
     "metadata": {},
     "output_type": "execute_result"
    }
   ],
   "source": [
    "absg1"
   ]
  },
  {
   "cell_type": "markdown",
   "metadata": {},
   "source": [
    "Now grab the fainter of each pair and make a CMD:"
   ]
  },
  {
   "cell_type": "code",
   "execution_count": 185,
   "metadata": {},
   "outputs": [],
   "source": [
    "#pairs_2d = np.vstack([pairs_ind1s, pairs_ind2s])\n",
    "#absgs_2d = np.vstack([absg1, absg2])\n",
    "#argsort_absgs_2d = np.argsort(absgs_2d, axis=0)"
   ]
  },
  {
   "cell_type": "code",
   "execution_count": 186,
   "metadata": {},
   "outputs": [],
   "source": [
    "# this is dumb but I can't figure out how to make the argsort method work:\n",
    "pairs_indfaints = np.zeros_like(pairs_ind1s)\n",
    "pairs_indbrights = np.zeros_like(pairs_ind1s)\n",
    "for i in range(2048):\n",
    "    if absg1[i] > absg2[i]:\n",
    "        pairs_indfaints[i] = pairs_ind1s[i]\n",
    "        pairs_indbrights[i] = pairs_ind2s[i]\n",
    "    else:\n",
    "        pairs_indfaints[i] = pairs_ind2s[i]\n",
    "        pairs_indbrights[i] = pairs_ind1s[i]        "
   ]
  },
  {
   "cell_type": "code",
   "execution_count": 187,
   "metadata": {},
   "outputs": [],
   "source": [
    "np.savetxt('../data/bettertogetherpairs.txt', np.vstack([pairs_indfaints, pairs_indbrights]).T, \n",
    "           header='pairs_indfaints, pairs_indbrights', delimiter=',', fmt='%.0i')"
   ]
  },
  {
   "cell_type": "code",
   "execution_count": 202,
   "metadata": {},
   "outputs": [],
   "source": [
    "(gmag1, gmag2) = read_match_attr(pairs_indfaints, pairs_indbrights, 'phot_g_mean_mag')\n",
    "(plx1, plx2) = read_match_attr(pairs_indfaints, pairs_indbrights, 'parallax')\n",
    "(plx1e, plx2e) = read_match_attr(pairs_indfaints, pairs_indbrights, 'parallax_error')\n",
    "dist1a = 1.e3/(plx1 + plx1e)\n",
    "tiny = 1e-6\n",
    "dist1b = 1.e3/np.clip(plx1 - plx1e, tiny, np.Inf)\n",
    "absg1a = gmag1 - 5.*(np.log10(dist1a) - 1.)\n",
    "absg1b = gmag1 - 5.*(np.log10(dist1b) - 1.)\n",
    "dist2 = 1.e3/plx2\n",
    "absg2 = gmag2 - 5.*(np.log10(dist2) - 1.)"
   ]
  },
  {
   "cell_type": "code",
   "execution_count": 203,
   "metadata": {},
   "outputs": [
    {
     "data": {
      "text/plain": [
       "0.69909096"
      ]
     },
     "execution_count": 203,
     "metadata": {},
     "output_type": "execute_result"
    }
   ],
   "source": [
    "absg1a.min()"
   ]
  },
  {
   "cell_type": "code",
   "execution_count": 204,
   "metadata": {},
   "outputs": [],
   "source": [
    "(bp_rp1, bp_rp2) = read_match_attr(pairs_indfaints, pairs_indbrights, 'bp_rp')"
   ]
  },
  {
   "cell_type": "code",
   "execution_count": 212,
   "metadata": {},
   "outputs": [
    {
     "data": {
      "text/plain": [
       "(-0.8, 4.2)"
      ]
     },
     "execution_count": 212,
     "metadata": {},
     "output_type": "execute_result"
    },
    {
     "data": {
      "image/png": "[encoded data removed]",
      "text/plain": [
       "<Figure size 432x288 with 1 Axes>"
      ]
     },
     "metadata": {},
     "output_type": "display_data"
    }
   ],
   "source": [
    "#plt.scatter(bp_rp1, absg1, color='k', alpha=0.05)\n",
    "for c, (a, b) in zip(bp_rp1, zip(absg1a, absg1b)):\n",
    "    if np.abs(a - b) < 1.0:\n",
    "        plt.plot([c, c], [a, b], 'k-', alpha=0.3)\n",
    "plt.ylim([17,-7])\n",
    "plt.xlim([-0.8, 4.2])"
   ]
  },
  {
   "cell_type": "markdown",
   "metadata": {},
   "source": [
    "Let's now combine the parallax measurements to get better constraints:"
   ]
  },
  {
   "cell_type": "code",
   "execution_count": 192,
   "metadata": {},
   "outputs": [],
   "source": [
    "better_plx = []\n",
    "better_plx_err = []\n",
    "for i1, i2 in zip(pairs_indfaints, pairs_indbrights):\n",
    "    star1 = gaia_src_tbl.iloc[i1]\n",
    "    star2 = gaia_src_tbl.iloc[i2]\n",
    "    cinv1 = np.linalg.inv(make_cov(star1))\n",
    "    cinv2 = np.linalg.inv(make_cov(star2))\n",
    "    C = np.linalg.inv(cinv1 + cinv2)\n",
    "    x = np.dot(C, np.dot(cinv1, make_x(star1)) \n",
    "                      + np.dot(cinv2, make_x(star2)))\n",
    "    better_plx.append(x[0])\n",
    "    better_plx_err.append(np.sqrt(C[0,0]))\n",
    "better_plx = np.array(better_plx)\n",
    "better_plx_err = np.array(better_plx_err)"
   ]
  },
  {
   "cell_type": "code",
   "execution_count": 193,
   "metadata": {},
   "outputs": [
    {
     "data": {
      "text/plain": [
       "array([0.45888698, 0.29040897, 0.30533832, ..., 0.42213014, 0.94887006,\n",
       "       0.13729498], dtype=float32)"
      ]
     },
     "execution_count": 193,
     "metadata": {},
     "output_type": "execute_result"
    }
   ],
   "source": [
    "better_plx"
   ]
  },
  {
   "cell_type": "code",
   "execution_count": 194,
   "metadata": {},
   "outputs": [
    {
     "data": {
      "text/plain": [
       "array([0.53853124, 0.3551078 , 1.5688819 , ..., 0.9874631 , 1.0658442 ,\n",
       "       0.17998673], dtype=float32)"
      ]
     },
     "execution_count": 194,
     "metadata": {},
     "output_type": "execute_result"
    }
   ],
   "source": [
    "plx1"
   ]
  },
  {
   "cell_type": "code",
   "execution_count": 207,
   "metadata": {},
   "outputs": [
    {
     "name": "stderr",
     "output_type": "stream",
     "text": [
      "/Users/mbedell/miniconda3/lib/python3.6/site-packages/ipykernel_launcher.py:4: RuntimeWarning: invalid value encountered in log10\n",
      "  after removing the cwd from sys.path.\n"
     ]
    }
   ],
   "source": [
    "better_dist1a = 1.e3/(better_plx + better_plx_err)\n",
    "tiny = 1e-6\n",
    "better_dist1b = 1.e3/np.clip(better_plx - better_plx_err, tiny, np.Inf)\n",
    "better_absg1a = gmag1 - 5.*(np.log10(better_dist1a) - 1.)\n",
    "better_absg1b = gmag1 - 5.*(np.log10(better_dist1b) - 1.)"
   ]
  },
  {
   "cell_type": "code",
   "execution_count": 214,
   "metadata": {},
   "outputs": [
    {
     "data": {
      "text/plain": [
       "(-0.8, 4.2)"
      ]
     },
     "execution_count": 214,
     "metadata": {},
     "output_type": "execute_result"
    },
    {
     "data": {
      "image/png": "[encoded data removed]",
      "text/plain": [
       "<Figure size 432x288 with 1 Axes>"
      ]
     },
     "metadata": {},
     "output_type": "display_data"
    }
   ],
   "source": [
    "for c, (a, b) in zip(bp_rp1, zip(better_absg1a, better_absg1b)):\n",
    "    if np.abs(a - b) < 1.0:\n",
    "        plt.plot([c, c], [a, b], 'k-', alpha=0.3)\n",
    "plt.ylim([17,-7])\n",
    "plt.xlim([-0.8, 4.2])"
   ]
  },
  {
   "cell_type": "code",
   "execution_count": null,
   "metadata": {},
   "outputs": [],
   "source": []
  }
 ],
 "metadata": {
  "kernelspec": {
   "display_name": "Python 3",
   "language": "python",
   "name": "python3"
  },
  "language_info": {
   "codemirror_mode": {
    "name": "ipython",
    "version": 3
   },
   "file_extension": ".py",
   "mimetype": "text/x-python",
   "name": "python",
   "nbconvert_exporter": "python",
   "pygments_lexer": "ipython3",
   "version": "3.6.4"
  }
 },
 "nbformat": 4,
 "nbformat_minor": 2
}
